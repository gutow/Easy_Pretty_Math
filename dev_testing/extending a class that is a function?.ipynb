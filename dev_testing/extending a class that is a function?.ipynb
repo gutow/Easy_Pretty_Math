{
 "cells": [
  {
   "cell_type": "code",
   "execution_count": null,
   "metadata": {},
   "outputs": [],
   "source": [
    "class tstfunc():\n",
    "    def __init__(self,name):\n",
    "        self.__name__=name\n",
    "        #inject into global namespace\n",
    "        globals()[self.__name__]=self.dosomething\n",
    "        pass\n",
    "    \n",
    "    def dosomething(self,sym):\n",
    "        print(str(self.__name__)+' received this symbol:'+str(sym))"
   ]
  },
  {
   "cell_type": "code",
   "execution_count": null,
   "metadata": {},
   "outputs": [],
   "source": [
    "tstfunc('sillyfunc')"
   ]
  },
  {
   "cell_type": "code",
   "execution_count": null,
   "metadata": {},
   "outputs": [],
   "source": [
    "sillyfunc('hello')"
   ]
  },
  {
   "cell_type": "code",
   "execution_count": null,
   "metadata": {},
   "outputs": [],
   "source": [
    "sillyfunc=tstfunc('sillyfunc')"
   ]
  },
  {
   "cell_type": "code",
   "execution_count": null,
   "metadata": {},
   "outputs": [],
   "source": [
    "sillyfunc.dosomething('hello')"
   ]
  },
  {
   "cell_type": "code",
   "execution_count": null,
   "metadata": {},
   "outputs": [],
   "source": [
    "sillyfunc.__name__"
   ]
  },
  {
   "cell_type": "code",
   "execution_count": null,
   "metadata": {},
   "outputs": [],
   "source": [
    "sillyfunc('try2')"
   ]
  },
  {
   "cell_type": "code",
   "execution_count": null,
   "metadata": {},
   "outputs": [],
   "source": [
    "tstfunc('silly2')"
   ]
  },
  {
   "cell_type": "code",
   "execution_count": null,
   "metadata": {},
   "outputs": [],
   "source": [
    "str.c"
   ]
  },
  {
   "cell_type": "code",
   "execution_count": null,
   "metadata": {},
   "outputs": [],
   "source": [
    "silly2('try2')"
   ]
  },
  {
   "cell_type": "code",
   "execution_count": null,
   "metadata": {},
   "outputs": [],
   "source": [
    "class tst2(tstfunc):\n",
    "    def dosomething(self,sym):\n",
    "        if (type(sym) is str):\n",
    "            sym=sym.capitalize()\n",
    "        super(tst2,self).dosomething(sym)"
   ]
  },
  {
   "cell_type": "code",
   "execution_count": null,
   "metadata": {},
   "outputs": [],
   "source": [
    "tst2('silly3')\n",
    "silly3('cap this')"
   ]
  },
  {
   "cell_type": "code",
   "execution_count": null,
   "metadata": {},
   "outputs": [],
   "source": [
    "silly3(silly2)"
   ]
  },
  {
   "cell_type": "code",
   "execution_count": null,
   "metadata": {},
   "outputs": [],
   "source": [
    "silly2(\"hello\")"
   ]
  },
  {
   "cell_type": "code",
   "execution_count": null,
   "metadata": {},
   "outputs": [],
   "source": [
    "silly3(\"hello\")"
   ]
  },
  {
   "cell_type": "code",
   "execution_count": 7,
   "metadata": {},
   "outputs": [],
   "source": [
    "from sympy import sin as spsin\n",
    "from sympy import latex as splatex\n",
    "from sympy import var as spvar\n",
    "from IPython.display import HTML\n",
    "\n",
    "def search_globals(var):\n",
    "    string_name = ''\n",
    "    for var_name in globals():\n",
    "        if (globals()[var_name]==var) and not (var_name.startswith('_')):\n",
    "            string_name = var_name\n",
    "    return string_name\n",
    "\n",
    "class sin(spsin):\n",
    "    def __new__(cls, *arg, **kwargs):\n",
    "        # really need to plug into the function base class  where it decides what to do.\n",
    "        display_op=kwargs.pop('display_op',None) # For getting nice display from bare function.\n",
    "        try:\n",
    "            dmo_auto = globals()['_dmo_auto_']\n",
    "        except KeyError:\n",
    "            dmo_auto=False\n",
    "        if (display_op==False): #force overide of dmo_auto\n",
    "            dmo_auto=False\n",
    "        if (dmo_auto) or (display_op):\n",
    "            cls._dmo(cls,*arg,**kwargs)\n",
    "        return(super().__new__(cls, *arg, **kwargs))\n",
    "    \n",
    "    def _dmo(cls, *arg, **kwargs):\n",
    "        result=super().__new__(cls, *arg, **kwargs)\n",
    "        namestr=search_globals(*arg)\n",
    "        ltop1=''\n",
    "        kwargs['evaluate']=False\n",
    "        if not(namestr==''):\n",
    "            #oper1=spsin(namestr,evaluate=False)\n",
    "            oper1=super().__new__(cls, namestr, **kwargs)\n",
    "            ltop1=splatex(oper1)+'='\n",
    "        oper=super().__new__(cls, *arg, **kwargs)\n",
    "        ltoper=''\n",
    "        if not(oper==result):\n",
    "            ltoper=splatex(oper)+'='            \n",
    "        display(HTML('$$'+ltop1+ltoper+splatex(result)+'$$'))\n",
    "        "
   ]
  },
  {
   "cell_type": "code",
   "execution_count": 8,
   "metadata": {},
   "outputs": [
    {
     "data": {
      "text/plain": [
       "sympy.core.function.FunctionClass"
      ]
     },
     "execution_count": 8,
     "metadata": {},
     "output_type": "execute_result"
    }
   ],
   "source": [
    "type(sin)"
   ]
  },
  {
   "cell_type": "code",
   "execution_count": 13,
   "metadata": {},
   "outputs": [
    {
     "data": {
      "text/html": [
       "$$\\sin{\\left(1.57 \\right)}=0.999999682931835$$"
      ],
      "text/plain": [
       "<IPython.core.display.HTML object>"
      ]
     },
     "metadata": {},
     "output_type": "display_data"
    },
    {
     "data": {
      "text/latex": [
       "$\\displaystyle 0.999999682931835$"
      ],
      "text/plain": [
       "0.999999682931835"
      ]
     },
     "execution_count": 13,
     "metadata": {},
     "output_type": "execute_result"
    }
   ],
   "source": [
    "sin(3.14/2,display_op=True)"
   ]
  },
  {
   "cell_type": "code",
   "execution_count": 16,
   "metadata": {},
   "outputs": [
    {
     "data": {
      "text/html": [
       "$$\\sin{\\left(\\frac{\\pi}{2} \\right)}=1$$"
      ],
      "text/plain": [
       "<IPython.core.display.HTML object>"
      ]
     },
     "metadata": {},
     "output_type": "display_data"
    },
    {
     "data": {
      "text/latex": [
       "$\\displaystyle 1$"
      ],
      "text/plain": [
       "1"
      ]
     },
     "execution_count": 16,
     "metadata": {},
     "output_type": "execute_result"
    }
   ],
   "source": [
    "from sympy import pi as sppi\n",
    "sin(sppi/2,display_op=True)"
   ]
  },
  {
   "cell_type": "code",
   "execution_count": 11,
   "metadata": {},
   "outputs": [
    {
     "data": {
      "text/html": [
       "$$\\sin{\\left(\\frac{a b}{c^{2}} \\right)}$$"
      ],
      "text/plain": [
       "<IPython.core.display.HTML object>"
      ]
     },
     "metadata": {},
     "output_type": "display_data"
    },
    {
     "data": {
      "text/latex": [
       "$\\displaystyle \\sin{\\left(\\frac{a b}{c^{2}} \\right)}$"
      ],
      "text/plain": [
       "sin(a*b/c**2)"
      ]
     },
     "execution_count": 11,
     "metadata": {},
     "output_type": "execute_result"
    }
   ],
   "source": [
    "spvar('a b c')\n",
    "sin(a*b/c**2,display_op=True)"
   ]
  },
  {
   "cell_type": "code",
   "execution_count": 12,
   "metadata": {},
   "outputs": [
    {
     "data": {
      "text/html": [
       "$$\\sin{\\left(t \\right)}=\\sin{\\left(a + \\frac{b}{c} \\right)}$$"
      ],
      "text/plain": [
       "<IPython.core.display.HTML object>"
      ]
     },
     "metadata": {},
     "output_type": "display_data"
    },
    {
     "data": {
      "text/latex": [
       "$\\displaystyle \\sin{\\left(a + \\frac{b}{c} \\right)}$"
      ],
      "text/plain": [
       "sin(a + b/c)"
      ]
     },
     "execution_count": 12,
     "metadata": {},
     "output_type": "execute_result"
    }
   ],
   "source": [
    "t=a+b/c\n",
    "sin(t,display_op=True)"
   ]
  },
  {
   "cell_type": "code",
   "execution_count": null,
   "metadata": {},
   "outputs": [],
   "source": [
    "from sympy import core\n",
    "sympy.core?"
   ]
  },
  {
   "cell_type": "code",
   "execution_count": null,
   "metadata": {},
   "outputs": [],
   "source": [
    "from sympy import function as spfunction\n",
    "spfunction."
   ]
  },
  {
   "cell_type": "code",
   "execution_count": 24,
   "metadata": {},
   "outputs": [
    {
     "name": "stdout",
     "output_type": "stream",
     "text": [
      "class tstclass():\n",
      "    pass\n",
      "\n"
     ]
    }
   ],
   "source": [
    "classdecl='class tstclass():\\n    pass\\n'\n",
    "print(classdecl)\n",
    "exec(classdecl)"
   ]
  },
  {
   "cell_type": "code",
   "execution_count": 21,
   "metadata": {},
   "outputs": [],
   "source": [
    "class tstclass():\n",
    "    pass"
   ]
  },
  {
   "cell_type": "code",
   "execution_count": 22,
   "metadata": {},
   "outputs": [
    {
     "data": {
      "text/plain": [
       "type"
      ]
     },
     "execution_count": 22,
     "metadata": {},
     "output_type": "execute_result"
    }
   ],
   "source": [
    "type(tstclass)"
   ]
  },
  {
   "cell_type": "code",
   "execution_count": 23,
   "metadata": {},
   "outputs": [
    {
     "data": {
      "text/plain": [
       "__main__.tstclass"
      ]
     },
     "execution_count": 23,
     "metadata": {},
     "output_type": "execute_result"
    }
   ],
   "source": [
    "tstclass"
   ]
  },
  {
   "cell_type": "code",
   "execution_count": 25,
   "metadata": {},
   "outputs": [
    {
     "data": {
      "text/plain": [
       "'t'"
      ]
     },
     "execution_count": 25,
     "metadata": {},
     "output_type": "execute_result"
    }
   ],
   "source": [
    "search_globals(a+b/c)"
   ]
  },
  {
   "cell_type": "code",
   "execution_count": 26,
   "metadata": {},
   "outputs": [
    {
     "data": {
      "text/plain": [
       "{'__name__': '__main__',\n",
       " '__doc__': 'Automatically created module for IPython interactive environment',\n",
       " '__package__': None,\n",
       " '__loader__': None,\n",
       " '__spec__': None,\n",
       " '__builtin__': <module 'builtins' (built-in)>,\n",
       " '__builtins__': <module 'builtins' (built-in)>,\n",
       " '_ih': ['',\n",
       "  \"from sympy import sin as spsin\\nfrom sympy import latex as splatex\\nfrom sympy import var as spvar\\nfrom IPython.display import HTML\\n\\ndef search_globals(var):\\n    string_name = ''\\n    for var_name in globals():\\n        if (globals()[var_name]==var) and not (var_name.startswith('_')):\\n            string_name = var_name\\n    return string_name\\n\\nclass sin(spsin):\\n    def __new__(cls, *arg, **kwargs):\\n        # really need to plug into the function base class  where it decides what to do.\\n        display_op=kwargs.pop('display_op',None) # For getting nice display from bare function.\\n        try:\\n            dmo_auto = globals()['_dmo_auto_']\\n        except KeyError:\\n            dmo_auto=False\\n        if (display_op==False): #force overide of dmo_auto\\n            dmo_auto=False\\n        if (dmo_auto) or (display_op):\\n            cls._dmo(cls,*arg,**kwargs)\\n        return(super().__new__(cls, *arg, **kwargs))\\n    \\n    def _dmo(cls, *arg, **kwargs):\\n        result=super().__new__(cls, *arg, **kwargs)\\n        namestr=search_globals(*arg)\\n        ltop1=''\\n        kwargs['evaluate']=False\\n        if not(namestr==''):\\n            #oper1=spsin(namestr,evaluate=False)\\n            oper1=super().__new__(cls, namestr, **kwargs)\\n            ltop1=splatex(oper1)+'='\\n        oper=super().__new__(cls, *arg, **kwargs)\\n        ltoper=''\\n        if not(oper==result):\\n            ltoper=splatex(oper)+'='            \\n        display(HTML('$'+ltop1+ltoper+splatex(result)+'$'))\\n        \",\n",
       "  'type(sin)',\n",
       "  'sin(3.14/2)',\n",
       "  'from sympy import latex as splatex\\nsplatex(sin(3.14/2,evaluate=False))',\n",
       "  \"spvar('a b c')\\nsin(a*b/c**2,display_op=True)\",\n",
       "  't=a+b/c\\nsin(t,display_op=True)',\n",
       "  \"from sympy import sin as spsin\\nfrom sympy import latex as splatex\\nfrom sympy import var as spvar\\nfrom IPython.display import HTML\\n\\ndef search_globals(var):\\n    string_name = ''\\n    for var_name in globals():\\n        if (globals()[var_name]==var) and not (var_name.startswith('_')):\\n            string_name = var_name\\n    return string_name\\n\\nclass sin(spsin):\\n    def __new__(cls, *arg, **kwargs):\\n        # really need to plug into the function base class  where it decides what to do.\\n        display_op=kwargs.pop('display_op',None) # For getting nice display from bare function.\\n        try:\\n            dmo_auto = globals()['_dmo_auto_']\\n        except KeyError:\\n            dmo_auto=False\\n        if (display_op==False): #force overide of dmo_auto\\n            dmo_auto=False\\n        if (dmo_auto) or (display_op):\\n            cls._dmo(cls,*arg,**kwargs)\\n        return(super().__new__(cls, *arg, **kwargs))\\n    \\n    def _dmo(cls, *arg, **kwargs):\\n        result=super().__new__(cls, *arg, **kwargs)\\n        namestr=search_globals(*arg)\\n        ltop1=''\\n        kwargs['evaluate']=False\\n        if not(namestr==''):\\n            #oper1=spsin(namestr,evaluate=False)\\n            oper1=super().__new__(cls, namestr, **kwargs)\\n            ltop1=splatex(oper1)+'='\\n        oper=super().__new__(cls, *arg, **kwargs)\\n        ltoper=''\\n        if not(oper==result):\\n            ltoper=splatex(oper)+'='            \\n        display(HTML('$$'+ltop1+ltoper+splatex(result)+'$$'))\\n        \",\n",
       "  'type(sin)',\n",
       "  'sin(3.14/2)',\n",
       "  'from sympy import latex as splatex\\nsplatex(sin(3.14/2,evaluate=False))',\n",
       "  \"spvar('a b c')\\nsin(a*b/c**2,display_op=True)\",\n",
       "  't=a+b/c\\nsin(t,display_op=True)',\n",
       "  'sin(3.14/2,display_op=True)',\n",
       "  'sin(sp.pi/2,display_op=True)',\n",
       "  'sin(sppi/2,display_op=True)',\n",
       "  'from sympy import pi as sppi\\nsin(sppi/2,display_op=True)',\n",
       "  \"classdecl='class tstclass():\\\\\\\\n    pass\\\\n'\\neval(classdecl)\",\n",
       "  \"classdecl='class tstclass():\\\\\\\\n    pass\\\\\\\\n'\\neval(classdecl)\",\n",
       "  \"classdecl='class tstclass():\\\\\\\\n    pass\\\\\\\\n'\\nprint(classdecl)\\neval(classdecl)\",\n",
       "  \"classdecl='class tstclass():\\\\n    pass\\\\n'\\nprint(classdecl)\\neval(classdecl)\",\n",
       "  'class tstclass():\\n    pass',\n",
       "  'type(tstclass)',\n",
       "  'tstclass',\n",
       "  \"classdecl='class tstclass():\\\\n    pass\\\\n'\\nprint(classdecl)\\nexec(classdecl)\",\n",
       "  'search_globals(a+b/c)',\n",
       "  'globals()'],\n",
       " '_oh': {2: sympy.core.function.FunctionClass,\n",
       "  3: 0.999999682931835,\n",
       "  4: '\\\\sin{\\\\left(1.57 \\\\right)}',\n",
       "  5: sin(a*b/c**2),\n",
       "  6: sin(a + b/c),\n",
       "  8: sympy.core.function.FunctionClass,\n",
       "  9: 0.999999682931835,\n",
       "  10: '\\\\sin{\\\\left(1.57 \\\\right)}',\n",
       "  11: sin(a*b/c**2),\n",
       "  12: sin(a + b/c),\n",
       "  13: 0.999999682931835,\n",
       "  16: 1,\n",
       "  22: type,\n",
       "  23: __main__.tstclass,\n",
       "  25: 't'},\n",
       " '_dh': ['/home/jonathan/GIT/Easy_Pretty_Math'],\n",
       " 'In': ['',\n",
       "  \"from sympy import sin as spsin\\nfrom sympy import latex as splatex\\nfrom sympy import var as spvar\\nfrom IPython.display import HTML\\n\\ndef search_globals(var):\\n    string_name = ''\\n    for var_name in globals():\\n        if (globals()[var_name]==var) and not (var_name.startswith('_')):\\n            string_name = var_name\\n    return string_name\\n\\nclass sin(spsin):\\n    def __new__(cls, *arg, **kwargs):\\n        # really need to plug into the function base class  where it decides what to do.\\n        display_op=kwargs.pop('display_op',None) # For getting nice display from bare function.\\n        try:\\n            dmo_auto = globals()['_dmo_auto_']\\n        except KeyError:\\n            dmo_auto=False\\n        if (display_op==False): #force overide of dmo_auto\\n            dmo_auto=False\\n        if (dmo_auto) or (display_op):\\n            cls._dmo(cls,*arg,**kwargs)\\n        return(super().__new__(cls, *arg, **kwargs))\\n    \\n    def _dmo(cls, *arg, **kwargs):\\n        result=super().__new__(cls, *arg, **kwargs)\\n        namestr=search_globals(*arg)\\n        ltop1=''\\n        kwargs['evaluate']=False\\n        if not(namestr==''):\\n            #oper1=spsin(namestr,evaluate=False)\\n            oper1=super().__new__(cls, namestr, **kwargs)\\n            ltop1=splatex(oper1)+'='\\n        oper=super().__new__(cls, *arg, **kwargs)\\n        ltoper=''\\n        if not(oper==result):\\n            ltoper=splatex(oper)+'='            \\n        display(HTML('$'+ltop1+ltoper+splatex(result)+'$'))\\n        \",\n",
       "  'type(sin)',\n",
       "  'sin(3.14/2)',\n",
       "  'from sympy import latex as splatex\\nsplatex(sin(3.14/2,evaluate=False))',\n",
       "  \"spvar('a b c')\\nsin(a*b/c**2,display_op=True)\",\n",
       "  't=a+b/c\\nsin(t,display_op=True)',\n",
       "  \"from sympy import sin as spsin\\nfrom sympy import latex as splatex\\nfrom sympy import var as spvar\\nfrom IPython.display import HTML\\n\\ndef search_globals(var):\\n    string_name = ''\\n    for var_name in globals():\\n        if (globals()[var_name]==var) and not (var_name.startswith('_')):\\n            string_name = var_name\\n    return string_name\\n\\nclass sin(spsin):\\n    def __new__(cls, *arg, **kwargs):\\n        # really need to plug into the function base class  where it decides what to do.\\n        display_op=kwargs.pop('display_op',None) # For getting nice display from bare function.\\n        try:\\n            dmo_auto = globals()['_dmo_auto_']\\n        except KeyError:\\n            dmo_auto=False\\n        if (display_op==False): #force overide of dmo_auto\\n            dmo_auto=False\\n        if (dmo_auto) or (display_op):\\n            cls._dmo(cls,*arg,**kwargs)\\n        return(super().__new__(cls, *arg, **kwargs))\\n    \\n    def _dmo(cls, *arg, **kwargs):\\n        result=super().__new__(cls, *arg, **kwargs)\\n        namestr=search_globals(*arg)\\n        ltop1=''\\n        kwargs['evaluate']=False\\n        if not(namestr==''):\\n            #oper1=spsin(namestr,evaluate=False)\\n            oper1=super().__new__(cls, namestr, **kwargs)\\n            ltop1=splatex(oper1)+'='\\n        oper=super().__new__(cls, *arg, **kwargs)\\n        ltoper=''\\n        if not(oper==result):\\n            ltoper=splatex(oper)+'='            \\n        display(HTML('$$'+ltop1+ltoper+splatex(result)+'$$'))\\n        \",\n",
       "  'type(sin)',\n",
       "  'sin(3.14/2)',\n",
       "  'from sympy import latex as splatex\\nsplatex(sin(3.14/2,evaluate=False))',\n",
       "  \"spvar('a b c')\\nsin(a*b/c**2,display_op=True)\",\n",
       "  't=a+b/c\\nsin(t,display_op=True)',\n",
       "  'sin(3.14/2,display_op=True)',\n",
       "  'sin(sp.pi/2,display_op=True)',\n",
       "  'sin(sppi/2,display_op=True)',\n",
       "  'from sympy import pi as sppi\\nsin(sppi/2,display_op=True)',\n",
       "  \"classdecl='class tstclass():\\\\\\\\n    pass\\\\n'\\neval(classdecl)\",\n",
       "  \"classdecl='class tstclass():\\\\\\\\n    pass\\\\\\\\n'\\neval(classdecl)\",\n",
       "  \"classdecl='class tstclass():\\\\\\\\n    pass\\\\\\\\n'\\nprint(classdecl)\\neval(classdecl)\",\n",
       "  \"classdecl='class tstclass():\\\\n    pass\\\\n'\\nprint(classdecl)\\neval(classdecl)\",\n",
       "  'class tstclass():\\n    pass',\n",
       "  'type(tstclass)',\n",
       "  'tstclass',\n",
       "  \"classdecl='class tstclass():\\\\n    pass\\\\n'\\nprint(classdecl)\\nexec(classdecl)\",\n",
       "  'search_globals(a+b/c)',\n",
       "  'globals()'],\n",
       " 'Out': {2: sympy.core.function.FunctionClass,\n",
       "  3: 0.999999682931835,\n",
       "  4: '\\\\sin{\\\\left(1.57 \\\\right)}',\n",
       "  5: sin(a*b/c**2),\n",
       "  6: sin(a + b/c),\n",
       "  8: sympy.core.function.FunctionClass,\n",
       "  9: 0.999999682931835,\n",
       "  10: '\\\\sin{\\\\left(1.57 \\\\right)}',\n",
       "  11: sin(a*b/c**2),\n",
       "  12: sin(a + b/c),\n",
       "  13: 0.999999682931835,\n",
       "  16: 1,\n",
       "  22: type,\n",
       "  23: __main__.tstclass,\n",
       "  25: 't'},\n",
       " 'get_ipython': <bound method InteractiveShell.get_ipython of <ipykernel.zmqshell.ZMQInteractiveShell object at 0x7fc12b507390>>,\n",
       " 'exit': <IPython.core.autocall.ZMQExitAutocall at 0x7fc12845c940>,\n",
       " 'quit': <IPython.core.autocall.ZMQExitAutocall at 0x7fc12845c940>,\n",
       " '_': 't',\n",
       " '__': __main__.tstclass,\n",
       " '___': type,\n",
       " '_i': 'search_globals(a+b/c)',\n",
       " '_ii': \"classdecl='class tstclass():\\\\n    pass\\\\n'\\nprint(classdecl)\\nexec(classdecl)\",\n",
       " '_iii': 'tstclass',\n",
       " '_i1': \"from sympy import sin as spsin\\nfrom sympy import latex as splatex\\nfrom sympy import var as spvar\\nfrom IPython.display import HTML\\n\\ndef search_globals(var):\\n    string_name = ''\\n    for var_name in globals():\\n        if (globals()[var_name]==var) and not (var_name.startswith('_')):\\n            string_name = var_name\\n    return string_name\\n\\nclass sin(spsin):\\n    def __new__(cls, *arg, **kwargs):\\n        # really need to plug into the function base class  where it decides what to do.\\n        display_op=kwargs.pop('display_op',None) # For getting nice display from bare function.\\n        try:\\n            dmo_auto = globals()['_dmo_auto_']\\n        except KeyError:\\n            dmo_auto=False\\n        if (display_op==False): #force overide of dmo_auto\\n            dmo_auto=False\\n        if (dmo_auto) or (display_op):\\n            cls._dmo(cls,*arg,**kwargs)\\n        return(super().__new__(cls, *arg, **kwargs))\\n    \\n    def _dmo(cls, *arg, **kwargs):\\n        result=super().__new__(cls, *arg, **kwargs)\\n        namestr=search_globals(*arg)\\n        ltop1=''\\n        kwargs['evaluate']=False\\n        if not(namestr==''):\\n            #oper1=spsin(namestr,evaluate=False)\\n            oper1=super().__new__(cls, namestr, **kwargs)\\n            ltop1=splatex(oper1)+'='\\n        oper=super().__new__(cls, *arg, **kwargs)\\n        ltoper=''\\n        if not(oper==result):\\n            ltoper=splatex(oper)+'='            \\n        display(HTML('$'+ltop1+ltoper+splatex(result)+'$'))\\n        \",\n",
       " 'spsin': sin,\n",
       " 'splatex': <function sympy.printing.latex.latex(expr, fold_frac_powers=False, fold_func_brackets=False, fold_short_frac=None, inv_trig_style='abbreviated', itex=False, ln_notation=False, long_frac_ratio=None, mat_delim='[', mat_str=None, mode='plain', mul_symbol=None, order=None, symbol_names=None, root_notation=True, mat_symbol_style='plain', imaginary_unit='i', gothic_re_im=False, decimal_separator='period')>,\n",
       " 'spvar': <function sympy.core.symbol.var(names, **args)>,\n",
       " 'HTML': IPython.core.display.HTML,\n",
       " 'search_globals': <function __main__.search_globals(var)>,\n",
       " 'sin': sin,\n",
       " '_i2': 'type(sin)',\n",
       " '_2': sympy.core.function.FunctionClass,\n",
       " '_i3': 'sin(3.14/2)',\n",
       " '_3': 0.999999682931835,\n",
       " '_i4': 'from sympy import latex as splatex\\nsplatex(sin(3.14/2,evaluate=False))',\n",
       " '_4': '\\\\sin{\\\\left(1.57 \\\\right)}',\n",
       " '_i5': \"spvar('a b c')\\nsin(a*b/c**2,display_op=True)\",\n",
       " 'a': a,\n",
       " 'b': b,\n",
       " 'c': c,\n",
       " '_5': sin(a*b/c**2),\n",
       " '_i6': 't=a+b/c\\nsin(t,display_op=True)',\n",
       " 't': a + b/c,\n",
       " '_6': sin(a + b/c),\n",
       " '_i7': \"from sympy import sin as spsin\\nfrom sympy import latex as splatex\\nfrom sympy import var as spvar\\nfrom IPython.display import HTML\\n\\ndef search_globals(var):\\n    string_name = ''\\n    for var_name in globals():\\n        if (globals()[var_name]==var) and not (var_name.startswith('_')):\\n            string_name = var_name\\n    return string_name\\n\\nclass sin(spsin):\\n    def __new__(cls, *arg, **kwargs):\\n        # really need to plug into the function base class  where it decides what to do.\\n        display_op=kwargs.pop('display_op',None) # For getting nice display from bare function.\\n        try:\\n            dmo_auto = globals()['_dmo_auto_']\\n        except KeyError:\\n            dmo_auto=False\\n        if (display_op==False): #force overide of dmo_auto\\n            dmo_auto=False\\n        if (dmo_auto) or (display_op):\\n            cls._dmo(cls,*arg,**kwargs)\\n        return(super().__new__(cls, *arg, **kwargs))\\n    \\n    def _dmo(cls, *arg, **kwargs):\\n        result=super().__new__(cls, *arg, **kwargs)\\n        namestr=search_globals(*arg)\\n        ltop1=''\\n        kwargs['evaluate']=False\\n        if not(namestr==''):\\n            #oper1=spsin(namestr,evaluate=False)\\n            oper1=super().__new__(cls, namestr, **kwargs)\\n            ltop1=splatex(oper1)+'='\\n        oper=super().__new__(cls, *arg, **kwargs)\\n        ltoper=''\\n        if not(oper==result):\\n            ltoper=splatex(oper)+'='            \\n        display(HTML('$$'+ltop1+ltoper+splatex(result)+'$$'))\\n        \",\n",
       " '_i8': 'type(sin)',\n",
       " '_8': sympy.core.function.FunctionClass,\n",
       " '_i9': 'sin(3.14/2)',\n",
       " '_9': 0.999999682931835,\n",
       " '_i10': 'from sympy import latex as splatex\\nsplatex(sin(3.14/2,evaluate=False))',\n",
       " '_10': '\\\\sin{\\\\left(1.57 \\\\right)}',\n",
       " '_i11': \"spvar('a b c')\\nsin(a*b/c**2,display_op=True)\",\n",
       " '_11': sin(a*b/c**2),\n",
       " '_i12': 't=a+b/c\\nsin(t,display_op=True)',\n",
       " '_12': sin(a + b/c),\n",
       " '_i13': 'sin(3.14/2,display_op=True)',\n",
       " '_13': 0.999999682931835,\n",
       " '_i14': 'sin(sp.pi/2,display_op=True)',\n",
       " '_i15': '\\nsin(sppi/2,display_op=True)',\n",
       " '_i16': 'from sympy import pi as sppi\\nsin(sppi/2,display_op=True)',\n",
       " 'sppi': pi,\n",
       " '_16': 1,\n",
       " '_i17': \"classdecl='class tstclass():\\\\\\\\n    pass\\\\n'\\neval(classdecl)\",\n",
       " 'classdecl': 'class tstclass():\\n    pass\\n',\n",
       " '_i18': \"classdecl='class tstclass():\\\\\\\\n    pass\\\\\\\\n'\\neval(classdecl)\",\n",
       " '_i19': \"classdecl='class tstclass():\\\\\\\\n    pass\\\\\\\\n'\\nprint(classdecl)\\neval(classdecl)\",\n",
       " '_i20': \"classdecl='class tstclass():\\\\n    pass\\\\n'\\nprint(classdecl)\\neval(classdecl)\",\n",
       " '_i21': 'class tstclass():\\n    pass',\n",
       " 'tstclass': __main__.tstclass,\n",
       " '_i22': 'type(tstclass)',\n",
       " '_22': type,\n",
       " '_i23': 'tstclass',\n",
       " '_23': __main__.tstclass,\n",
       " '_i24': \"classdecl='class tstclass():\\\\n    pass\\\\n'\\nprint(classdecl)\\nexec(classdecl)\",\n",
       " '_i25': 'search_globals(a+b/c)',\n",
       " '_25': 't',\n",
       " '_i26': 'globals()'}"
      ]
     },
     "execution_count": 26,
     "metadata": {},
     "output_type": "execute_result"
    }
   ],
   "source": [
    "globals()"
   ]
  },
  {
   "cell_type": "code",
   "execution_count": null,
   "metadata": {},
   "outputs": [],
   "source": []
  }
 ],
 "metadata": {
  "kernelspec": {
   "display_name": "Python 3",
   "language": "python",
   "name": "python3"
  },
  "language_info": {
   "codemirror_mode": {
    "name": "ipython",
    "version": 3
   },
   "file_extension": ".py",
   "mimetype": "text/x-python",
   "name": "python",
   "nbconvert_exporter": "python",
   "pygments_lexer": "ipython3",
   "version": "3.6.9"
  }
 },
 "nbformat": 4,
 "nbformat_minor": 4
}
