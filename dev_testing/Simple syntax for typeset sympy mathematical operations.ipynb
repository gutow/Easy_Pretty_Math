{
 "cells": [
  {
   "cell_type": "markdown",
   "metadata": {},
   "source": [
    "__Code cell below defines utility functions for displaying math operations__\n",
    "\n",
    "The utility functions are:\n",
    "\n",
    "* `retrieve_name()`: Not for the user. Used by the other functions to find the name/symbol assigned to an expression. Only looks in the wrapping function name space. It does not search all the way up to the global name space.\n",
    "* `dmo_auto()`: Calling this function causes dmo aware functions (so far only `diff(expr)` and `integ(expr)` defined below) to display a typeset version of the operations carried out by the function. The call `dmo_auto(status=False)` turns this off.\n",
    "* `dmo()`: Passing a valid sympy expression or assignment statement to this function causes the expression or assignment to be evaluated and the operation output as typeset math. Also takes the optional argument `code=True`, causing it to try to output the result of the operation as plain code as well. This will just yield another typeset version of the result if `sympy.init_printing(pretty_print=True)` is set rather than `sympy.init_printing(pretty_print=False)`."
   ]
  },
  {
   "cell_type": "code",
   "execution_count": 1,
   "metadata": {},
   "outputs": [],
   "source": [
    "from IPython.display import HTML as html, HTML\n",
    "from IPython.display import display\n",
    "import sympy as sp\n",
    "import inspect\n",
    "\n",
    "def retrieve_name(var):# Used to identify the string used to name an expression\n",
    "    callers_local_vars = inspect.currentframe().f_back.f_back.f_locals.items()\n",
    "    string_name = ''\n",
    "    for var_name, var_val in callers_local_vars:\n",
    "        if (var_val is var) and not (var_name.startswith('_')):\n",
    "            string_name = var_name\n",
    "    return string_name\n",
    "\n",
    "def dmo_auto(status=True):\n",
    "    '''\n",
    "    sets the status of dmo (display math operation) to True by default or False if `status=False`\n",
    "    is passed to the function. If true dmo aware functions will attempt to display typeset\n",
    "    expressions for the operations carried out. If False they will only display typeset expressions\n",
    "    for the operations if `display_op=True` is set in the function call. See the documentation for\n",
    "    each function.\n",
    "    '''\n",
    "    globals()['_dmo_auto_']=status\n",
    "    return('Automatic display of math operation activated for `dmo aware` operations.')\n",
    "\n",
    "def dmo(*exprs,**kwarg): #Display math operation\n",
    "    '''\n",
    "    Pass one of:\n",
    "    *exprs:     any valid symbolic math expression or function call (e.g. 2*x, sin(2*x)).\n",
    "    **kwarg:    any valid symbol equal to an expression or function call (e.g. P=n*R*T/V,\n",
    "                r=sin(theta)). This must be the first item with an equal sign appearing\n",
    "                in the list of arguments.\n",
    "                \n",
    "                additionally you can add these options:\n",
    "                code=True, if you want the code version of the evaluated expression to\n",
    "                    appear in the cell output. Useful if you want to copy and edit into\n",
    "                    another code cell. Note if `sympy.init_printing(pretty_print=True)` is\n",
    "                    set the code will still be displayed as typeset. Call `sympy.init_printing`\n",
    "                    with `pretty_print=False` to get non-typeset output.\n",
    "    \n",
    "    In an IPython/Jupyter notebook will display a typeset version of the operation and return\n",
    "    the expression to the namespace for further operations. The function tries to identify\n",
    "    the actual string (name) passed for the expression and output the typeset expression \n",
    "    `name=result of the operation`. If it cannot identify the actual string passed it just\n",
    "    outputs the typeset result of the operation.\n",
    "    \n",
    "    J. Gutow May 2020.\n",
    "    '''\n",
    "    code = kwarg.pop('code', None)\n",
    "    expr=None\n",
    "    if(len(exprs) >= 1):\n",
    "        expr = exprs[0] #ignore others.\n",
    "        namestr=retrieve_name(expr)\n",
    "        if (namestr==''):\n",
    "            display(html(r'$'+sp.latex(expr)+'$'))\n",
    "        else:\n",
    "            display(html(r'$'+namestr+'='+sp.latex(expr)+'$'))\n",
    "    else:\n",
    "        key = list(kwarg)[0] #ignore all but first.\n",
    "        expr = kwarg[key]\n",
    "        display(html(r'$'+(key)+'='+sp.latex(expr)+'$'))\n",
    "        globals()[key]=expr #inject into namespace.\n",
    "    globals()['_']=expr #inject into last result\n",
    "    if (code):\n",
    "        return(expr)\n",
    "    pass"
   ]
  },
  {
   "cell_type": "markdown",
   "metadata": {},
   "source": [
    "__Code cell below defines dmo (display math operation) aware versions of sympy functions__\n",
    "\n",
    "So far they are:\n",
    "\n",
    "* `diff()`: Function that replaces the `sympy.diff()` function. Has all the same features as the sympy function as it just wraps it to provide the additional features of being dmo aware and to improve the versatility of the typeset output of partial differential symbols.\n",
    "* `integ()`: Function that replaces the `sympy.integrate\\Integral()` function(s). Has all the same features as the sympy functions as it just wraps them to provide the additional feature of being dmo aware."
   ]
  },
  {
   "cell_type": "code",
   "execution_count": 2,
   "metadata": {},
   "outputs": [],
   "source": [
    "def diff(f,*symbols,**kwargs):\n",
    "    '''\n",
    "    NB: SOME OF THE PARSING AND ORDERING OF DENOMINATORS IN DIFFERENTIALS IS NOT RIGHT YET\n",
    "    Wrapper for sympy.diff(). That can output typeset expressions for the operations carried out before\n",
    "    returning the result. Designed primarily for teaching and display purposes.\n",
    "    \n",
    "    This function is display math operation (dmo) aware. Thus if dmo_auto() is called at the beginning of\n",
    "    a notebook all calls will result in typeset operation output unless the optional kwarg: display_op is\n",
    "    set to False.\n",
    "    \n",
    "    Takes one additional optional kwarg that is not used by sympy.diff():\n",
    "        display_op: True generates typeset math operation output, False suppresses the output.\n",
    "    '''\n",
    "    def symparse(symbols):\n",
    "        syms=[]\n",
    "        pwrs =[]\n",
    "        for k in range(len(symbols)):\n",
    "            tempsym = symbols[k]\n",
    "            #print('tempsym = '+str(tempsym))\n",
    "            if not (type(tempsym) is int):\n",
    "                if(tempsym not in syms):\n",
    "                    syms.append(tempsym)\n",
    "                    pwrs.append(1)\n",
    "                else:\n",
    "                    for j in range(len(syms)):\n",
    "                        if (tempsym==syms[j]):\n",
    "                            pwrs[j]+=1\n",
    "            else:\n",
    "                for j in range(len(syms)):\n",
    "                    if (symbols[k-1]==syms[j]):\n",
    "                        pwrs[j]+=tempsym-1\n",
    "        return(syms,pwrs)\n",
    "\n",
    "    display_op=kwargs.pop('display_op',None) # For getting nice display from bare function.\n",
    "    result=sp.diff(f,*symbols,**kwargs)\n",
    "    try:\n",
    "        dmo_auto = globals()['_dmo_auto_']\n",
    "    except KeyError:\n",
    "        dmo_auto=False\n",
    "    if (display_op==False): #force overide of dmo_auto\n",
    "        dmo_auto=False\n",
    "    oper=None\n",
    "    namestr=retrieve_name(f)\n",
    "    if (dmo_auto) or (display_op):\n",
    "        syms,pwrs = symparse(symbols)\n",
    "        totpwr = sum(pwrs)\n",
    "        totpwrstr=''\n",
    "        if not(totpwr==1):\n",
    "            totpwrstr=str(totpwr)\n",
    "        ltop = ''\n",
    "        ltdenom=''\n",
    "        for i in range(len(syms)):\n",
    "            pwrstr=''\n",
    "            if not(pwrs[i]==1):\n",
    "                pwrstr=str(pwrs[i])\n",
    "            else:\n",
    "                pwrstr=''\n",
    "            ltdenom+='\\\\partial '+str(syms[i])+'^{'+pwrstr+'} '\n",
    "        if (namestr==''):\n",
    "            ltnum='\\\\partial^{'+totpwrstr+'} '\n",
    "            ltop='\\\\frac{'+ltnum+'}{'+ltdenom+'}{\\\\left('+sp.latex(f)+'\\\\right)}'\n",
    "        else:\n",
    "            ltnum ='\\\\partial^{'+totpwrstr+'}'+str(namestr)+' '\n",
    "            ltop ='\\\\frac{'+ltnum+'}{'+ltdenom+'}='\n",
    "            ltnum='\\\\partial^{'+totpwrstr+'} '\n",
    "            ltop+='\\\\frac{'+ltnum+'}{'+ltdenom+'}{\\\\left('+sp.latex(f)+'\\\\right)}'\n",
    "        display(HTML('$'+ltop+'='+sp.latex(result)+'$'))\n",
    "    return(result)\n",
    "\n",
    "def integ(f, *args, **kwargs):\n",
    "    '''\n",
    "    Wrapper for `sympy.integrate()/Integral()`. That can output typeset expressions for the operations\n",
    "    carried out before returning the result. Designed primarily for teaching and display purposes.\n",
    "    \n",
    "    This function is display math operation (dmo) aware. Thus if dmo_auto() is called at the beginning of\n",
    "    a notebook all calls will result in typeset operation output unless the optional kwarg: `display_op` is\n",
    "    set to False.\n",
    "    \n",
    "    Takes one additional optional kwarg that is not used by sympy.integrate():\n",
    "        display_op: True generates typeset math operation output, False suppresses the output.\n",
    "\n",
    "    '''\n",
    "    display_op=kwargs.pop('display_op',None) # For getting nice display from bare function.\n",
    "    result=sp.integrate(f,*args,**kwargs)\n",
    "    try:\n",
    "        dmo_auto = globals()['_dmo_auto_']\n",
    "    except KeyError:\n",
    "        dmo_auto=False\n",
    "    if (display_op==False): #force overide of dmo_auto\n",
    "        dmo_auto=False\n",
    "    oper=None\n",
    "    if (dmo_auto) or (display_op):\n",
    "        namestr=retrieve_name(f)\n",
    "        ltop1=''\n",
    "        if not(namestr==''):\n",
    "            oper1=sp.Integral(namestr,*args,**kwargs)\n",
    "            ltop1=sp.latex(oper1)+'='\n",
    "        oper=sp.Integral(f,*args,**kwargs)\n",
    "        # TODO show subtraction step in computing integrals with limits\n",
    "        #      question: best way to represent this for multiple integrals?\n",
    "        display(HTML('$'+ltop1+sp.latex(oper)+'='+sp.latex(result)+'$'))\n",
    "    return(result)"
   ]
  },
  {
   "cell_type": "code",
   "execution_count": 3,
   "metadata": {},
   "outputs": [
    {
     "data": {
      "text/plain": [
       "'Automatic display of math operation activated for `dmo aware` operations.'"
      ]
     },
     "execution_count": 3,
     "metadata": {},
     "output_type": "execute_result"
    }
   ],
   "source": [
    "# Turning off sympy auto pretty printing as that seems to be the default in latest Jupyter/Sympy.\n",
    "sp.init_printing(pretty_print=False)\n",
    "# Turning on auto display math operations\n",
    "dmo_auto()"
   ]
  },
  {
   "cell_type": "markdown",
   "metadata": {},
   "source": [
    "_Bare expressions_"
   ]
  },
  {
   "cell_type": "code",
   "execution_count": 4,
   "metadata": {},
   "outputs": [
    {
     "data": {
      "text/plain": [
       "b*c"
      ]
     },
     "execution_count": 4,
     "metadata": {},
     "output_type": "execute_result"
    }
   ],
   "source": [
    "sp.var('a b c')\n",
    "b*c"
   ]
  },
  {
   "cell_type": "code",
   "execution_count": 5,
   "metadata": {},
   "outputs": [
    {
     "data": {
      "text/html": [
       "$b c$"
      ],
      "text/plain": [
       "<IPython.core.display.HTML object>"
      ]
     },
     "metadata": {},
     "output_type": "display_data"
    }
   ],
   "source": [
    "dmo(b*c)"
   ]
  },
  {
   "cell_type": "code",
   "execution_count": 6,
   "metadata": {},
   "outputs": [
    {
     "data": {
      "text/html": [
       "$b c$"
      ],
      "text/plain": [
       "<IPython.core.display.HTML object>"
      ]
     },
     "metadata": {},
     "output_type": "display_data"
    },
    {
     "data": {
      "text/plain": [
       "b*c"
      ]
     },
     "execution_count": 6,
     "metadata": {},
     "output_type": "execute_result"
    }
   ],
   "source": [
    "# Example with `code=True`.\n",
    "dmo(b*c,code=True)"
   ]
  },
  {
   "cell_type": "code",
   "execution_count": 7,
   "metadata": {},
   "outputs": [
    {
     "data": {
      "text/html": [
       "$\\sin{\\left(b c \\right)}$"
      ],
      "text/plain": [
       "<IPython.core.display.HTML object>"
      ]
     },
     "metadata": {},
     "output_type": "display_data"
    },
    {
     "data": {
      "text/html": [
       "$\\cos{\\left(b c \\right)}$"
      ],
      "text/plain": [
       "<IPython.core.display.HTML object>"
      ]
     },
     "metadata": {},
     "output_type": "display_data"
    },
    {
     "data": {
      "text/plain": [
       "cos(b*c)"
      ]
     },
     "execution_count": 7,
     "metadata": {},
     "output_type": "execute_result"
    }
   ],
   "source": [
    "# As with normal cell execution `code=True` only shows result of last statement\n",
    "dmo(sp.sin(b*c),code=True)\n",
    "dmo(sp.cos(b*c),code=True)"
   ]
  },
  {
   "cell_type": "markdown",
   "metadata": {},
   "source": [
    "_Demonstratons of `diff()` function compared with `sp.diff()`_"
   ]
  },
  {
   "cell_type": "code",
   "execution_count": 8,
   "metadata": {},
   "outputs": [
    {
     "data": {
      "text/html": [
       "$p=\\frac{a b}{c^{2}}$"
      ],
      "text/plain": [
       "<IPython.core.display.HTML object>"
      ]
     },
     "metadata": {},
     "output_type": "display_data"
    },
    {
     "name": "stdout",
     "output_type": "stream",
     "text": [
      "`diff(p,c)`:\n"
     ]
    },
    {
     "data": {
      "text/html": [
       "$\\frac{\\partial^{}p }{\\partial c^{} }=\\frac{\\partial^{} }{\\partial c^{} }{\\left(\\frac{a b}{c^{2}}\\right)}=- \\frac{2 a b}{c^{3}}$"
      ],
      "text/plain": [
       "<IPython.core.display.HTML object>"
      ]
     },
     "metadata": {},
     "output_type": "display_data"
    },
    {
     "name": "stdout",
     "output_type": "stream",
     "text": [
      "This generates two outputs. `dmo(diff(p,c))`:\n"
     ]
    },
    {
     "data": {
      "text/html": [
       "$\\frac{\\partial^{}p }{\\partial c^{} }=\\frac{\\partial^{} }{\\partial c^{} }{\\left(\\frac{a b}{c^{2}}\\right)}=- \\frac{2 a b}{c^{3}}$"
      ],
      "text/plain": [
       "<IPython.core.display.HTML object>"
      ]
     },
     "metadata": {},
     "output_type": "display_data"
    },
    {
     "data": {
      "text/html": [
       "$- \\frac{2 a b}{c^{3}}$"
      ],
      "text/plain": [
       "<IPython.core.display.HTML object>"
      ]
     },
     "metadata": {},
     "output_type": "display_data"
    },
    {
     "name": "stdout",
     "output_type": "stream",
     "text": [
      "`dmo(sp.diff(p,c))`:\n"
     ]
    },
    {
     "data": {
      "text/html": [
       "$- \\frac{2 a b}{c^{3}}$"
      ],
      "text/plain": [
       "<IPython.core.display.HTML object>"
      ]
     },
     "metadata": {},
     "output_type": "display_data"
    },
    {
     "name": "stdout",
     "output_type": "stream",
     "text": [
      "`sp.diff(p,c)`:\n"
     ]
    },
    {
     "data": {
      "text/plain": [
       "-2*a*b/c**3"
      ]
     },
     "execution_count": 8,
     "metadata": {},
     "output_type": "execute_result"
    }
   ],
   "source": [
    "dmo(p = a*b/c**2)\n",
    "print('`diff(p,c)`:')\n",
    "diff(p,c)\n",
    "print('This generates two outputs. `dmo(diff(p,c))`:')\n",
    "dmo(diff(p,c))\n",
    "print('`dmo(sp.diff(p,c))`:')\n",
    "dmo(sp.diff(p,c))\n",
    "print('`sp.diff(p,c)`:')\n",
    "sp.diff(p,c)"
   ]
  },
  {
   "cell_type": "code",
   "execution_count": 9,
   "metadata": {},
   "outputs": [
    {
     "name": "stdout",
     "output_type": "stream",
     "text": [
      "`diff(p,c,b)`:\n"
     ]
    },
    {
     "data": {
      "text/html": [
       "$\\frac{\\partial^{2}p }{\\partial c^{} \\partial b^{} }=\\frac{\\partial^{2} }{\\partial c^{} \\partial b^{} }{\\left(\\frac{a b}{c^{2}}\\right)}=- \\frac{2 a}{c^{3}}$"
      ],
      "text/plain": [
       "<IPython.core.display.HTML object>"
      ]
     },
     "metadata": {},
     "output_type": "display_data"
    },
    {
     "name": "stdout",
     "output_type": "stream",
     "text": [
      "This shows the steps. `diff(diff(p,c),b)`:\n"
     ]
    },
    {
     "data": {
      "text/html": [
       "$\\frac{\\partial^{}p }{\\partial c^{} }=\\frac{\\partial^{} }{\\partial c^{} }{\\left(\\frac{a b}{c^{2}}\\right)}=- \\frac{2 a b}{c^{3}}$"
      ],
      "text/plain": [
       "<IPython.core.display.HTML object>"
      ]
     },
     "metadata": {},
     "output_type": "display_data"
    },
    {
     "data": {
      "text/html": [
       "$\\frac{\\partial^{} }{\\partial b^{} }{\\left(- \\frac{2 a b}{c^{3}}\\right)}=- \\frac{2 a}{c^{3}}$"
      ],
      "text/plain": [
       "<IPython.core.display.HTML object>"
      ]
     },
     "metadata": {},
     "output_type": "display_data"
    },
    {
     "name": "stdout",
     "output_type": "stream",
     "text": [
      "`diff(p,c,b,c)`:\n"
     ]
    },
    {
     "data": {
      "text/html": [
       "$\\frac{\\partial^{3}p }{\\partial c^{2} \\partial b^{} }=\\frac{\\partial^{3} }{\\partial c^{2} \\partial b^{} }{\\left(\\frac{a b}{c^{2}}\\right)}=\\frac{6 a}{c^{4}}$"
      ],
      "text/plain": [
       "<IPython.core.display.HTML object>"
      ]
     },
     "metadata": {},
     "output_type": "display_data"
    },
    {
     "name": "stdout",
     "output_type": "stream",
     "text": [
      "`diff(p,c,2)`:\n"
     ]
    },
    {
     "data": {
      "text/html": [
       "$\\frac{\\partial^{2}p }{\\partial c^{2} }=\\frac{\\partial^{2} }{\\partial c^{2} }{\\left(\\frac{a b}{c^{2}}\\right)}=\\frac{6 a b}{c^{4}}$"
      ],
      "text/plain": [
       "<IPython.core.display.HTML object>"
      ]
     },
     "metadata": {},
     "output_type": "display_data"
    },
    {
     "data": {
      "text/plain": [
       "6*a*b/c**4"
      ]
     },
     "execution_count": 9,
     "metadata": {},
     "output_type": "execute_result"
    }
   ],
   "source": [
    "# higher order derivatives\n",
    "print('`diff(p,c,b)`:')\n",
    "diff(p,c,b)\n",
    "print('This shows the steps. `diff(diff(p,c),b)`:')\n",
    "diff(diff(p,c),b)\n",
    "print('`diff(p,c,b,c)`:')\n",
    "diff(p,c,b,c)\n",
    "print('`diff(p,c,2)`:')\n",
    "diff(p,c,2)"
   ]
  },
  {
   "cell_type": "markdown",
   "metadata": {},
   "source": [
    "_Demonstration of `integ()` as compared to `sp.integrate()`_"
   ]
  },
  {
   "cell_type": "code",
   "execution_count": 10,
   "metadata": {},
   "outputs": [
    {
     "name": "stdout",
     "output_type": "stream",
     "text": [
      "`integ(p,c)`:\n"
     ]
    },
    {
     "data": {
      "text/html": [
       "$\\int p\\, dc=\\int \\frac{a b}{c^{2}}\\, dc=- \\frac{a b}{c}$"
      ],
      "text/plain": [
       "<IPython.core.display.HTML object>"
      ]
     },
     "metadata": {},
     "output_type": "display_data"
    },
    {
     "name": "stdout",
     "output_type": "stream",
     "text": [
      "This generates two outputs. `dmo(integ(p,c))`:\n"
     ]
    },
    {
     "data": {
      "text/html": [
       "$\\int p\\, dc=\\int \\frac{a b}{c^{2}}\\, dc=- \\frac{a b}{c}$"
      ],
      "text/plain": [
       "<IPython.core.display.HTML object>"
      ]
     },
     "metadata": {},
     "output_type": "display_data"
    },
    {
     "data": {
      "text/html": [
       "$- \\frac{a b}{c}$"
      ],
      "text/plain": [
       "<IPython.core.display.HTML object>"
      ]
     },
     "metadata": {},
     "output_type": "display_data"
    },
    {
     "name": "stdout",
     "output_type": "stream",
     "text": [
      "`dmo(sp.integrate(p,c))`:\n"
     ]
    },
    {
     "data": {
      "text/html": [
       "$- \\frac{a b}{c}$"
      ],
      "text/plain": [
       "<IPython.core.display.HTML object>"
      ]
     },
     "metadata": {},
     "output_type": "display_data"
    },
    {
     "name": "stdout",
     "output_type": "stream",
     "text": [
      "`sp.integrate(p,c)`:\n"
     ]
    },
    {
     "data": {
      "text/plain": [
       "-a*b/c"
      ]
     },
     "execution_count": 10,
     "metadata": {},
     "output_type": "execute_result"
    }
   ],
   "source": [
    "print('`integ(p,c)`:')\n",
    "integ(p,c)\n",
    "print('This generates two outputs. `dmo(integ(p,c))`:')\n",
    "dmo(integ(p,c))\n",
    "print('`dmo(sp.integrate(p,c))`:')\n",
    "dmo(sp.integrate(p,c))\n",
    "print('`sp.integrate(p,c)`:')\n",
    "sp.integrate(p,c)"
   ]
  },
  {
   "cell_type": "code",
   "execution_count": 11,
   "metadata": {},
   "outputs": [
    {
     "data": {
      "text/html": [
       "$\\int\\limits_{1}^{2} p\\, dc=\\int\\limits_{1}^{2} \\frac{a b}{c^{2}}\\, dc=\\frac{a b}{2}$"
      ],
      "text/plain": [
       "<IPython.core.display.HTML object>"
      ]
     },
     "metadata": {},
     "output_type": "display_data"
    },
    {
     "data": {
      "text/html": [
       "$c12=\\frac{a b}{2}$"
      ],
      "text/plain": [
       "<IPython.core.display.HTML object>"
      ]
     },
     "metadata": {},
     "output_type": "display_data"
    },
    {
     "data": {
      "text/html": [
       "$\\int\\limits_{1}^{2} p\\, dc=\\int\\limits_{1}^{2} \\frac{a b}{c^{2}}\\, dc=\\frac{a b}{2}$"
      ],
      "text/plain": [
       "<IPython.core.display.HTML object>"
      ]
     },
     "metadata": {},
     "output_type": "display_data"
    },
    {
     "data": {
      "text/plain": [
       "a*b/2"
      ]
     },
     "execution_count": 11,
     "metadata": {},
     "output_type": "execute_result"
    }
   ],
   "source": [
    "# with limits\n",
    "dmo(c12=integ(p,(c,1,2)))\n",
    "integ(p,(c,1,2))"
   ]
  },
  {
   "cell_type": "markdown",
   "metadata": {},
   "source": [
    "_Assignment statements_"
   ]
  },
  {
   "cell_type": "code",
   "execution_count": 12,
   "metadata": {},
   "outputs": [
    {
     "data": {
      "text/html": [
       "$p=\\frac{b \\psi}{c}$"
      ],
      "text/plain": [
       "<IPython.core.display.HTML object>"
      ]
     },
     "metadata": {},
     "output_type": "display_data"
    }
   ],
   "source": [
    "sp.var('a b c theta psi')\n",
    "dmo(p=psi*b/c)"
   ]
  },
  {
   "cell_type": "code",
   "execution_count": 13,
   "metadata": {},
   "outputs": [
    {
     "data": {
      "text/plain": [
       "b*psi/c"
      ]
     },
     "execution_count": 13,
     "metadata": {},
     "output_type": "execute_result"
    }
   ],
   "source": [
    "# Properly assigns the result to `_` so last result can be used with that symbol.\n",
    "_"
   ]
  },
  {
   "cell_type": "code",
   "execution_count": 14,
   "metadata": {},
   "outputs": [
    {
     "data": {
      "text/html": [
       "$M=\\left[\\begin{matrix}1 & 2\\\\3 & 4\\end{matrix}\\right]$"
      ],
      "text/plain": [
       "<IPython.core.display.HTML object>"
      ]
     },
     "metadata": {},
     "output_type": "display_data"
    },
    {
     "data": {
      "text/plain": [
       "Matrix([\n",
       "[1, 2],\n",
       "[3, 4]])"
      ]
     },
     "execution_count": 14,
     "metadata": {},
     "output_type": "execute_result"
    }
   ],
   "source": [
    "# Example with `code=True`.\n",
    "dmo(M=sp.Matrix([[1,2],[3,4]]),code=True)"
   ]
  },
  {
   "cell_type": "code",
   "execution_count": 15,
   "metadata": {},
   "outputs": [
    {
     "data": {
      "text/html": [
       "$M=\\left[\\begin{matrix}1 & 2\\\\3 & 4\\end{matrix}\\right]$"
      ],
      "text/plain": [
       "<IPython.core.display.HTML object>"
      ]
     },
     "metadata": {},
     "output_type": "display_data"
    }
   ],
   "source": [
    "dmo(M)"
   ]
  },
  {
   "cell_type": "code",
   "execution_count": 16,
   "metadata": {},
   "outputs": [
    {
     "data": {
      "text/html": [
       "$T=\\left[\\begin{matrix}1 & 3\\\\2 & 4\\end{matrix}\\right]$"
      ],
      "text/plain": [
       "<IPython.core.display.HTML object>"
      ]
     },
     "metadata": {},
     "output_type": "display_data"
    }
   ],
   "source": [
    "dmo(T=M.transpose())"
   ]
  },
  {
   "cell_type": "code",
   "execution_count": 17,
   "metadata": {},
   "outputs": [
    {
     "data": {
      "text/html": [
       "$Meigvals=\\left\\{ \\frac{5}{2} - \\frac{\\sqrt{33}}{2} : 1, \\  \\frac{5}{2} + \\frac{\\sqrt{33}}{2} : 1\\right\\}$"
      ],
      "text/plain": [
       "<IPython.core.display.HTML object>"
      ]
     },
     "metadata": {},
     "output_type": "display_data"
    },
    {
     "data": {
      "text/html": [
       "$Meigvecs=\\left[ \\left( \\frac{5}{2} - \\frac{\\sqrt{33}}{2}, \\  1, \\  \\left[ \\left[\\begin{matrix}- \\frac{2}{- \\frac{3}{2} + \\frac{\\sqrt{33}}{2}}\\\\1\\end{matrix}\\right]\\right]\\right), \\  \\left( \\frac{5}{2} + \\frac{\\sqrt{33}}{2}, \\  1, \\  \\left[ \\left[\\begin{matrix}- \\frac{2}{- \\frac{\\sqrt{33}}{2} - \\frac{3}{2}}\\\\1\\end{matrix}\\right]\\right]\\right)\\right]$"
      ],
      "text/plain": [
       "<IPython.core.display.HTML object>"
      ]
     },
     "metadata": {},
     "output_type": "display_data"
    }
   ],
   "source": [
    "dmo(Meigvals=M.eigenvals())\n",
    "dmo(Meigvecs=M.eigenvects())"
   ]
  },
  {
   "cell_type": "code",
   "execution_count": 18,
   "metadata": {},
   "outputs": [
    {
     "data": {
      "text/html": [
       "$q=e^{- \\frac{\\theta^{2}}{b}}$"
      ],
      "text/plain": [
       "<IPython.core.display.HTML object>"
      ]
     },
     "metadata": {},
     "output_type": "display_data"
    }
   ],
   "source": [
    "dmo(q=sp.exp(-theta**2/b))"
   ]
  },
  {
   "cell_type": "code",
   "execution_count": 19,
   "metadata": {},
   "outputs": [
    {
     "data": {
      "text/html": [
       "$r=\\sin{\\left(\\frac{\\pi a}{c} \\right)}$"
      ],
      "text/plain": [
       "<IPython.core.display.HTML object>"
      ]
     },
     "metadata": {},
     "output_type": "display_data"
    }
   ],
   "source": [
    "dmo(r=sp.sin(a*sp.pi/c))"
   ]
  },
  {
   "cell_type": "code",
   "execution_count": 20,
   "metadata": {},
   "outputs": [
    {
     "data": {
      "text/html": [
       "$- \\frac{\\pi a \\cos{\\left(\\frac{\\pi a}{c} \\right)}}{c^{2}}$"
      ],
      "text/plain": [
       "<IPython.core.display.HTML object>"
      ]
     },
     "metadata": {},
     "output_type": "display_data"
    },
    {
     "data": {
      "text/html": [
       "$drdc=- \\frac{\\pi a \\cos{\\left(\\frac{\\pi a}{c} \\right)}}{c^{2}}$"
      ],
      "text/plain": [
       "<IPython.core.display.HTML object>"
      ]
     },
     "metadata": {},
     "output_type": "display_data"
    }
   ],
   "source": [
    "dmo(sp.diff(r,c))\n",
    "dmo(drdc = sp.diff(r,c))"
   ]
  },
  {
   "cell_type": "code",
   "execution_count": 21,
   "metadata": {},
   "outputs": [
    {
     "data": {
      "text/html": [
       "$d2rdcda=\\frac{\\pi^{2} a \\sin{\\left(\\frac{\\pi a}{c} \\right)}}{c^{3}} - \\frac{\\pi \\cos{\\left(\\frac{\\pi a}{c} \\right)}}{c^{2}}$"
      ],
      "text/plain": [
       "<IPython.core.display.HTML object>"
      ]
     },
     "metadata": {},
     "output_type": "display_data"
    }
   ],
   "source": [
    "dmo(d2rdcda=sp.diff(drdc,a))"
   ]
  },
  {
   "cell_type": "code",
   "execution_count": 22,
   "metadata": {},
   "outputs": [
    {
     "data": {
      "text/html": [
       "$\\frac{\\partial^{}drdc }{\\partial a^{} }=\\frac{\\partial^{} }{\\partial a^{} }{\\left(- \\frac{\\pi a \\cos{\\left(\\frac{\\pi a}{c} \\right)}}{c^{2}}\\right)}=\\frac{\\pi^{2} a \\sin{\\left(\\frac{\\pi a}{c} \\right)}}{c^{3}} - \\frac{\\pi \\cos{\\left(\\frac{\\pi a}{c} \\right)}}{c^{2}}$"
      ],
      "text/plain": [
       "<IPython.core.display.HTML object>"
      ]
     },
     "metadata": {},
     "output_type": "display_data"
    },
    {
     "data": {
      "text/html": [
       "$d2rdcda=\\frac{\\pi^{2} a \\sin{\\left(\\frac{\\pi a}{c} \\right)}}{c^{3}} - \\frac{\\pi \\cos{\\left(\\frac{\\pi a}{c} \\right)}}{c^{2}}$"
      ],
      "text/plain": [
       "<IPython.core.display.HTML object>"
      ]
     },
     "metadata": {},
     "output_type": "display_data"
    }
   ],
   "source": [
    "dmo(d2rdcda=diff(drdc,a))"
   ]
  },
  {
   "cell_type": "code",
   "execution_count": 23,
   "metadata": {},
   "outputs": [
    {
     "data": {
      "text/html": [
       "$psi=e^{- i b}$"
      ],
      "text/plain": [
       "<IPython.core.display.HTML object>"
      ]
     },
     "metadata": {},
     "output_type": "display_data"
    }
   ],
   "source": [
    "dmo(psi=sp.exp(-sp.I*b))"
   ]
  },
  {
   "cell_type": "code",
   "execution_count": 24,
   "metadata": {},
   "outputs": [
    {
     "data": {
      "text/html": [
       "$psi=e^{- i b}$"
      ],
      "text/plain": [
       "<IPython.core.display.HTML object>"
      ]
     },
     "metadata": {},
     "output_type": "display_data"
    }
   ],
   "source": [
    "dmo(psi)"
   ]
  },
  {
   "cell_type": "code",
   "execution_count": 25,
   "metadata": {},
   "outputs": [
    {
     "data": {
      "text/html": [
       "$psi1=-0.7027 - 0.7115 i$"
      ],
      "text/plain": [
       "<IPython.core.display.HTML object>"
      ]
     },
     "metadata": {},
     "output_type": "display_data"
    }
   ],
   "source": [
    "dmo(psi1=psi.evalf(4,subs={b:2.35}))"
   ]
  },
  {
   "cell_type": "code",
   "execution_count": 26,
   "metadata": {},
   "outputs": [
    {
     "data": {
      "text/html": [
       "$psi1=-0.7027 - 0.7115 i$"
      ],
      "text/plain": [
       "<IPython.core.display.HTML object>"
      ]
     },
     "metadata": {},
     "output_type": "display_data"
    }
   ],
   "source": [
    "dmo(psi1)"
   ]
  },
  {
   "cell_type": "code",
   "execution_count": 27,
   "metadata": {},
   "outputs": [
    {
     "data": {
      "text/plain": [
       "-0.7027 - 0.7115*I"
      ]
     },
     "execution_count": 27,
     "metadata": {},
     "output_type": "execute_result"
    }
   ],
   "source": [
    "_"
   ]
  },
  {
   "cell_type": "code",
   "execution_count": 28,
   "metadata": {},
   "outputs": [
    {
     "ename": "TypeError",
     "evalue": "pretty_print() got an unexpected keyword argument 'ppd'",
     "output_type": "error",
     "traceback": [
      "\u001b[0;31m---------------------------------------------------------------------------\u001b[0m",
      "\u001b[0;31mTypeError\u001b[0m                                 Traceback (most recent call last)",
      "\u001b[0;32m<ipython-input-28-be9acd04610b>\u001b[0m in \u001b[0;36m<module>\u001b[0;34m\u001b[0m\n\u001b[1;32m      2\u001b[0m \u001b[0;32mfrom\u001b[0m \u001b[0msympy\u001b[0m \u001b[0;32mimport\u001b[0m \u001b[0;34m*\u001b[0m\u001b[0;34m\u001b[0m\u001b[0;34m\u001b[0m\u001b[0m\n\u001b[1;32m      3\u001b[0m \u001b[0mvar\u001b[0m\u001b[0;34m(\u001b[0m\u001b[0;34m'ppa ppb ppc'\u001b[0m\u001b[0;34m)\u001b[0m\u001b[0;34m\u001b[0m\u001b[0;34m\u001b[0m\u001b[0m\n\u001b[0;32m----> 4\u001b[0;31m \u001b[0mpretty_print\u001b[0m\u001b[0;34m(\u001b[0m\u001b[0mppd\u001b[0m\u001b[0;34m=\u001b[0m\u001b[0mppa\u001b[0m\u001b[0;34m*\u001b[0m\u001b[0mppb\u001b[0m\u001b[0;34m/\u001b[0m\u001b[0mppc\u001b[0m\u001b[0;34m)\u001b[0m\u001b[0;34m\u001b[0m\u001b[0;34m\u001b[0m\u001b[0m\n\u001b[0m",
      "\u001b[0;31mTypeError\u001b[0m: pretty_print() got an unexpected keyword argument 'ppd'"
     ]
    }
   ],
   "source": [
    "# abuse of pretty_print. It does not handle what dmo does.\n",
    "from sympy import *\n",
    "var('ppa ppb ppc')\n",
    "pretty_print(ppd=ppa*ppb/ppc)"
   ]
  },
  {
   "cell_type": "code",
   "execution_count": 2,
   "metadata": {},
   "outputs": [],
   "source": [
    "import sympy as sp\n",
    "sp.Min?"
   ]
  },
  {
   "cell_type": "code",
   "execution_count": 6,
   "metadata": {},
   "outputs": [
    {
     "data": {
      "text/plain": [
       "int"
      ]
     },
     "execution_count": 6,
     "metadata": {},
     "output_type": "execute_result"
    }
   ],
   "source": [
    "type(2)"
   ]
  },
  {
   "cell_type": "code",
   "execution_count": 8,
   "metadata": {},
   "outputs": [
    {
     "data": {
      "text/plain": [
       "float"
      ]
     },
     "execution_count": 8,
     "metadata": {},
     "output_type": "execute_result"
    }
   ],
   "source": [
    "type(2.0)"
   ]
  },
  {
   "cell_type": "code",
   "execution_count": null,
   "metadata": {},
   "outputs": [],
   "source": []
  }
 ],
 "metadata": {
  "kernelspec": {
   "display_name": "Python 3",
   "language": "python",
   "name": "python3"
  },
  "language_info": {
   "codemirror_mode": {
    "name": "ipython",
    "version": 3
   },
   "file_extension": ".py",
   "mimetype": "text/x-python",
   "name": "python",
   "nbconvert_exporter": "python",
   "pygments_lexer": "ipython3",
   "version": "3.6.9"
  }
 },
 "nbformat": 4,
 "nbformat_minor": 2
}
