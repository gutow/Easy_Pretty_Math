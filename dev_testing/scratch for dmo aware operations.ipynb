{
 "cells": [
  {
   "cell_type": "code",
   "execution_count": 1,
   "metadata": {},
   "outputs": [],
   "source": [
    "from IPython.display import HTML as html, HTML\n",
    "from IPython.display import display\n",
    "import sympy as sp\n",
    "import inspect\n",
    "\n",
    "def retrieve_name(var):# Used to identify the string used to name an expression\n",
    "    callers_local_vars = inspect.currentframe().f_back.f_back.f_locals.items()\n",
    "    string_name = ''\n",
    "    for var_name, var_val in callers_local_vars:\n",
    "        if (var_val is var) and not (var_name.startswith('_')):\n",
    "            string_name = var_name\n",
    "    return string_name\n",
    "\n",
    "def search_globals(var):\n",
    "    string_name = ''\n",
    "    for var_name in globals():\n",
    "        if (globals()[var_name]==var) and not (var_name.startswith('_')):\n",
    "            string_name = var_name\n",
    "    return string_name\n",
    "        \n",
    "def dmo_auto(status=True):\n",
    "    '''\n",
    "    sets the status of dmo (display math operation) to True by default or False if `status=False`\n",
    "    is passed to the function. If true dmo aware functions will attempt to display typeset\n",
    "    expressions for the operations carried out. If False they will only display typeset expressions\n",
    "    for the operations if `display_op=True` is set in the function call. See the documentation for\n",
    "    each function.\n",
    "    '''\n",
    "    globals()['_dmo_auto_']=status\n",
    "    return('Automatic display of math operation activated for `dmo aware` operations.')\n",
    "\n",
    "def dmo(*exprs,**kwarg): #Display math operation\n",
    "    '''\n",
    "    Pass one of:\n",
    "    *exprs:     any valid symbolic math expression or function call (e.g. 2*x, sin(2*x)).\n",
    "    **kwarg:    any valid symbol equal to an expression or function call (e.g. P=n*R*T/V,\n",
    "                r=sin(theta)). This must be the first item with an equal sign appearing\n",
    "                in the list of arguments.\n",
    "                \n",
    "                additionally you can add these options:\n",
    "                code=True, if you want the code version of the evaluated expression to\n",
    "                    appear in the cell output. Useful if you want to copy and edit into\n",
    "                    another code cell. Note if `sympy.init_printing(pretty_print=True)` is\n",
    "                    set the code will still be displayed as typeset. Call `sympy.init_printing`\n",
    "                    with `pretty_print=False` to get non-typeset output.\n",
    "    \n",
    "    In an IPython/Jupyter notebook will display a typeset version of the operation and return\n",
    "    the expression to the namespace for further operations. The function tries to identify\n",
    "    the actual string (name) passed for the expression and output the typeset expression \n",
    "    `name=result of the operation`. If it cannot identify the actual string passed it just\n",
    "    outputs the typeset result of the operation.\n",
    "    \n",
    "    J. Gutow May 2020.\n",
    "    '''\n",
    "    code = kwarg.pop('code', None)\n",
    "    expr=None\n",
    "    if(len(exprs) >= 1):\n",
    "        expr = exprs[0] #ignore others.\n",
    "        #namestr=retrieve_name(expr)\n",
    "        namestr=search_globals(expr)\n",
    "        if (namestr==''):\n",
    "            display(html(r'$'+sp.latex(expr)+'$'))\n",
    "        else:\n",
    "            display(html(r'$'+namestr+'='+sp.latex(expr)+'$'))\n",
    "    else:\n",
    "        key = list(kwarg)[0] #ignore all but first.\n",
    "        expr = kwarg[key]\n",
    "        display(html(r'$'+(key)+'='+sp.latex(expr)+'$'))\n",
    "        globals()[key]=expr #inject into namespace.\n",
    "    globals()['_']=expr #inject into last result\n",
    "    if (code):\n",
    "        return(expr)\n",
    "    pass"
   ]
  },
  {
   "cell_type": "code",
   "execution_count": 2,
   "metadata": {},
   "outputs": [
    {
     "data": {
      "text/plain": [
       "'Automatic display of math operation activated for `dmo aware` operations.'"
      ]
     },
     "execution_count": 2,
     "metadata": {},
     "output_type": "execute_result"
    }
   ],
   "source": [
    "# Turning off sympy auto pretty printing as that seems to be the default in latest Jupyter/Sympy.\n",
    "sp.init_printing(pretty_print=False)\n",
    "# Turning on auto display math operations\n",
    "dmo_auto()"
   ]
  },
  {
   "cell_type": "code",
   "execution_count": 3,
   "metadata": {},
   "outputs": [],
   "source": [
    "#Integration\n",
    "def integ(f, *args, **kwargs):\n",
    "    display_op=kwargs.pop('display_op',None) # For getting nice display from bare function.\n",
    "    result=sp.integrate(f,*args,**kwargs)\n",
    "    try:\n",
    "        dmo_auto = globals()['_dmo_auto_']\n",
    "    except KeyError:\n",
    "        dmo_auto=False\n",
    "    if (display_op==False): #force overide of dmo_auto\n",
    "        dmo_auto=False\n",
    "    oper=None\n",
    "    if (dmo_auto) or (display_op):\n",
    "        #namestr=retrieve_name(f)\n",
    "        namestr=search_globals(f)\n",
    "        ltop1=''\n",
    "        if not(namestr==''):\n",
    "            oper1=sp.Integral(namestr,*args,**kwargs)\n",
    "            ltop1=sp.latex(oper1)+'='\n",
    "        oper=sp.Integral(f,*args,**kwargs)\n",
    "        #do substitution of namestr into latex of operation?\n",
    "        display(HTML('$'+ltop1+sp.latex(oper)+'='+sp.latex(result)+'$'))\n",
    "    return(result)"
   ]
  },
  {
   "cell_type": "code",
   "execution_count": 4,
   "metadata": {},
   "outputs": [],
   "source": [
    "sp.integrate?"
   ]
  },
  {
   "cell_type": "code",
   "execution_count": 5,
   "metadata": {},
   "outputs": [
    {
     "data": {
      "text/html": [
       "$\\frac{\\sqrt{\\pi} a \\operatorname{erf}{\\left(b \\sqrt{\\frac{1}{c}} \\right)}}{2 \\sqrt{\\frac{1}{c}}}$"
      ],
      "text/plain": [
       "<IPython.core.display.HTML object>"
      ]
     },
     "metadata": {},
     "output_type": "display_data"
    }
   ],
   "source": [
    "sp.var('a b c')\n",
    "dmo(sp.integrate(a*sp.exp(-b**2/c),b))"
   ]
  },
  {
   "cell_type": "code",
   "execution_count": 6,
   "metadata": {},
   "outputs": [
    {
     "data": {
      "text/html": [
       "$\\int a e^{- \\frac{b^{2}}{c}}\\, db$"
      ],
      "text/plain": [
       "<IPython.core.display.HTML object>"
      ]
     },
     "metadata": {},
     "output_type": "display_data"
    }
   ],
   "source": [
    "dmo(sp.Integral(a*sp.exp(-b**2/c),b))"
   ]
  },
  {
   "cell_type": "code",
   "execution_count": 7,
   "metadata": {},
   "outputs": [
    {
     "data": {
      "text/html": [
       "$\\int a e^{- \\frac{b^{2}}{c}}\\, db=\\frac{\\sqrt{\\pi} a \\operatorname{erf}{\\left(b \\sqrt{\\frac{1}{c}} \\right)}}{2 \\sqrt{\\frac{1}{c}}}$"
      ],
      "text/plain": [
       "<IPython.core.display.HTML object>"
      ]
     },
     "metadata": {},
     "output_type": "display_data"
    },
    {
     "data": {
      "text/plain": [
       "sqrt(pi)*a*erf(b*sqrt(1/c))/(2*sqrt(1/c))"
      ]
     },
     "execution_count": 7,
     "metadata": {},
     "output_type": "execute_result"
    }
   ],
   "source": [
    "integ(a*sp.exp(-b**2/c),b)"
   ]
  },
  {
   "cell_type": "code",
   "execution_count": 8,
   "metadata": {},
   "outputs": [
    {
     "data": {
      "text/html": [
       "$\\int q\\, dc=\\int \\frac{a b}{c^{2}}\\, dc=- \\frac{a b}{c}$"
      ],
      "text/plain": [
       "<IPython.core.display.HTML object>"
      ]
     },
     "metadata": {},
     "output_type": "display_data"
    },
    {
     "data": {
      "text/plain": [
       "-a*b/c"
      ]
     },
     "execution_count": 8,
     "metadata": {},
     "output_type": "execute_result"
    }
   ],
   "source": [
    "q=a*b/c**2\n",
    "integ(q,c)"
   ]
  },
  {
   "cell_type": "code",
   "execution_count": 9,
   "metadata": {},
   "outputs": [
    {
     "data": {
      "text/plain": [
       "-a*b/c"
      ]
     },
     "execution_count": 9,
     "metadata": {},
     "output_type": "execute_result"
    }
   ],
   "source": [
    "integ(q,c,display_op=False)"
   ]
  },
  {
   "cell_type": "code",
   "execution_count": 10,
   "metadata": {},
   "outputs": [
    {
     "data": {
      "text/html": [
       "$- \\frac{a b}{c}$"
      ],
      "text/plain": [
       "<IPython.core.display.HTML object>"
      ]
     },
     "metadata": {},
     "output_type": "display_data"
    },
    {
     "data": {
      "text/html": [
       "$\\int q\\, dc=\\int \\frac{a b}{c^{2}}\\, dc=- \\frac{a b}{c}$"
      ],
      "text/plain": [
       "<IPython.core.display.HTML object>"
      ]
     },
     "metadata": {},
     "output_type": "display_data"
    },
    {
     "data": {
      "text/html": [
       "$- \\frac{a b}{c}$"
      ],
      "text/plain": [
       "<IPython.core.display.HTML object>"
      ]
     },
     "metadata": {},
     "output_type": "display_data"
    }
   ],
   "source": [
    "dmo(integ(q,c,display_op=False))\n",
    "dmo(integ(q,c))"
   ]
  },
  {
   "cell_type": "code",
   "execution_count": 11,
   "metadata": {},
   "outputs": [
    {
     "data": {
      "text/html": [
       "$\\int q\\, dc=\\int \\frac{a b}{c^{2}}\\, dc=- \\frac{a b}{c}$"
      ],
      "text/plain": [
       "<IPython.core.display.HTML object>"
      ]
     },
     "metadata": {},
     "output_type": "display_data"
    },
    {
     "data": {
      "text/html": [
       "$r=- \\frac{a b}{c}$"
      ],
      "text/plain": [
       "<IPython.core.display.HTML object>"
      ]
     },
     "metadata": {},
     "output_type": "display_data"
    }
   ],
   "source": [
    "dmo(r = integ(q,c))"
   ]
  },
  {
   "cell_type": "code",
   "execution_count": 12,
   "metadata": {},
   "outputs": [
    {
     "ename": "TypeError",
     "evalue": "eval() arg 1 must be a string, bytes or code object",
     "output_type": "error",
     "traceback": [
      "\u001b[0;31m---------------------------------------------------------------------------\u001b[0m",
      "\u001b[0;31mTypeError\u001b[0m                                 Traceback (most recent call last)",
      "\u001b[0;32m<ipython-input-12-f69d7c4fbf40>\u001b[0m in \u001b[0;36m<module>\u001b[0;34m\u001b[0m\n\u001b[1;32m      1\u001b[0m \u001b[0;31m#pass a kwarg?\u001b[0m\u001b[0;34m\u001b[0m\u001b[0;34m\u001b[0m\u001b[0;34m\u001b[0m\u001b[0m\n\u001b[1;32m      2\u001b[0m \u001b[0mnop\u001b[0m\u001b[0;34m=\u001b[0m\u001b[0;34m{\u001b[0m\u001b[0;34m'display_op'\u001b[0m\u001b[0;34m:\u001b[0m\u001b[0;32mFalse\u001b[0m\u001b[0;34m}\u001b[0m\u001b[0;34m\u001b[0m\u001b[0;34m\u001b[0m\u001b[0m\n\u001b[0;32m----> 3\u001b[0;31m \u001b[0minteg\u001b[0m\u001b[0;34m(\u001b[0m\u001b[0mq\u001b[0m\u001b[0;34m,\u001b[0m\u001b[0mc\u001b[0m\u001b[0;34m,\u001b[0m\u001b[0meval\u001b[0m\u001b[0;34m(\u001b[0m\u001b[0mnop\u001b[0m\u001b[0;34m)\u001b[0m\u001b[0;34m)\u001b[0m\u001b[0;34m\u001b[0m\u001b[0;34m\u001b[0m\u001b[0m\n\u001b[0m",
      "\u001b[0;31mTypeError\u001b[0m: eval() arg 1 must be a string, bytes or code object"
     ]
    }
   ],
   "source": [
    "#pass a kwarg?\n",
    "nop={'display_op':False}\n",
    "integ(q,c,eval(nop))"
   ]
  },
  {
   "cell_type": "code",
   "execution_count": 13,
   "metadata": {},
   "outputs": [],
   "source": [
    "#trig ?\n",
    "def sin(f, **kwargs):\n",
    "    def subs(*args,**kwargs):\n",
    "        return(sp.sin.subs(*args,**kwargs))\n",
    "        \n",
    "    display_op=kwargs.pop('display_op',None) # For getting nice display from bare function.\n",
    "    result=sp.sin(f,**kwargs)\n",
    "    try:\n",
    "        dmo_auto = globals()['_dmo_auto_']\n",
    "    except KeyError:\n",
    "        dmo_auto=False\n",
    "    if (display_op==False): #force overide of dmo_auto\n",
    "        dmo_auto=False\n",
    "    oper=None\n",
    "    if (dmo_auto) or (display_op):\n",
    "        #namestr=retrieve_name(f)\n",
    "        namestr=search_globals(f)\n",
    "        ltop1=''\n",
    "        if not(namestr==''):\n",
    "            oper1=sp.sin(namestr,evaluate=False)\n",
    "            ltop1=sp.latex(oper1)+'='\n",
    "        kwargs['evaluate']=False\n",
    "        oper=sp.sin(f,**kwargs)\n",
    "        ltoper=''\n",
    "        if not(oper==result):\n",
    "            ltoper=sp.latex(oper)+'='            \n",
    "        display(HTML('$'+ltop1+ltoper+sp.latex(result)+'$'))\n",
    "    return(result)"
   ]
  },
  {
   "cell_type": "code",
   "execution_count": 14,
   "metadata": {},
   "outputs": [
    {
     "data": {
      "text/plain": [
       "0.932039085967226"
      ]
     },
     "execution_count": 14,
     "metadata": {},
     "output_type": "execute_result"
    }
   ],
   "source": [
    "sp.sin(1.2)"
   ]
  },
  {
   "cell_type": "code",
   "execution_count": 15,
   "metadata": {},
   "outputs": [
    {
     "data": {
      "text/html": [
       "$\\sin{\\left(\\frac{a}{2 b} \\right)}$"
      ],
      "text/plain": [
       "<IPython.core.display.HTML object>"
      ]
     },
     "metadata": {},
     "output_type": "display_data"
    },
    {
     "data": {
      "text/plain": [
       "sin(a/(2*b))"
      ]
     },
     "execution_count": 15,
     "metadata": {},
     "output_type": "execute_result"
    }
   ],
   "source": [
    "sin(2*a/4/b)"
   ]
  },
  {
   "cell_type": "code",
   "execution_count": 16,
   "metadata": {},
   "outputs": [
    {
     "data": {
      "text/html": [
       "$\\sin{\\left(1.2 \\right)}=0.932039085967226$"
      ],
      "text/plain": [
       "<IPython.core.display.HTML object>"
      ]
     },
     "metadata": {},
     "output_type": "display_data"
    },
    {
     "data": {
      "text/html": [
       "$\\sin{\\left(1.2 \\right)}=0.932039085967226$"
      ],
      "text/plain": [
       "<IPython.core.display.HTML object>"
      ]
     },
     "metadata": {},
     "output_type": "display_data"
    },
    {
     "data": {
      "text/html": [
       "$h=0.932039085967226$"
      ],
      "text/plain": [
       "<IPython.core.display.HTML object>"
      ]
     },
     "metadata": {},
     "output_type": "display_data"
    }
   ],
   "source": [
    "sin(1.2)\n",
    "dmo(h=sin(1.2))"
   ]
  },
  {
   "cell_type": "code",
   "execution_count": 17,
   "metadata": {},
   "outputs": [
    {
     "data": {
      "text/html": [
       "$\\sin{\\left(\\frac{a}{2 b} \\right)}$"
      ],
      "text/plain": [
       "<IPython.core.display.HTML object>"
      ]
     },
     "metadata": {},
     "output_type": "display_data"
    },
    {
     "data": {
      "text/html": [
       "$h2=\\sin{\\left(\\frac{a}{2 b} \\right)}$"
      ],
      "text/plain": [
       "<IPython.core.display.HTML object>"
      ]
     },
     "metadata": {},
     "output_type": "display_data"
    }
   ],
   "source": [
    "dmo(h2=sin(2*a/4/b))"
   ]
  },
  {
   "cell_type": "code",
   "execution_count": 18,
   "metadata": {},
   "outputs": [
    {
     "data": {
      "text/html": [
       "$\\sin{\\left(q \\right)}=\\sin{\\left(\\frac{a b}{c^{2}} \\right)}$"
      ],
      "text/plain": [
       "<IPython.core.display.HTML object>"
      ]
     },
     "metadata": {},
     "output_type": "display_data"
    },
    {
     "data": {
      "text/plain": [
       "sin(a*b/c**2)"
      ]
     },
     "execution_count": 18,
     "metadata": {},
     "output_type": "execute_result"
    }
   ],
   "source": [
    "sin(q)"
   ]
  },
  {
   "cell_type": "code",
   "execution_count": 19,
   "metadata": {},
   "outputs": [
    {
     "data": {
      "text/html": [
       "$\\sin{\\left(q \\right)}=\\sin{\\left(\\frac{a b}{c^{2}} \\right)}$"
      ],
      "text/plain": [
       "<IPython.core.display.HTML object>"
      ]
     },
     "metadata": {},
     "output_type": "display_data"
    },
    {
     "data": {
      "text/html": [
       "$h3=\\sin{\\left(\\frac{a b}{c^{2}} \\right)}$"
      ],
      "text/plain": [
       "<IPython.core.display.HTML object>"
      ]
     },
     "metadata": {},
     "output_type": "display_data"
    }
   ],
   "source": [
    "dmo(h3=sin(q))"
   ]
  },
  {
   "cell_type": "code",
   "execution_count": 20,
   "metadata": {},
   "outputs": [
    {
     "data": {
      "text/html": [
       "$\\sin{\\left(n_{1} \\right)}=\\sin{\\left(1.2 \\right)}=0.932039085967226$"
      ],
      "text/plain": [
       "<IPython.core.display.HTML object>"
      ]
     },
     "metadata": {},
     "output_type": "display_data"
    },
    {
     "data": {
      "text/plain": [
       "0.932039085967226"
      ]
     },
     "execution_count": 20,
     "metadata": {},
     "output_type": "execute_result"
    }
   ],
   "source": [
    "n1= 1.2\n",
    "sin(n1)"
   ]
  },
  {
   "cell_type": "code",
   "execution_count": 21,
   "metadata": {},
   "outputs": [
    {
     "data": {
      "text/html": [
       "$\\sin{\\left(n_{2} \\right)}=\\sin{\\left(n_{2} \\right)}$"
      ],
      "text/plain": [
       "<IPython.core.display.HTML object>"
      ]
     },
     "metadata": {},
     "output_type": "display_data"
    },
    {
     "data": {
      "text/html": [
       "$\\sin{\\left(a \\right)}$"
      ],
      "text/plain": [
       "<IPython.core.display.HTML object>"
      ]
     },
     "metadata": {},
     "output_type": "display_data"
    }
   ],
   "source": [
    "sp.var('n2')\n",
    "dmo(sin(n2).subs(n2,a))"
   ]
  },
  {
   "cell_type": "code",
   "execution_count": 22,
   "metadata": {},
   "outputs": [
    {
     "data": {
      "text/html": [
       "$\\sin{\\left(n_{2} \\right)}=\\sin{\\left(n_{2} \\right)}$"
      ],
      "text/plain": [
       "<IPython.core.display.HTML object>"
      ]
     },
     "metadata": {},
     "output_type": "display_data"
    },
    {
     "data": {
      "text/html": [
       "$h3=\\sin{\\left(n_{2} \\right)}$"
      ],
      "text/plain": [
       "<IPython.core.display.HTML object>"
      ]
     },
     "metadata": {},
     "output_type": "display_data"
    }
   ],
   "source": [
    "dmo(h3=sin(n2))"
   ]
  },
  {
   "cell_type": "code",
   "execution_count": 23,
   "metadata": {},
   "outputs": [
    {
     "data": {
      "text/plain": [
       "0.932039085967226"
      ]
     },
     "execution_count": 23,
     "metadata": {},
     "output_type": "execute_result"
    }
   ],
   "source": [
    "h3.subs({n2:1.2})"
   ]
  },
  {
   "cell_type": "code",
   "execution_count": 24,
   "metadata": {},
   "outputs": [
    {
     "data": {
      "text/html": [
       "$h=0.932039085967226$"
      ],
      "text/plain": [
       "<IPython.core.display.HTML object>"
      ]
     },
     "metadata": {},
     "output_type": "display_data"
    }
   ],
   "source": [
    "dmo(h3.subs(n2,1.2))"
   ]
  },
  {
   "cell_type": "code",
   "execution_count": null,
   "metadata": {},
   "outputs": [],
   "source": [
    "sp.sin."
   ]
  },
  {
   "cell_type": "code",
   "execution_count": 25,
   "metadata": {},
   "outputs": [
    {
     "data": {
      "text/html": [
       "$\\sin{\\left(n_{2} \\right)}=\\sin{\\left(1.2 \\right)}=0.932039085967226$"
      ],
      "text/plain": [
       "<IPython.core.display.HTML object>"
      ]
     },
     "metadata": {},
     "output_type": "display_data"
    },
    {
     "data": {
      "text/html": [
       "$h5=0.932039085967226$"
      ],
      "text/plain": [
       "<IPython.core.display.HTML object>"
      ]
     },
     "metadata": {},
     "output_type": "display_data"
    }
   ],
   "source": [
    "n2 = 1.2\n",
    "dmo(h5=sin(n2))"
   ]
  },
  {
   "cell_type": "code",
   "execution_count": 26,
   "metadata": {},
   "outputs": [
    {
     "data": {
      "text/plain": [
       "sin(n2)"
      ]
     },
     "execution_count": 26,
     "metadata": {},
     "output_type": "execute_result"
    }
   ],
   "source": [
    "h3.evalf(subs={n2:1.2})"
   ]
  },
  {
   "cell_type": "code",
   "execution_count": 27,
   "metadata": {},
   "outputs": [
    {
     "data": {
      "text/plain": [
       "1.2*a"
      ]
     },
     "execution_count": 27,
     "metadata": {},
     "output_type": "execute_result"
    }
   ],
   "source": [
    "a*n2"
   ]
  },
  {
   "cell_type": "code",
   "execution_count": 28,
   "metadata": {},
   "outputs": [
    {
     "data": {
      "text/html": [
       "$g1=- c + \\sin{\\left(\\frac{2 a}{b} \\right)}$"
      ],
      "text/plain": [
       "<IPython.core.display.HTML object>"
      ]
     },
     "metadata": {},
     "output_type": "display_data"
    }
   ],
   "source": [
    "dmo(g1=sp.sin(2*a/b)-c)"
   ]
  },
  {
   "cell_type": "code",
   "execution_count": 29,
   "metadata": {},
   "outputs": [
    {
     "data": {
      "text/html": [
       "$g1=- c + \\sin{\\left(\\frac{2 a}{b} \\right)}$"
      ],
      "text/plain": [
       "<IPython.core.display.HTML object>"
      ]
     },
     "metadata": {},
     "output_type": "display_data"
    }
   ],
   "source": [
    "dmo(g1.evalf(subs={c:1.2,b:3}))"
   ]
  },
  {
   "cell_type": "code",
   "execution_count": 30,
   "metadata": {},
   "outputs": [
    {
     "data": {
      "text/plain": [
       "-c + sin(2*a/b)"
      ]
     },
     "execution_count": 30,
     "metadata": {},
     "output_type": "execute_result"
    }
   ],
   "source": [
    "g1.evalf(subs={c:1.2,b:3})"
   ]
  },
  {
   "cell_type": "code",
   "execution_count": 31,
   "metadata": {},
   "outputs": [
    {
     "data": {
      "text/plain": [
       "-c + sin(2*a/b)"
      ]
     },
     "execution_count": 31,
     "metadata": {},
     "output_type": "execute_result"
    }
   ],
   "source": [
    "g1"
   ]
  },
  {
   "cell_type": "code",
   "execution_count": 32,
   "metadata": {},
   "outputs": [
    {
     "data": {
      "text/plain": [
       "-c + sin(2*a/b)"
      ]
     },
     "execution_count": 32,
     "metadata": {},
     "output_type": "execute_result"
    }
   ],
   "source": [
    "g2=sp.sin(2*a/b)-c\n",
    "g2"
   ]
  },
  {
   "cell_type": "code",
   "execution_count": 33,
   "metadata": {},
   "outputs": [
    {
     "data": {
      "text/plain": [
       "sin(2*a/b) - 1.2"
      ]
     },
     "execution_count": 33,
     "metadata": {},
     "output_type": "execute_result"
    }
   ],
   "source": [
    "g2.subs(c,1.2)"
   ]
  },
  {
   "cell_type": "code",
   "execution_count": 34,
   "metadata": {},
   "outputs": [
    {
     "data": {
      "text/html": [
       "$\\sin{\\left(\\frac{2 a}{b} \\right)} - 1.2$"
      ],
      "text/plain": [
       "<IPython.core.display.HTML object>"
      ]
     },
     "metadata": {},
     "output_type": "display_data"
    }
   ],
   "source": [
    "dmo(g2.subs(c,1.2))"
   ]
  },
  {
   "cell_type": "code",
   "execution_count": 35,
   "metadata": {},
   "outputs": [
    {
     "data": {
      "text/html": [
       "$g3=- c + \\sin{\\left(\\frac{2 a}{b} \\right)}$"
      ],
      "text/plain": [
       "<IPython.core.display.HTML object>"
      ]
     },
     "metadata": {},
     "output_type": "display_data"
    }
   ],
   "source": [
    "dmo(g3=sp.sin(2*a/b)-c)"
   ]
  },
  {
   "cell_type": "code",
   "execution_count": 36,
   "metadata": {},
   "outputs": [
    {
     "data": {
      "text/plain": [
       "sin(2*a/b) - 1.2"
      ]
     },
     "execution_count": 36,
     "metadata": {},
     "output_type": "execute_result"
    }
   ],
   "source": [
    "g3.subs(c,1.2)"
   ]
  },
  {
   "cell_type": "code",
   "execution_count": 37,
   "metadata": {},
   "outputs": [
    {
     "data": {
      "text/html": [
       "$\\sin{\\left(\\frac{2 a}{b} \\right)} - 1.2$"
      ],
      "text/plain": [
       "<IPython.core.display.HTML object>"
      ]
     },
     "metadata": {},
     "output_type": "display_data"
    }
   ],
   "source": [
    "dmo(g3.subs(c,1.2))"
   ]
  },
  {
   "cell_type": "code",
   "execution_count": 38,
   "metadata": {},
   "outputs": [
    {
     "data": {
      "text/html": [
       "$g4=- c + \\sin{\\left(\\frac{2 a}{b} \\right)}$"
      ],
      "text/plain": [
       "<IPython.core.display.HTML object>"
      ]
     },
     "metadata": {},
     "output_type": "display_data"
    },
    {
     "data": {
      "text/html": [
       "$\\sin{\\left(\\frac{2 a}{b} \\right)} - 1.2$"
      ],
      "text/plain": [
       "<IPython.core.display.HTML object>"
      ]
     },
     "metadata": {},
     "output_type": "display_data"
    }
   ],
   "source": [
    "dmo(g4=sp.sin(2*a/b)-c)\n",
    "dmo(g4.subs(c,1.2))"
   ]
  },
  {
   "cell_type": "code",
   "execution_count": 39,
   "metadata": {},
   "outputs": [
    {
     "data": {
      "text/plain": [
       "-c + sin(2*a/b)"
      ]
     },
     "execution_count": 39,
     "metadata": {},
     "output_type": "execute_result"
    }
   ],
   "source": [
    "g4"
   ]
  },
  {
   "cell_type": "code",
   "execution_count": 40,
   "metadata": {},
   "outputs": [
    {
     "data": {
      "text/plain": [
       "-0.228062098636687"
      ]
     },
     "execution_count": 40,
     "metadata": {},
     "output_type": "execute_result"
    }
   ],
   "source": [
    "g4.evalf(subs={c:1.2,a:2,b:3})"
   ]
  },
  {
   "cell_type": "code",
   "execution_count": 41,
   "metadata": {},
   "outputs": [
    {
     "data": {
      "text/html": [
       "$\\sin{\\left(\\frac{2 a}{b} \\right)}$"
      ],
      "text/plain": [
       "<IPython.core.display.HTML object>"
      ]
     },
     "metadata": {},
     "output_type": "display_data"
    },
    {
     "data": {
      "text/plain": [
       "'g4'"
      ]
     },
     "execution_count": 41,
     "metadata": {},
     "output_type": "execute_result"
    }
   ],
   "source": [
    "search_globals(-c + sin(2*a/b))"
   ]
  },
  {
   "cell_type": "code",
   "execution_count": 42,
   "metadata": {},
   "outputs": [
    {
     "data": {
      "text/plain": [
       "-c + sin(2*a/b)"
      ]
     },
     "execution_count": 42,
     "metadata": {},
     "output_type": "execute_result"
    }
   ],
   "source": [
    "g4"
   ]
  },
  {
   "cell_type": "code",
   "execution_count": 43,
   "metadata": {},
   "outputs": [
    {
     "data": {
      "text/html": [
       "$p=\\frac{4 a}{b} - c$"
      ],
      "text/plain": [
       "<IPython.core.display.HTML object>"
      ]
     },
     "metadata": {},
     "output_type": "display_data"
    }
   ],
   "source": [
    "dmo(p=4*a/b-c)"
   ]
  },
  {
   "cell_type": "code",
   "execution_count": 44,
   "metadata": {},
   "outputs": [
    {
     "data": {
      "text/plain": [
       "'p'"
      ]
     },
     "execution_count": 44,
     "metadata": {},
     "output_type": "execute_result"
    }
   ],
   "source": [
    "search_globals(4*a/b-c)"
   ]
  },
  {
   "cell_type": "code",
   "execution_count": 5,
   "metadata": {},
   "outputs": [
    {
     "data": {
      "text/html": [
       "$srt=\\sqrt{lm}$"
      ],
      "text/plain": [
       "<IPython.core.display.HTML object>"
      ]
     },
     "metadata": {},
     "output_type": "display_data"
    }
   ],
   "source": [
    "sp.var('lm')\n",
    "dmo(srt=sp.sqrt(lm))"
   ]
  },
  {
   "cell_type": "code",
   "execution_count": 6,
   "metadata": {},
   "outputs": [
    {
     "data": {
      "text/html": [
       "$4$"
      ],
      "text/plain": [
       "<IPython.core.display.HTML object>"
      ]
     },
     "metadata": {},
     "output_type": "display_data"
    }
   ],
   "source": [
    "dmo(srt.subs(lm,16))"
   ]
  },
  {
   "cell_type": "code",
   "execution_count": 7,
   "metadata": {},
   "outputs": [
    {
     "data": {
      "text/html": [
       "$srt=\\sqrt{lm}$"
      ],
      "text/plain": [
       "<IPython.core.display.HTML object>"
      ]
     },
     "metadata": {},
     "output_type": "display_data"
    }
   ],
   "source": [
    "dmo(srt)"
   ]
  },
  {
   "cell_type": "code",
   "execution_count": 8,
   "metadata": {},
   "outputs": [
    {
     "data": {
      "text/plain": [
       "sympy.core.function.FunctionClass"
      ]
     },
     "execution_count": 8,
     "metadata": {},
     "output_type": "execute_result"
    }
   ],
   "source": [
    "type(sp.sin)"
   ]
  },
  {
   "cell_type": "code",
   "execution_count": 34,
   "metadata": {},
   "outputs": [],
   "source": [
    "import inspect\n",
    "def get_ipython_globals():\n",
    "    is_not_ipython_global=True\n",
    "    global_dict=inspect.currentframe().f_globals\n",
    "    try:\n",
    "        docstr=global_dict['__doc__']\n",
    "        #print(docstr)\n",
    "    except KeyError:\n",
    "        docstr=''\n",
    "    if (docstr=='Automatically created module for IPython interactive environment'):\n",
    "        is_not_ipython_global=False\n",
    "    try:\n",
    "        frame = inspect.currentframe().f_back\n",
    "        nextframe=frame \n",
    "        while (is_not_ipython_global):\n",
    "            nextframe = frame.f_back\n",
    "            frame=nextframe\n",
    "            try:\n",
    "                global_dict=frame.f_globals\n",
    "                docstr=global_dict['__doc__']\n",
    "            except KeyError:\n",
    "                docstr=''\n",
    "            if (docstr=='Automatically created module for IPython interactive environment'):\n",
    "                is_not_ipython_global=False\n",
    "    except:\n",
    "        pass\n",
    "    return(global_dict)"
   ]
  },
  {
   "cell_type": "code",
   "execution_count": 36,
   "metadata": {},
   "outputs": [
    {
     "data": {
      "text/plain": [
       "{'__name__': '__main__',\n",
       " '__doc__': 'Automatically created module for IPython interactive environment',\n",
       " '__package__': None,\n",
       " '__loader__': None,\n",
       " '__spec__': None,\n",
       " '__builtin__': <module 'builtins' (built-in)>,\n",
       " '__builtins__': <module 'builtins' (built-in)>,\n",
       " '_ih': ['',\n",
       "  \"from IPython.display import HTML as html, HTML\\nfrom IPython.display import display\\nimport sympy as sp\\nimport inspect\\n\\ndef retrieve_name(var):# Used to identify the string used to name an expression\\n    callers_local_vars = inspect.currentframe().f_back.f_back.f_locals.items()\\n    string_name = ''\\n    for var_name, var_val in callers_local_vars:\\n        if (var_val is var) and not (var_name.startswith('_')):\\n            string_name = var_name\\n    return string_name\\n\\ndef search_globals(var):\\n    string_name = ''\\n    for var_name in globals():\\n        if (globals()[var_name]==var) and not (var_name.startswith('_')):\\n            string_name = var_name\\n    return string_name\\n        \\ndef dmo_auto(status=True):\\n    '''\\n    sets the status of dmo (display math operation) to True by default or False if `status=False`\\n    is passed to the function. If true dmo aware functions will attempt to display typeset\\n    expressions for the operations carried out. If False they will only display typeset expressions\\n    for the operations if `display_op=True` is set in the function call. See the documentation for\\n    each function.\\n    '''\\n    globals()['_dmo_auto_']=status\\n    return('Automatic display of math operation activated for `dmo aware` operations.')\\n\\ndef dmo(*exprs,**kwarg): #Display math operation\\n    '''\\n    Pass one of:\\n    *exprs:     any valid symbolic math expression or function call (e.g. 2*x, sin(2*x)).\\n    **kwarg:    any valid symbol equal to an expression or function call (e.g. P=n*R*T/V,\\n                r=sin(theta)). This must be the first item with an equal sign appearing\\n                in the list of arguments.\\n                \\n                additionally you can add these options:\\n                code=True, if you want the code version of the evaluated expression to\\n                    appear in the cell output. Useful if you want to copy and edit into\\n                    another code cell. Note if `sympy.init_printing(pretty_print=True)` is\\n                    set the code will still be displayed as typeset. Call `sympy.init_printing`\\n                    with `pretty_print=False` to get non-typeset output.\\n    \\n    In an IPython/Jupyter notebook will display a typeset version of the operation and return\\n    the expression to the namespace for further operations. The function tries to identify\\n    the actual string (name) passed for the expression and output the typeset expression \\n    `name=result of the operation`. If it cannot identify the actual string passed it just\\n    outputs the typeset result of the operation.\\n    \\n    J. Gutow May 2020.\\n    '''\\n    code = kwarg.pop('code', None)\\n    expr=None\\n    if(len(exprs) >= 1):\\n        expr = exprs[0] #ignore others.\\n        #namestr=retrieve_name(expr)\\n        namestr=search_globals(expr)\\n        if (namestr==''):\\n            display(html(r'$'+sp.latex(expr)+'$'))\\n        else:\\n            display(html(r'$'+namestr+'='+sp.latex(expr)+'$'))\\n    else:\\n        key = list(kwarg)[0] #ignore all but first.\\n        expr = kwarg[key]\\n        display(html(r'$'+(key)+'='+sp.latex(expr)+'$'))\\n        globals()[key]=expr #inject into namespace.\\n    globals()['_']=expr #inject into last result\\n    if (code):\\n        return(expr)\\n    pass\",\n",
       "  '# Turning off sympy auto pretty printing as that seems to be the default in latest Jupyter/Sympy.\\nsp.init_printing(pretty_print=False)\\n# Turning on auto display math operations\\ndmo_auto()',\n",
       "  \"#Integration\\ndef integ(f, *args, **kwargs):\\n    display_op=kwargs.pop('display_op',None) # For getting nice display from bare function.\\n    result=sp.integrate(f,*args,**kwargs)\\n    try:\\n        dmo_auto = globals()['_dmo_auto_']\\n    except KeyError:\\n        dmo_auto=False\\n    if (display_op==False): #force overide of dmo_auto\\n        dmo_auto=False\\n    oper=None\\n    if (dmo_auto) or (display_op):\\n        #namestr=retrieve_name(f)\\n        namestr=search_globals(f)\\n        ltop1=''\\n        if not(namestr==''):\\n            oper1=sp.Integral(namestr,*args,**kwargs)\\n            ltop1=sp.latex(oper1)+'='\\n        oper=sp.Integral(f,*args,**kwargs)\\n        #do substitution of namestr into latex of operation?\\n        display(HTML('$'+ltop1+sp.latex(oper)+'='+sp.latex(result)+'$'))\\n    return(result)\",\n",
       "  \"sp.var('lm')\\ndmo(srt=sqrt(lm))\",\n",
       "  \"sp.var('lm')\\ndmo(srt=sp.sqrt(lm))\",\n",
       "  'dmo(srt.subs(lm,16))',\n",
       "  'dmo(srt)',\n",
       "  'type(sp.sin)',\n",
       "  'import inspect\\ndef search_globals2(var):\\n    global_dict={}\\n    frame = inspect.currentframe().f_back\\n    try:\\n        while (nextframe):\\n            nextframe = inspect.frame().f_back\\n            frame=nextframe\\n    except Error:\\n        global_dict=frame.f_globals\\n    print(global_dict)\\n        ',\n",
       "  'search_globals2(t)',\n",
       "  'search_globals2(srt)',\n",
       "  'import inspect\\ndef search_globals2(var):\\n    global_dict={}\\n    frame = inspect.currentframe().f_back\\n    nextframe=frame\\n    try:\\n        while (nextframe):\\n            nextframe = inspect.frame().f_back\\n            frame=nextframe\\n    except Error:\\n        global_dict=frame.f_globals\\n    print(global_dict)\\n        ',\n",
       "  'search_globals2(srt)',\n",
       "  'import inspect\\ndef search_globals2(var):\\n    global_dict={}\\n    frame = inspect.currentframe().f_back\\n    nextframe=frame\\n    try:\\n        while (nextframe):\\n            nextframe = inspect.frame().f_back\\n            frame=nextframe\\n    except AttributeError, NameError:\\n        global_dict=frame.f_globals\\n    print(global_dict)\\n        ',\n",
       "  'import inspect\\ndef search_globals2(var):\\n    global_dict={}\\n    frame = inspect.currentframe().f_back\\n    nextframe=frame\\n    try:\\n        while (nextframe):\\n            nextframe = inspect.frame().f_back\\n            frame=nextframe\\n    except AttributeError NameError:\\n        global_dict=frame.f_globals\\n    print(global_dict)\\n        ',\n",
       "  'import inspect\\ndef search_globals2(var):\\n    global_dict={}\\n    frame = inspect.currentframe().f_back\\n    nextframe=frame\\n    try:\\n        while (nextframe):\\n            nextframe = inspect.frame().f_back\\n            frame=nextframe\\n    except (AttributeError, NameError):\\n        global_dict=frame.f_globals\\n    print(global_dict)\\n        ',\n",
       "  'import inspect\\ndef search_globals2(var):\\n    global_dict={}\\n    frame = inspect.currentframe().f_back\\n    nextframe=frame\\n    try:\\n        while (nextframe):\\n            nextframe = inspect.frame().f_back\\n            frame=nextframe\\n    except (AttributeError, NameError):\\n        global_dict=frame.f_globals\\n    print(global_dict)\\n        ',\n",
       "  'search_globals2(srt)',\n",
       "  'import inspect\\ndef search_globals2(var):\\n    global_dict={}\\n    frame = inspect.currentframe().f_back\\n    nextframe=frame\\n    prev_frame=frame\\n    try:\\n        while (nextframe):\\n            nextframe = inspect.frame().f_back\\n            prev_frame = frame\\n            frame=nextframe\\n    except (AttributeError, NameError):\\n        global_dict=prev_frame.f_globals\\n    print(global_dict)\\n        ',\n",
       "  'search_globals2(srt)',\n",
       "  \"import inspect\\ndef search_globals2(var):\\n    global_dict={}\\n    frame = inspect.currentframe().f_back\\n    nextframe=frame\\n    prev_frame=frame\\n    try:\\n        while (nextframe):\\n            nextframe = inspect.frame().f_back\\n            prev_frame = frame\\n            frame=nextframe\\n    except ():\\n        print('We have an error:')\\n    global_dict=prev_frame.f_globals\\n    print(global_dict)\\n        \",\n",
       "  'search_globals2(srt)',\n",
       "  \"import inspect\\ndef search_globals2(var):\\n    global_dict={}\\n    frame = inspect.currentframe().f_back\\n    nextframe=frame\\n    prev_frame=frame\\n    try:\\n        while (nextframe):\\n            nextframe = frame().f_back\\n            prev_frame = frame\\n            frame=nextframe\\n    except ():\\n        print('We have an error:')\\n    global_dict=prev_frame.f_globals\\n    print(global_dict)\\n        \",\n",
       "  'search_globals2(srt)',\n",
       "  \"import inspect\\ndef search_globals2(var):\\n    global_dict={}\\n    frame = inspect.currentframe().f_back\\n    nextframe=frame\\n    prev_frame=frame\\n    try:\\n        while (nextframe):\\n            nextframe = frame.f_back\\n            prev_frame = frame\\n            frame=nextframe\\n    except ():\\n        print('We have an error:')\\n    global_dict=prev_frame.f_globals\\n    print(global_dict)\\n        \",\n",
       "  'search_globals2(srt)',\n",
       "  'globals()',\n",
       "  \"import inspect\\ndef search_globals2(var):\\n    is_not_ipython_global=True\\n    global_dict=inspect.currentframe().f_globals\\n    try:\\n        docstr=global_dict['__doc__']\\n    except KeyError:\\n        docstr=''\\n    if (docstr=='Automatically created module for IPython interactive environment'):\\n        is_not_ipython_global=False\\n    try:\\n        frame = inspect.currentframe().f_back\\n        nextframe=frame \\n        while (is_not_ipython_global):\\n            nextframe = frame.f_back\\n            frame=nextframe\\n            try:\\n                global_dict=frame.f_globals\\n                docstr=global_dict['__doc__']\\n            except KeyError:\\n                docstr=''\\n            if (docstr=='Automatically created module for IPython interactive environment'):\\n                is_not_ipython_global=False\\n    return(global_dict)\",\n",
       "  \"import inspect\\ndef search_globals2(var):\\n    is_not_ipython_global=True\\n    global_dict=inspect.currentframe().f_globals\\n    try:\\n        docstr=global_dict['__doc__']\\n    except KeyError:\\n        docstr=''\\n    if (docstr=='Automatically created module for IPython interactive environment'):\\n        is_not_ipython_global=False\\n    try:\\n        frame = inspect.currentframe().f_back\\n        nextframe=frame \\n        while (is_not_ipython_global):\\n            nextframe = frame.f_back\\n            frame=nextframe\\n            try:\\n                global_dict=frame.f_globals\\n                docstr=global_dict['__doc__']\\n            except KeyError:\\n                docstr=''\\n            if (docstr=='Automatically created module for IPython interactive environment'):\\n                is_not_ipython_global=False\\n    except:\\n        pass\\n    return(global_dict)\",\n",
       "  \"import inspect\\ndef search_globals2(var):\\n    is_not_ipython_global=True\\n    global_dict=inspect.currentframe().f_globals\\n    try:\\n        docstr=global_dict['__doc__']\\n        print(docstr)\\n    except KeyError:\\n        docstr=''\\n    if (docstr=='Automatically created module for IPython interactive environment'):\\n        is_not_ipython_global=False\\n    try:\\n        frame = inspect.currentframe().f_back\\n        nextframe=frame \\n        while (is_not_ipython_global):\\n            nextframe = frame.f_back\\n            frame=nextframe\\n            try:\\n                global_dict=frame.f_globals\\n                docstr=global_dict['__doc__']\\n            except KeyError:\\n                docstr=''\\n            if (docstr=='Automatically created module for IPython interactive environment'):\\n                is_not_ipython_global=False\\n    except:\\n        pass\\n    return(global_dict)\",\n",
       "  'search_globals2(srt)',\n",
       "  \"import inspect\\ndef search_globals2(var):\\n    is_not_ipython_global=True\\n    global_dict=inspect.currentframe().f_globals\\n    try:\\n        docstr=global_dict['__doc__']\\n        #print(docstr)\\n    except KeyError:\\n        docstr=''\\n    if (docstr=='Automatically created module for IPython interactive environment'):\\n        is_not_ipython_global=False\\n    try:\\n        frame = inspect.currentframe().f_back\\n        nextframe=frame \\n        while (is_not_ipython_global):\\n            nextframe = frame.f_back\\n            frame=nextframe\\n            try:\\n                global_dict=frame.f_globals\\n                docstr=global_dict['__doc__']\\n            except KeyError:\\n                docstr=''\\n            if (docstr=='Automatically created module for IPython interactive environment'):\\n                is_not_ipython_global=False\\n    except:\\n        pass\\n    return(global_dict)\",\n",
       "  'search_globals2(srt)',\n",
       "  \"import inspect\\ndef get_ipython_globals():\\n    is_not_ipython_global=True\\n    global_dict=inspect.currentframe().f_globals\\n    try:\\n        docstr=global_dict['__doc__']\\n        #print(docstr)\\n    except KeyError:\\n        docstr=''\\n    if (docstr=='Automatically created module for IPython interactive environment'):\\n        is_not_ipython_global=False\\n    try:\\n        frame = inspect.currentframe().f_back\\n        nextframe=frame \\n        while (is_not_ipython_global):\\n            nextframe = frame.f_back\\n            frame=nextframe\\n            try:\\n                global_dict=frame.f_globals\\n                docstr=global_dict['__doc__']\\n            except KeyError:\\n                docstr=''\\n            if (docstr=='Automatically created module for IPython interactive environment'):\\n                is_not_ipython_global=False\\n    except:\\n        pass\\n    return(global_dict)\",\n",
       "  'get_ipython_globals',\n",
       "  'get_ipython_globals()'],\n",
       " '_oh': {2: 'Automatic display of math operation activated for `dmo aware` operations.',\n",
       "  8: sympy.core.function.FunctionClass,\n",
       "  27: {...},\n",
       "  31: {...},\n",
       "  33: {...},\n",
       "  35: <function __main__.get_ipython_globals()>},\n",
       " '_dh': ['/home/jonathan/GIT/Easy_Pretty_Math'],\n",
       " 'In': ['',\n",
       "  \"from IPython.display import HTML as html, HTML\\nfrom IPython.display import display\\nimport sympy as sp\\nimport inspect\\n\\ndef retrieve_name(var):# Used to identify the string used to name an expression\\n    callers_local_vars = inspect.currentframe().f_back.f_back.f_locals.items()\\n    string_name = ''\\n    for var_name, var_val in callers_local_vars:\\n        if (var_val is var) and not (var_name.startswith('_')):\\n            string_name = var_name\\n    return string_name\\n\\ndef search_globals(var):\\n    string_name = ''\\n    for var_name in globals():\\n        if (globals()[var_name]==var) and not (var_name.startswith('_')):\\n            string_name = var_name\\n    return string_name\\n        \\ndef dmo_auto(status=True):\\n    '''\\n    sets the status of dmo (display math operation) to True by default or False if `status=False`\\n    is passed to the function. If true dmo aware functions will attempt to display typeset\\n    expressions for the operations carried out. If False they will only display typeset expressions\\n    for the operations if `display_op=True` is set in the function call. See the documentation for\\n    each function.\\n    '''\\n    globals()['_dmo_auto_']=status\\n    return('Automatic display of math operation activated for `dmo aware` operations.')\\n\\ndef dmo(*exprs,**kwarg): #Display math operation\\n    '''\\n    Pass one of:\\n    *exprs:     any valid symbolic math expression or function call (e.g. 2*x, sin(2*x)).\\n    **kwarg:    any valid symbol equal to an expression or function call (e.g. P=n*R*T/V,\\n                r=sin(theta)). This must be the first item with an equal sign appearing\\n                in the list of arguments.\\n                \\n                additionally you can add these options:\\n                code=True, if you want the code version of the evaluated expression to\\n                    appear in the cell output. Useful if you want to copy and edit into\\n                    another code cell. Note if `sympy.init_printing(pretty_print=True)` is\\n                    set the code will still be displayed as typeset. Call `sympy.init_printing`\\n                    with `pretty_print=False` to get non-typeset output.\\n    \\n    In an IPython/Jupyter notebook will display a typeset version of the operation and return\\n    the expression to the namespace for further operations. The function tries to identify\\n    the actual string (name) passed for the expression and output the typeset expression \\n    `name=result of the operation`. If it cannot identify the actual string passed it just\\n    outputs the typeset result of the operation.\\n    \\n    J. Gutow May 2020.\\n    '''\\n    code = kwarg.pop('code', None)\\n    expr=None\\n    if(len(exprs) >= 1):\\n        expr = exprs[0] #ignore others.\\n        #namestr=retrieve_name(expr)\\n        namestr=search_globals(expr)\\n        if (namestr==''):\\n            display(html(r'$'+sp.latex(expr)+'$'))\\n        else:\\n            display(html(r'$'+namestr+'='+sp.latex(expr)+'$'))\\n    else:\\n        key = list(kwarg)[0] #ignore all but first.\\n        expr = kwarg[key]\\n        display(html(r'$'+(key)+'='+sp.latex(expr)+'$'))\\n        globals()[key]=expr #inject into namespace.\\n    globals()['_']=expr #inject into last result\\n    if (code):\\n        return(expr)\\n    pass\",\n",
       "  '# Turning off sympy auto pretty printing as that seems to be the default in latest Jupyter/Sympy.\\nsp.init_printing(pretty_print=False)\\n# Turning on auto display math operations\\ndmo_auto()',\n",
       "  \"#Integration\\ndef integ(f, *args, **kwargs):\\n    display_op=kwargs.pop('display_op',None) # For getting nice display from bare function.\\n    result=sp.integrate(f,*args,**kwargs)\\n    try:\\n        dmo_auto = globals()['_dmo_auto_']\\n    except KeyError:\\n        dmo_auto=False\\n    if (display_op==False): #force overide of dmo_auto\\n        dmo_auto=False\\n    oper=None\\n    if (dmo_auto) or (display_op):\\n        #namestr=retrieve_name(f)\\n        namestr=search_globals(f)\\n        ltop1=''\\n        if not(namestr==''):\\n            oper1=sp.Integral(namestr,*args,**kwargs)\\n            ltop1=sp.latex(oper1)+'='\\n        oper=sp.Integral(f,*args,**kwargs)\\n        #do substitution of namestr into latex of operation?\\n        display(HTML('$'+ltop1+sp.latex(oper)+'='+sp.latex(result)+'$'))\\n    return(result)\",\n",
       "  \"sp.var('lm')\\ndmo(srt=sqrt(lm))\",\n",
       "  \"sp.var('lm')\\ndmo(srt=sp.sqrt(lm))\",\n",
       "  'dmo(srt.subs(lm,16))',\n",
       "  'dmo(srt)',\n",
       "  'type(sp.sin)',\n",
       "  'import inspect\\ndef search_globals2(var):\\n    global_dict={}\\n    frame = inspect.currentframe().f_back\\n    try:\\n        while (nextframe):\\n            nextframe = inspect.frame().f_back\\n            frame=nextframe\\n    except Error:\\n        global_dict=frame.f_globals\\n    print(global_dict)\\n        ',\n",
       "  'search_globals2(t)',\n",
       "  'search_globals2(srt)',\n",
       "  'import inspect\\ndef search_globals2(var):\\n    global_dict={}\\n    frame = inspect.currentframe().f_back\\n    nextframe=frame\\n    try:\\n        while (nextframe):\\n            nextframe = inspect.frame().f_back\\n            frame=nextframe\\n    except Error:\\n        global_dict=frame.f_globals\\n    print(global_dict)\\n        ',\n",
       "  'search_globals2(srt)',\n",
       "  'import inspect\\ndef search_globals2(var):\\n    global_dict={}\\n    frame = inspect.currentframe().f_back\\n    nextframe=frame\\n    try:\\n        while (nextframe):\\n            nextframe = inspect.frame().f_back\\n            frame=nextframe\\n    except AttributeError, NameError:\\n        global_dict=frame.f_globals\\n    print(global_dict)\\n        ',\n",
       "  'import inspect\\ndef search_globals2(var):\\n    global_dict={}\\n    frame = inspect.currentframe().f_back\\n    nextframe=frame\\n    try:\\n        while (nextframe):\\n            nextframe = inspect.frame().f_back\\n            frame=nextframe\\n    except AttributeError NameError:\\n        global_dict=frame.f_globals\\n    print(global_dict)\\n        ',\n",
       "  'import inspect\\ndef search_globals2(var):\\n    global_dict={}\\n    frame = inspect.currentframe().f_back\\n    nextframe=frame\\n    try:\\n        while (nextframe):\\n            nextframe = inspect.frame().f_back\\n            frame=nextframe\\n    except (AttributeError, NameError):\\n        global_dict=frame.f_globals\\n    print(global_dict)\\n        ',\n",
       "  'import inspect\\ndef search_globals2(var):\\n    global_dict={}\\n    frame = inspect.currentframe().f_back\\n    nextframe=frame\\n    try:\\n        while (nextframe):\\n            nextframe = inspect.frame().f_back\\n            frame=nextframe\\n    except (AttributeError, NameError):\\n        global_dict=frame.f_globals\\n    print(global_dict)\\n        ',\n",
       "  'search_globals2(srt)',\n",
       "  'import inspect\\ndef search_globals2(var):\\n    global_dict={}\\n    frame = inspect.currentframe().f_back\\n    nextframe=frame\\n    prev_frame=frame\\n    try:\\n        while (nextframe):\\n            nextframe = inspect.frame().f_back\\n            prev_frame = frame\\n            frame=nextframe\\n    except (AttributeError, NameError):\\n        global_dict=prev_frame.f_globals\\n    print(global_dict)\\n        ',\n",
       "  'search_globals2(srt)',\n",
       "  \"import inspect\\ndef search_globals2(var):\\n    global_dict={}\\n    frame = inspect.currentframe().f_back\\n    nextframe=frame\\n    prev_frame=frame\\n    try:\\n        while (nextframe):\\n            nextframe = inspect.frame().f_back\\n            prev_frame = frame\\n            frame=nextframe\\n    except ():\\n        print('We have an error:')\\n    global_dict=prev_frame.f_globals\\n    print(global_dict)\\n        \",\n",
       "  'search_globals2(srt)',\n",
       "  \"import inspect\\ndef search_globals2(var):\\n    global_dict={}\\n    frame = inspect.currentframe().f_back\\n    nextframe=frame\\n    prev_frame=frame\\n    try:\\n        while (nextframe):\\n            nextframe = frame().f_back\\n            prev_frame = frame\\n            frame=nextframe\\n    except ():\\n        print('We have an error:')\\n    global_dict=prev_frame.f_globals\\n    print(global_dict)\\n        \",\n",
       "  'search_globals2(srt)',\n",
       "  \"import inspect\\ndef search_globals2(var):\\n    global_dict={}\\n    frame = inspect.currentframe().f_back\\n    nextframe=frame\\n    prev_frame=frame\\n    try:\\n        while (nextframe):\\n            nextframe = frame.f_back\\n            prev_frame = frame\\n            frame=nextframe\\n    except ():\\n        print('We have an error:')\\n    global_dict=prev_frame.f_globals\\n    print(global_dict)\\n        \",\n",
       "  'search_globals2(srt)',\n",
       "  'globals()',\n",
       "  \"import inspect\\ndef search_globals2(var):\\n    is_not_ipython_global=True\\n    global_dict=inspect.currentframe().f_globals\\n    try:\\n        docstr=global_dict['__doc__']\\n    except KeyError:\\n        docstr=''\\n    if (docstr=='Automatically created module for IPython interactive environment'):\\n        is_not_ipython_global=False\\n    try:\\n        frame = inspect.currentframe().f_back\\n        nextframe=frame \\n        while (is_not_ipython_global):\\n            nextframe = frame.f_back\\n            frame=nextframe\\n            try:\\n                global_dict=frame.f_globals\\n                docstr=global_dict['__doc__']\\n            except KeyError:\\n                docstr=''\\n            if (docstr=='Automatically created module for IPython interactive environment'):\\n                is_not_ipython_global=False\\n    return(global_dict)\",\n",
       "  \"import inspect\\ndef search_globals2(var):\\n    is_not_ipython_global=True\\n    global_dict=inspect.currentframe().f_globals\\n    try:\\n        docstr=global_dict['__doc__']\\n    except KeyError:\\n        docstr=''\\n    if (docstr=='Automatically created module for IPython interactive environment'):\\n        is_not_ipython_global=False\\n    try:\\n        frame = inspect.currentframe().f_back\\n        nextframe=frame \\n        while (is_not_ipython_global):\\n            nextframe = frame.f_back\\n            frame=nextframe\\n            try:\\n                global_dict=frame.f_globals\\n                docstr=global_dict['__doc__']\\n            except KeyError:\\n                docstr=''\\n            if (docstr=='Automatically created module for IPython interactive environment'):\\n                is_not_ipython_global=False\\n    except:\\n        pass\\n    return(global_dict)\",\n",
       "  \"import inspect\\ndef search_globals2(var):\\n    is_not_ipython_global=True\\n    global_dict=inspect.currentframe().f_globals\\n    try:\\n        docstr=global_dict['__doc__']\\n        print(docstr)\\n    except KeyError:\\n        docstr=''\\n    if (docstr=='Automatically created module for IPython interactive environment'):\\n        is_not_ipython_global=False\\n    try:\\n        frame = inspect.currentframe().f_back\\n        nextframe=frame \\n        while (is_not_ipython_global):\\n            nextframe = frame.f_back\\n            frame=nextframe\\n            try:\\n                global_dict=frame.f_globals\\n                docstr=global_dict['__doc__']\\n            except KeyError:\\n                docstr=''\\n            if (docstr=='Automatically created module for IPython interactive environment'):\\n                is_not_ipython_global=False\\n    except:\\n        pass\\n    return(global_dict)\",\n",
       "  'search_globals2(srt)',\n",
       "  \"import inspect\\ndef search_globals2(var):\\n    is_not_ipython_global=True\\n    global_dict=inspect.currentframe().f_globals\\n    try:\\n        docstr=global_dict['__doc__']\\n        #print(docstr)\\n    except KeyError:\\n        docstr=''\\n    if (docstr=='Automatically created module for IPython interactive environment'):\\n        is_not_ipython_global=False\\n    try:\\n        frame = inspect.currentframe().f_back\\n        nextframe=frame \\n        while (is_not_ipython_global):\\n            nextframe = frame.f_back\\n            frame=nextframe\\n            try:\\n                global_dict=frame.f_globals\\n                docstr=global_dict['__doc__']\\n            except KeyError:\\n                docstr=''\\n            if (docstr=='Automatically created module for IPython interactive environment'):\\n                is_not_ipython_global=False\\n    except:\\n        pass\\n    return(global_dict)\",\n",
       "  'search_globals2(srt)',\n",
       "  \"import inspect\\ndef get_ipython_globals():\\n    is_not_ipython_global=True\\n    global_dict=inspect.currentframe().f_globals\\n    try:\\n        docstr=global_dict['__doc__']\\n        #print(docstr)\\n    except KeyError:\\n        docstr=''\\n    if (docstr=='Automatically created module for IPython interactive environment'):\\n        is_not_ipython_global=False\\n    try:\\n        frame = inspect.currentframe().f_back\\n        nextframe=frame \\n        while (is_not_ipython_global):\\n            nextframe = frame.f_back\\n            frame=nextframe\\n            try:\\n                global_dict=frame.f_globals\\n                docstr=global_dict['__doc__']\\n            except KeyError:\\n                docstr=''\\n            if (docstr=='Automatically created module for IPython interactive environment'):\\n                is_not_ipython_global=False\\n    except:\\n        pass\\n    return(global_dict)\",\n",
       "  'get_ipython_globals',\n",
       "  'get_ipython_globals()'],\n",
       " 'Out': {2: 'Automatic display of math operation activated for `dmo aware` operations.',\n",
       "  8: sympy.core.function.FunctionClass,\n",
       "  27: {...},\n",
       "  31: {...},\n",
       "  33: {...},\n",
       "  35: <function __main__.get_ipython_globals()>},\n",
       " 'get_ipython': <bound method InteractiveShell.get_ipython of <ipykernel.zmqshell.ZMQInteractiveShell object at 0x7f58035b6470>>,\n",
       " 'exit': <IPython.core.autocall.ZMQExitAutocall at 0x7f580050b908>,\n",
       " 'quit': <IPython.core.autocall.ZMQExitAutocall at 0x7f580050b908>,\n",
       " '_': sqrt(lm),\n",
       " '__': '',\n",
       " '___': '',\n",
       " '_i': 'get_ipython_globals',\n",
       " '_ii': \"import inspect\\ndef get_ipython_globals():\\n    is_not_ipython_global=True\\n    global_dict=inspect.currentframe().f_globals\\n    try:\\n        docstr=global_dict['__doc__']\\n        #print(docstr)\\n    except KeyError:\\n        docstr=''\\n    if (docstr=='Automatically created module for IPython interactive environment'):\\n        is_not_ipython_global=False\\n    try:\\n        frame = inspect.currentframe().f_back\\n        nextframe=frame \\n        while (is_not_ipython_global):\\n            nextframe = frame.f_back\\n            frame=nextframe\\n            try:\\n                global_dict=frame.f_globals\\n                docstr=global_dict['__doc__']\\n            except KeyError:\\n                docstr=''\\n            if (docstr=='Automatically created module for IPython interactive environment'):\\n                is_not_ipython_global=False\\n    except:\\n        pass\\n    return(global_dict)\",\n",
       " '_iii': 'search_globals2(srt)',\n",
       " '_i1': \"from IPython.display import HTML as html, HTML\\nfrom IPython.display import display\\nimport sympy as sp\\nimport inspect\\n\\ndef retrieve_name(var):# Used to identify the string used to name an expression\\n    callers_local_vars = inspect.currentframe().f_back.f_back.f_locals.items()\\n    string_name = ''\\n    for var_name, var_val in callers_local_vars:\\n        if (var_val is var) and not (var_name.startswith('_')):\\n            string_name = var_name\\n    return string_name\\n\\ndef search_globals(var):\\n    string_name = ''\\n    for var_name in globals():\\n        if (globals()[var_name]==var) and not (var_name.startswith('_')):\\n            string_name = var_name\\n    return string_name\\n        \\ndef dmo_auto(status=True):\\n    '''\\n    sets the status of dmo (display math operation) to True by default or False if `status=False`\\n    is passed to the function. If true dmo aware functions will attempt to display typeset\\n    expressions for the operations carried out. If False they will only display typeset expressions\\n    for the operations if `display_op=True` is set in the function call. See the documentation for\\n    each function.\\n    '''\\n    globals()['_dmo_auto_']=status\\n    return('Automatic display of math operation activated for `dmo aware` operations.')\\n\\ndef dmo(*exprs,**kwarg): #Display math operation\\n    '''\\n    Pass one of:\\n    *exprs:     any valid symbolic math expression or function call (e.g. 2*x, sin(2*x)).\\n    **kwarg:    any valid symbol equal to an expression or function call (e.g. P=n*R*T/V,\\n                r=sin(theta)). This must be the first item with an equal sign appearing\\n                in the list of arguments.\\n                \\n                additionally you can add these options:\\n                code=True, if you want the code version of the evaluated expression to\\n                    appear in the cell output. Useful if you want to copy and edit into\\n                    another code cell. Note if `sympy.init_printing(pretty_print=True)` is\\n                    set the code will still be displayed as typeset. Call `sympy.init_printing`\\n                    with `pretty_print=False` to get non-typeset output.\\n    \\n    In an IPython/Jupyter notebook will display a typeset version of the operation and return\\n    the expression to the namespace for further operations. The function tries to identify\\n    the actual string (name) passed for the expression and output the typeset expression \\n    `name=result of the operation`. If it cannot identify the actual string passed it just\\n    outputs the typeset result of the operation.\\n    \\n    J. Gutow May 2020.\\n    '''\\n    code = kwarg.pop('code', None)\\n    expr=None\\n    if(len(exprs) >= 1):\\n        expr = exprs[0] #ignore others.\\n        #namestr=retrieve_name(expr)\\n        namestr=search_globals(expr)\\n        if (namestr==''):\\n            display(html(r'$'+sp.latex(expr)+'$'))\\n        else:\\n            display(html(r'$'+namestr+'='+sp.latex(expr)+'$'))\\n    else:\\n        key = list(kwarg)[0] #ignore all but first.\\n        expr = kwarg[key]\\n        display(html(r'$'+(key)+'='+sp.latex(expr)+'$'))\\n        globals()[key]=expr #inject into namespace.\\n    globals()['_']=expr #inject into last result\\n    if (code):\\n        return(expr)\\n    pass\",\n",
       " 'html': IPython.core.display.HTML,\n",
       " 'HTML': IPython.core.display.HTML,\n",
       " 'display': <function IPython.core.display.display(*objs, include=None, exclude=None, metadata=None, transient=None, display_id=None, **kwargs)>,\n",
       " 'sp': <module 'sympy' from '/home/jonathan/.local/share/virtualenvs/jonathan-d_osjWPd/lib/python3.6/site-packages/sympy/__init__.py'>,\n",
       " 'inspect': <module 'inspect' from '/usr/lib/python3.6/inspect.py'>,\n",
       " 'retrieve_name': <function __main__.retrieve_name(var)>,\n",
       " 'search_globals': <function __main__.search_globals(var)>,\n",
       " 'dmo_auto': <function __main__.dmo_auto(status=True)>,\n",
       " 'dmo': <function __main__.dmo(*exprs, **kwarg)>,\n",
       " '_i2': '# Turning off sympy auto pretty printing as that seems to be the default in latest Jupyter/Sympy.\\nsp.init_printing(pretty_print=False)\\n# Turning on auto display math operations\\ndmo_auto()',\n",
       " '_dmo_auto_': True,\n",
       " '_2': 'Automatic display of math operation activated for `dmo aware` operations.',\n",
       " '_i3': \"#Integration\\ndef integ(f, *args, **kwargs):\\n    display_op=kwargs.pop('display_op',None) # For getting nice display from bare function.\\n    result=sp.integrate(f,*args,**kwargs)\\n    try:\\n        dmo_auto = globals()['_dmo_auto_']\\n    except KeyError:\\n        dmo_auto=False\\n    if (display_op==False): #force overide of dmo_auto\\n        dmo_auto=False\\n    oper=None\\n    if (dmo_auto) or (display_op):\\n        #namestr=retrieve_name(f)\\n        namestr=search_globals(f)\\n        ltop1=''\\n        if not(namestr==''):\\n            oper1=sp.Integral(namestr,*args,**kwargs)\\n            ltop1=sp.latex(oper1)+'='\\n        oper=sp.Integral(f,*args,**kwargs)\\n        #do substitution of namestr into latex of operation?\\n        display(HTML('$'+ltop1+sp.latex(oper)+'='+sp.latex(result)+'$'))\\n    return(result)\",\n",
       " 'integ': <function __main__.integ(f, *args, **kwargs)>,\n",
       " '_i4': \"sp.var('lm')\\ndmo(srt=sqrt(lm))\",\n",
       " 'lm': lm,\n",
       " '_i5': \"sp.var('lm')\\ndmo(srt=sp.sqrt(lm))\",\n",
       " 'srt': sqrt(lm),\n",
       " '_i6': 'dmo(srt.subs(lm,16))',\n",
       " '_i7': 'dmo(srt)',\n",
       " '_i8': 'type(sp.sin)',\n",
       " '_8': sympy.core.function.FunctionClass,\n",
       " '_i9': 'import inspect\\ndef search_globals2(var):\\n    global_dict={}\\n    frame = inspect.currentframe().f_back\\n    try:\\n        while (nextframe):\\n            nextframe = inspect.frame().f_back\\n            frame=nextframe\\n    except Error:\\n        global_dict=frame.f_globals\\n    print(global_dict)\\n        ',\n",
       " 'search_globals2': <function __main__.search_globals2(var)>,\n",
       " '_i10': 'search_globals2(t)',\n",
       " '_i11': 'search_globals2(srt)',\n",
       " '_i12': 'import inspect\\ndef search_globals2(var):\\n    global_dict={}\\n    frame = inspect.currentframe().f_back\\n    nextframe=frame\\n    try:\\n        while (nextframe):\\n            nextframe = inspect.frame().f_back\\n            frame=nextframe\\n    except Error:\\n        global_dict=frame.f_globals\\n    print(global_dict)\\n        ',\n",
       " '_i13': 'search_globals2(srt)',\n",
       " '_i14': 'import inspect\\ndef search_globals2(var):\\n    global_dict={}\\n    frame = inspect.currentframe().f_back\\n    nextframe=frame\\n    try:\\n        while (nextframe):\\n            nextframe = inspect.frame().f_back\\n            frame=nextframe\\n    except AttributeError, NameError:\\n        global_dict=frame.f_globals\\n    print(global_dict)\\n        ',\n",
       " '_i15': 'import inspect\\ndef search_globals2(var):\\n    global_dict={}\\n    frame = inspect.currentframe().f_back\\n    nextframe=frame\\n    try:\\n        while (nextframe):\\n            nextframe = inspect.frame().f_back\\n            frame=nextframe\\n    except AttributeError NameError:\\n        global_dict=frame.f_globals\\n    print(global_dict)\\n        ',\n",
       " '_i16': 'import inspect\\ndef search_globals2(var):\\n    global_dict={}\\n    frame = inspect.currentframe().f_back\\n    nextframe=frame\\n    try:\\n        while (nextframe):\\n            nextframe = inspect.frame().f_back\\n            frame=nextframe\\n    except (AttributeError, NameError):\\n        global_dict=frame.f_globals\\n    print(global_dict)\\n        ',\n",
       " '_i17': 'import inspect\\ndef search_globals2(var):\\n    global_dict={}\\n    frame = inspect.currentframe().f_back\\n    nextframe=frame\\n    try:\\n        while (nextframe):\\n            nextframe = inspect.frame().f_back\\n            frame=nextframe\\n    except (AttributeError, NameError):\\n        global_dict=frame.f_globals\\n    print(global_dict)\\n        ',\n",
       " '_i18': 'search_globals2(srt)',\n",
       " '_i19': 'import inspect\\ndef search_globals2(var):\\n    global_dict={}\\n    frame = inspect.currentframe().f_back\\n    nextframe=frame\\n    prev_frame=frame\\n    try:\\n        while (nextframe):\\n            nextframe = inspect.frame().f_back\\n            prev_frame = frame\\n            frame=nextframe\\n    except (AttributeError, NameError):\\n        global_dict=prev_frame.f_globals\\n    print(global_dict)\\n        ',\n",
       " '_i20': 'search_globals2(srt)',\n",
       " '_i21': \"import inspect\\ndef search_globals2(var):\\n    global_dict={}\\n    frame = inspect.currentframe().f_back\\n    nextframe=frame\\n    prev_frame=frame\\n    try:\\n        while (nextframe):\\n            nextframe = inspect.frame().f_back\\n            prev_frame = frame\\n            frame=nextframe\\n    except ():\\n        print('We have an error:')\\n    global_dict=prev_frame.f_globals\\n    print(global_dict)\\n        \",\n",
       " '_i22': 'search_globals2(srt)',\n",
       " '_i23': \"import inspect\\ndef search_globals2(var):\\n    global_dict={}\\n    frame = inspect.currentframe().f_back\\n    nextframe=frame\\n    prev_frame=frame\\n    try:\\n        while (nextframe):\\n            nextframe = frame().f_back\\n            prev_frame = frame\\n            frame=nextframe\\n    except ():\\n        print('We have an error:')\\n    global_dict=prev_frame.f_globals\\n    print(global_dict)\\n        \",\n",
       " '_i24': 'search_globals2(srt)',\n",
       " '_i25': \"import inspect\\ndef search_globals2(var):\\n    global_dict={}\\n    frame = inspect.currentframe().f_back\\n    nextframe=frame\\n    prev_frame=frame\\n    try:\\n        while (nextframe):\\n            nextframe = frame.f_back\\n            prev_frame = frame\\n            frame=nextframe\\n    except ():\\n        print('We have an error:')\\n    global_dict=prev_frame.f_globals\\n    print(global_dict)\\n        \",\n",
       " '_i26': 'search_globals2(srt)',\n",
       " '_i27': 'globals()',\n",
       " '_27': {...},\n",
       " '_i28': \"import inspect\\ndef search_globals2(var):\\n    is_not_ipython_global=True\\n    global_dict=inspect.currentframe().f_globals\\n    try:\\n        docstr=global_dict['__doc__']\\n    except KeyError:\\n        docstr=''\\n    if (docstr=='Automatically created module for IPython interactive environment'):\\n        is_not_ipython_global=False\\n    try:\\n        frame = inspect.currentframe().f_back\\n        nextframe=frame \\n        while (is_not_ipython_global):\\n            nextframe = frame.f_back\\n            frame=nextframe\\n            try:\\n                global_dict=frame.f_globals\\n                docstr=global_dict['__doc__']\\n            except KeyError:\\n                docstr=''\\n            if (docstr=='Automatically created module for IPython interactive environment'):\\n                is_not_ipython_global=False\\n    return(global_dict)\",\n",
       " '_i29': \"import inspect\\ndef search_globals2(var):\\n    is_not_ipython_global=True\\n    global_dict=inspect.currentframe().f_globals\\n    try:\\n        docstr=global_dict['__doc__']\\n    except KeyError:\\n        docstr=''\\n    if (docstr=='Automatically created module for IPython interactive environment'):\\n        is_not_ipython_global=False\\n    try:\\n        frame = inspect.currentframe().f_back\\n        nextframe=frame \\n        while (is_not_ipython_global):\\n            nextframe = frame.f_back\\n            frame=nextframe\\n            try:\\n                global_dict=frame.f_globals\\n                docstr=global_dict['__doc__']\\n            except KeyError:\\n                docstr=''\\n            if (docstr=='Automatically created module for IPython interactive environment'):\\n                is_not_ipython_global=False\\n    except:\\n        pass\\n    return(global_dict)\",\n",
       " '_i30': \"import inspect\\ndef search_globals2(var):\\n    is_not_ipython_global=True\\n    global_dict=inspect.currentframe().f_globals\\n    try:\\n        docstr=global_dict['__doc__']\\n        print(docstr)\\n    except KeyError:\\n        docstr=''\\n    if (docstr=='Automatically created module for IPython interactive environment'):\\n        is_not_ipython_global=False\\n    try:\\n        frame = inspect.currentframe().f_back\\n        nextframe=frame \\n        while (is_not_ipython_global):\\n            nextframe = frame.f_back\\n            frame=nextframe\\n            try:\\n                global_dict=frame.f_globals\\n                docstr=global_dict['__doc__']\\n            except KeyError:\\n                docstr=''\\n            if (docstr=='Automatically created module for IPython interactive environment'):\\n                is_not_ipython_global=False\\n    except:\\n        pass\\n    return(global_dict)\",\n",
       " '_i31': 'search_globals2(srt)',\n",
       " '_31': {...},\n",
       " '_i32': \"import inspect\\ndef search_globals2(var):\\n    is_not_ipython_global=True\\n    global_dict=inspect.currentframe().f_globals\\n    try:\\n        docstr=global_dict['__doc__']\\n        #print(docstr)\\n    except KeyError:\\n        docstr=''\\n    if (docstr=='Automatically created module for IPython interactive environment'):\\n        is_not_ipython_global=False\\n    try:\\n        frame = inspect.currentframe().f_back\\n        nextframe=frame \\n        while (is_not_ipython_global):\\n            nextframe = frame.f_back\\n            frame=nextframe\\n            try:\\n                global_dict=frame.f_globals\\n                docstr=global_dict['__doc__']\\n            except KeyError:\\n                docstr=''\\n            if (docstr=='Automatically created module for IPython interactive environment'):\\n                is_not_ipython_global=False\\n    except:\\n        pass\\n    return(global_dict)\",\n",
       " '_i33': 'search_globals2(srt)',\n",
       " '_33': {...},\n",
       " '_i34': \"import inspect\\ndef get_ipython_globals():\\n    is_not_ipython_global=True\\n    global_dict=inspect.currentframe().f_globals\\n    try:\\n        docstr=global_dict['__doc__']\\n        #print(docstr)\\n    except KeyError:\\n        docstr=''\\n    if (docstr=='Automatically created module for IPython interactive environment'):\\n        is_not_ipython_global=False\\n    try:\\n        frame = inspect.currentframe().f_back\\n        nextframe=frame \\n        while (is_not_ipython_global):\\n            nextframe = frame.f_back\\n            frame=nextframe\\n            try:\\n                global_dict=frame.f_globals\\n                docstr=global_dict['__doc__']\\n            except KeyError:\\n                docstr=''\\n            if (docstr=='Automatically created module for IPython interactive environment'):\\n                is_not_ipython_global=False\\n    except:\\n        pass\\n    return(global_dict)\",\n",
       " 'get_ipython_globals': <function __main__.get_ipython_globals()>,\n",
       " '_i35': 'get_ipython_globals',\n",
       " '_35': <function __main__.get_ipython_globals()>,\n",
       " '_i36': 'get_ipython_globals()'}"
      ]
     },
     "execution_count": 36,
     "metadata": {},
     "output_type": "execute_result"
    }
   ],
   "source": [
    "get_ipython_globals()"
   ]
  },
  {
   "cell_type": "code",
   "execution_count": 27,
   "metadata": {},
   "outputs": [
    {
     "data": {
      "text/plain": [
       "{'__name__': '__main__',\n",
       " '__doc__': 'Automatically created module for IPython interactive environment',\n",
       " '__package__': None,\n",
       " '__loader__': None,\n",
       " '__spec__': None,\n",
       " '__builtin__': <module 'builtins' (built-in)>,\n",
       " '__builtins__': <module 'builtins' (built-in)>,\n",
       " '_ih': ['',\n",
       "  \"from IPython.display import HTML as html, HTML\\nfrom IPython.display import display\\nimport sympy as sp\\nimport inspect\\n\\ndef retrieve_name(var):# Used to identify the string used to name an expression\\n    callers_local_vars = inspect.currentframe().f_back.f_back.f_locals.items()\\n    string_name = ''\\n    for var_name, var_val in callers_local_vars:\\n        if (var_val is var) and not (var_name.startswith('_')):\\n            string_name = var_name\\n    return string_name\\n\\ndef search_globals(var):\\n    string_name = ''\\n    for var_name in globals():\\n        if (globals()[var_name]==var) and not (var_name.startswith('_')):\\n            string_name = var_name\\n    return string_name\\n        \\ndef dmo_auto(status=True):\\n    '''\\n    sets the status of dmo (display math operation) to True by default or False if `status=False`\\n    is passed to the function. If true dmo aware functions will attempt to display typeset\\n    expressions for the operations carried out. If False they will only display typeset expressions\\n    for the operations if `display_op=True` is set in the function call. See the documentation for\\n    each function.\\n    '''\\n    globals()['_dmo_auto_']=status\\n    return('Automatic display of math operation activated for `dmo aware` operations.')\\n\\ndef dmo(*exprs,**kwarg): #Display math operation\\n    '''\\n    Pass one of:\\n    *exprs:     any valid symbolic math expression or function call (e.g. 2*x, sin(2*x)).\\n    **kwarg:    any valid symbol equal to an expression or function call (e.g. P=n*R*T/V,\\n                r=sin(theta)). This must be the first item with an equal sign appearing\\n                in the list of arguments.\\n                \\n                additionally you can add these options:\\n                code=True, if you want the code version of the evaluated expression to\\n                    appear in the cell output. Useful if you want to copy and edit into\\n                    another code cell. Note if `sympy.init_printing(pretty_print=True)` is\\n                    set the code will still be displayed as typeset. Call `sympy.init_printing`\\n                    with `pretty_print=False` to get non-typeset output.\\n    \\n    In an IPython/Jupyter notebook will display a typeset version of the operation and return\\n    the expression to the namespace for further operations. The function tries to identify\\n    the actual string (name) passed for the expression and output the typeset expression \\n    `name=result of the operation`. If it cannot identify the actual string passed it just\\n    outputs the typeset result of the operation.\\n    \\n    J. Gutow May 2020.\\n    '''\\n    code = kwarg.pop('code', None)\\n    expr=None\\n    if(len(exprs) >= 1):\\n        expr = exprs[0] #ignore others.\\n        #namestr=retrieve_name(expr)\\n        namestr=search_globals(expr)\\n        if (namestr==''):\\n            display(html(r'$'+sp.latex(expr)+'$'))\\n        else:\\n            display(html(r'$'+namestr+'='+sp.latex(expr)+'$'))\\n    else:\\n        key = list(kwarg)[0] #ignore all but first.\\n        expr = kwarg[key]\\n        display(html(r'$'+(key)+'='+sp.latex(expr)+'$'))\\n        globals()[key]=expr #inject into namespace.\\n    globals()['_']=expr #inject into last result\\n    if (code):\\n        return(expr)\\n    pass\",\n",
       "  '# Turning off sympy auto pretty printing as that seems to be the default in latest Jupyter/Sympy.\\nsp.init_printing(pretty_print=False)\\n# Turning on auto display math operations\\ndmo_auto()',\n",
       "  \"#Integration\\ndef integ(f, *args, **kwargs):\\n    display_op=kwargs.pop('display_op',None) # For getting nice display from bare function.\\n    result=sp.integrate(f,*args,**kwargs)\\n    try:\\n        dmo_auto = globals()['_dmo_auto_']\\n    except KeyError:\\n        dmo_auto=False\\n    if (display_op==False): #force overide of dmo_auto\\n        dmo_auto=False\\n    oper=None\\n    if (dmo_auto) or (display_op):\\n        #namestr=retrieve_name(f)\\n        namestr=search_globals(f)\\n        ltop1=''\\n        if not(namestr==''):\\n            oper1=sp.Integral(namestr,*args,**kwargs)\\n            ltop1=sp.latex(oper1)+'='\\n        oper=sp.Integral(f,*args,**kwargs)\\n        #do substitution of namestr into latex of operation?\\n        display(HTML('$'+ltop1+sp.latex(oper)+'='+sp.latex(result)+'$'))\\n    return(result)\",\n",
       "  \"sp.var('lm')\\ndmo(srt=sqrt(lm))\",\n",
       "  \"sp.var('lm')\\ndmo(srt=sp.sqrt(lm))\",\n",
       "  'dmo(srt.subs(lm,16))',\n",
       "  'dmo(srt)',\n",
       "  'type(sp.sin)',\n",
       "  'import inspect\\ndef search_globals2(var):\\n    global_dict={}\\n    frame = inspect.currentframe().f_back\\n    try:\\n        while (nextframe):\\n            nextframe = inspect.frame().f_back\\n            frame=nextframe\\n    except Error:\\n        global_dict=frame.f_globals\\n    print(global_dict)\\n        ',\n",
       "  'search_globals2(t)',\n",
       "  'search_globals2(srt)',\n",
       "  'import inspect\\ndef search_globals2(var):\\n    global_dict={}\\n    frame = inspect.currentframe().f_back\\n    nextframe=frame\\n    try:\\n        while (nextframe):\\n            nextframe = inspect.frame().f_back\\n            frame=nextframe\\n    except Error:\\n        global_dict=frame.f_globals\\n    print(global_dict)\\n        ',\n",
       "  'search_globals2(srt)',\n",
       "  'import inspect\\ndef search_globals2(var):\\n    global_dict={}\\n    frame = inspect.currentframe().f_back\\n    nextframe=frame\\n    try:\\n        while (nextframe):\\n            nextframe = inspect.frame().f_back\\n            frame=nextframe\\n    except AttributeError, NameError:\\n        global_dict=frame.f_globals\\n    print(global_dict)\\n        ',\n",
       "  'import inspect\\ndef search_globals2(var):\\n    global_dict={}\\n    frame = inspect.currentframe().f_back\\n    nextframe=frame\\n    try:\\n        while (nextframe):\\n            nextframe = inspect.frame().f_back\\n            frame=nextframe\\n    except AttributeError NameError:\\n        global_dict=frame.f_globals\\n    print(global_dict)\\n        ',\n",
       "  'import inspect\\ndef search_globals2(var):\\n    global_dict={}\\n    frame = inspect.currentframe().f_back\\n    nextframe=frame\\n    try:\\n        while (nextframe):\\n            nextframe = inspect.frame().f_back\\n            frame=nextframe\\n    except (AttributeError, NameError):\\n        global_dict=frame.f_globals\\n    print(global_dict)\\n        ',\n",
       "  'import inspect\\ndef search_globals2(var):\\n    global_dict={}\\n    frame = inspect.currentframe().f_back\\n    nextframe=frame\\n    try:\\n        while (nextframe):\\n            nextframe = inspect.frame().f_back\\n            frame=nextframe\\n    except (AttributeError, NameError):\\n        global_dict=frame.f_globals\\n    print(global_dict)\\n        ',\n",
       "  'search_globals2(srt)',\n",
       "  'import inspect\\ndef search_globals2(var):\\n    global_dict={}\\n    frame = inspect.currentframe().f_back\\n    nextframe=frame\\n    prev_frame=frame\\n    try:\\n        while (nextframe):\\n            nextframe = inspect.frame().f_back\\n            prev_frame = frame\\n            frame=nextframe\\n    except (AttributeError, NameError):\\n        global_dict=prev_frame.f_globals\\n    print(global_dict)\\n        ',\n",
       "  'search_globals2(srt)',\n",
       "  \"import inspect\\ndef search_globals2(var):\\n    global_dict={}\\n    frame = inspect.currentframe().f_back\\n    nextframe=frame\\n    prev_frame=frame\\n    try:\\n        while (nextframe):\\n            nextframe = inspect.frame().f_back\\n            prev_frame = frame\\n            frame=nextframe\\n    except ():\\n        print('We have an error:')\\n    global_dict=prev_frame.f_globals\\n    print(global_dict)\\n        \",\n",
       "  'search_globals2(srt)',\n",
       "  \"import inspect\\ndef search_globals2(var):\\n    global_dict={}\\n    frame = inspect.currentframe().f_back\\n    nextframe=frame\\n    prev_frame=frame\\n    try:\\n        while (nextframe):\\n            nextframe = frame().f_back\\n            prev_frame = frame\\n            frame=nextframe\\n    except ():\\n        print('We have an error:')\\n    global_dict=prev_frame.f_globals\\n    print(global_dict)\\n        \",\n",
       "  'search_globals2(srt)',\n",
       "  \"import inspect\\ndef search_globals2(var):\\n    global_dict={}\\n    frame = inspect.currentframe().f_back\\n    nextframe=frame\\n    prev_frame=frame\\n    try:\\n        while (nextframe):\\n            nextframe = frame.f_back\\n            prev_frame = frame\\n            frame=nextframe\\n    except ():\\n        print('We have an error:')\\n    global_dict=prev_frame.f_globals\\n    print(global_dict)\\n        \",\n",
       "  'search_globals2(srt)',\n",
       "  'globals()'],\n",
       " '_oh': {2: 'Automatic display of math operation activated for `dmo aware` operations.',\n",
       "  8: sympy.core.function.FunctionClass},\n",
       " '_dh': ['/home/jonathan/GIT/Easy_Pretty_Math'],\n",
       " 'In': ['',\n",
       "  \"from IPython.display import HTML as html, HTML\\nfrom IPython.display import display\\nimport sympy as sp\\nimport inspect\\n\\ndef retrieve_name(var):# Used to identify the string used to name an expression\\n    callers_local_vars = inspect.currentframe().f_back.f_back.f_locals.items()\\n    string_name = ''\\n    for var_name, var_val in callers_local_vars:\\n        if (var_val is var) and not (var_name.startswith('_')):\\n            string_name = var_name\\n    return string_name\\n\\ndef search_globals(var):\\n    string_name = ''\\n    for var_name in globals():\\n        if (globals()[var_name]==var) and not (var_name.startswith('_')):\\n            string_name = var_name\\n    return string_name\\n        \\ndef dmo_auto(status=True):\\n    '''\\n    sets the status of dmo (display math operation) to True by default or False if `status=False`\\n    is passed to the function. If true dmo aware functions will attempt to display typeset\\n    expressions for the operations carried out. If False they will only display typeset expressions\\n    for the operations if `display_op=True` is set in the function call. See the documentation for\\n    each function.\\n    '''\\n    globals()['_dmo_auto_']=status\\n    return('Automatic display of math operation activated for `dmo aware` operations.')\\n\\ndef dmo(*exprs,**kwarg): #Display math operation\\n    '''\\n    Pass one of:\\n    *exprs:     any valid symbolic math expression or function call (e.g. 2*x, sin(2*x)).\\n    **kwarg:    any valid symbol equal to an expression or function call (e.g. P=n*R*T/V,\\n                r=sin(theta)). This must be the first item with an equal sign appearing\\n                in the list of arguments.\\n                \\n                additionally you can add these options:\\n                code=True, if you want the code version of the evaluated expression to\\n                    appear in the cell output. Useful if you want to copy and edit into\\n                    another code cell. Note if `sympy.init_printing(pretty_print=True)` is\\n                    set the code will still be displayed as typeset. Call `sympy.init_printing`\\n                    with `pretty_print=False` to get non-typeset output.\\n    \\n    In an IPython/Jupyter notebook will display a typeset version of the operation and return\\n    the expression to the namespace for further operations. The function tries to identify\\n    the actual string (name) passed for the expression and output the typeset expression \\n    `name=result of the operation`. If it cannot identify the actual string passed it just\\n    outputs the typeset result of the operation.\\n    \\n    J. Gutow May 2020.\\n    '''\\n    code = kwarg.pop('code', None)\\n    expr=None\\n    if(len(exprs) >= 1):\\n        expr = exprs[0] #ignore others.\\n        #namestr=retrieve_name(expr)\\n        namestr=search_globals(expr)\\n        if (namestr==''):\\n            display(html(r'$'+sp.latex(expr)+'$'))\\n        else:\\n            display(html(r'$'+namestr+'='+sp.latex(expr)+'$'))\\n    else:\\n        key = list(kwarg)[0] #ignore all but first.\\n        expr = kwarg[key]\\n        display(html(r'$'+(key)+'='+sp.latex(expr)+'$'))\\n        globals()[key]=expr #inject into namespace.\\n    globals()['_']=expr #inject into last result\\n    if (code):\\n        return(expr)\\n    pass\",\n",
       "  '# Turning off sympy auto pretty printing as that seems to be the default in latest Jupyter/Sympy.\\nsp.init_printing(pretty_print=False)\\n# Turning on auto display math operations\\ndmo_auto()',\n",
       "  \"#Integration\\ndef integ(f, *args, **kwargs):\\n    display_op=kwargs.pop('display_op',None) # For getting nice display from bare function.\\n    result=sp.integrate(f,*args,**kwargs)\\n    try:\\n        dmo_auto = globals()['_dmo_auto_']\\n    except KeyError:\\n        dmo_auto=False\\n    if (display_op==False): #force overide of dmo_auto\\n        dmo_auto=False\\n    oper=None\\n    if (dmo_auto) or (display_op):\\n        #namestr=retrieve_name(f)\\n        namestr=search_globals(f)\\n        ltop1=''\\n        if not(namestr==''):\\n            oper1=sp.Integral(namestr,*args,**kwargs)\\n            ltop1=sp.latex(oper1)+'='\\n        oper=sp.Integral(f,*args,**kwargs)\\n        #do substitution of namestr into latex of operation?\\n        display(HTML('$'+ltop1+sp.latex(oper)+'='+sp.latex(result)+'$'))\\n    return(result)\",\n",
       "  \"sp.var('lm')\\ndmo(srt=sqrt(lm))\",\n",
       "  \"sp.var('lm')\\ndmo(srt=sp.sqrt(lm))\",\n",
       "  'dmo(srt.subs(lm,16))',\n",
       "  'dmo(srt)',\n",
       "  'type(sp.sin)',\n",
       "  'import inspect\\ndef search_globals2(var):\\n    global_dict={}\\n    frame = inspect.currentframe().f_back\\n    try:\\n        while (nextframe):\\n            nextframe = inspect.frame().f_back\\n            frame=nextframe\\n    except Error:\\n        global_dict=frame.f_globals\\n    print(global_dict)\\n        ',\n",
       "  'search_globals2(t)',\n",
       "  'search_globals2(srt)',\n",
       "  'import inspect\\ndef search_globals2(var):\\n    global_dict={}\\n    frame = inspect.currentframe().f_back\\n    nextframe=frame\\n    try:\\n        while (nextframe):\\n            nextframe = inspect.frame().f_back\\n            frame=nextframe\\n    except Error:\\n        global_dict=frame.f_globals\\n    print(global_dict)\\n        ',\n",
       "  'search_globals2(srt)',\n",
       "  'import inspect\\ndef search_globals2(var):\\n    global_dict={}\\n    frame = inspect.currentframe().f_back\\n    nextframe=frame\\n    try:\\n        while (nextframe):\\n            nextframe = inspect.frame().f_back\\n            frame=nextframe\\n    except AttributeError, NameError:\\n        global_dict=frame.f_globals\\n    print(global_dict)\\n        ',\n",
       "  'import inspect\\ndef search_globals2(var):\\n    global_dict={}\\n    frame = inspect.currentframe().f_back\\n    nextframe=frame\\n    try:\\n        while (nextframe):\\n            nextframe = inspect.frame().f_back\\n            frame=nextframe\\n    except AttributeError NameError:\\n        global_dict=frame.f_globals\\n    print(global_dict)\\n        ',\n",
       "  'import inspect\\ndef search_globals2(var):\\n    global_dict={}\\n    frame = inspect.currentframe().f_back\\n    nextframe=frame\\n    try:\\n        while (nextframe):\\n            nextframe = inspect.frame().f_back\\n            frame=nextframe\\n    except (AttributeError, NameError):\\n        global_dict=frame.f_globals\\n    print(global_dict)\\n        ',\n",
       "  'import inspect\\ndef search_globals2(var):\\n    global_dict={}\\n    frame = inspect.currentframe().f_back\\n    nextframe=frame\\n    try:\\n        while (nextframe):\\n            nextframe = inspect.frame().f_back\\n            frame=nextframe\\n    except (AttributeError, NameError):\\n        global_dict=frame.f_globals\\n    print(global_dict)\\n        ',\n",
       "  'search_globals2(srt)',\n",
       "  'import inspect\\ndef search_globals2(var):\\n    global_dict={}\\n    frame = inspect.currentframe().f_back\\n    nextframe=frame\\n    prev_frame=frame\\n    try:\\n        while (nextframe):\\n            nextframe = inspect.frame().f_back\\n            prev_frame = frame\\n            frame=nextframe\\n    except (AttributeError, NameError):\\n        global_dict=prev_frame.f_globals\\n    print(global_dict)\\n        ',\n",
       "  'search_globals2(srt)',\n",
       "  \"import inspect\\ndef search_globals2(var):\\n    global_dict={}\\n    frame = inspect.currentframe().f_back\\n    nextframe=frame\\n    prev_frame=frame\\n    try:\\n        while (nextframe):\\n            nextframe = inspect.frame().f_back\\n            prev_frame = frame\\n            frame=nextframe\\n    except ():\\n        print('We have an error:')\\n    global_dict=prev_frame.f_globals\\n    print(global_dict)\\n        \",\n",
       "  'search_globals2(srt)',\n",
       "  \"import inspect\\ndef search_globals2(var):\\n    global_dict={}\\n    frame = inspect.currentframe().f_back\\n    nextframe=frame\\n    prev_frame=frame\\n    try:\\n        while (nextframe):\\n            nextframe = frame().f_back\\n            prev_frame = frame\\n            frame=nextframe\\n    except ():\\n        print('We have an error:')\\n    global_dict=prev_frame.f_globals\\n    print(global_dict)\\n        \",\n",
       "  'search_globals2(srt)',\n",
       "  \"import inspect\\ndef search_globals2(var):\\n    global_dict={}\\n    frame = inspect.currentframe().f_back\\n    nextframe=frame\\n    prev_frame=frame\\n    try:\\n        while (nextframe):\\n            nextframe = frame.f_back\\n            prev_frame = frame\\n            frame=nextframe\\n    except ():\\n        print('We have an error:')\\n    global_dict=prev_frame.f_globals\\n    print(global_dict)\\n        \",\n",
       "  'search_globals2(srt)',\n",
       "  'globals()'],\n",
       " 'Out': {2: 'Automatic display of math operation activated for `dmo aware` operations.',\n",
       "  8: sympy.core.function.FunctionClass},\n",
       " 'get_ipython': <bound method InteractiveShell.get_ipython of <ipykernel.zmqshell.ZMQInteractiveShell object at 0x7f58035b6470>>,\n",
       " 'exit': <IPython.core.autocall.ZMQExitAutocall at 0x7f580050b908>,\n",
       " 'quit': <IPython.core.autocall.ZMQExitAutocall at 0x7f580050b908>,\n",
       " '_': sqrt(lm),\n",
       " '__': '',\n",
       " '___': '',\n",
       " '_i': 'search_globals2(srt)',\n",
       " '_ii': \"import inspect\\ndef search_globals2(var):\\n    global_dict={}\\n    frame = inspect.currentframe().f_back\\n    nextframe=frame\\n    prev_frame=frame\\n    try:\\n        while (nextframe):\\n            nextframe = frame.f_back\\n            prev_frame = frame\\n            frame=nextframe\\n    except ():\\n        print('We have an error:')\\n    global_dict=prev_frame.f_globals\\n    print(global_dict)\\n        \",\n",
       " '_iii': 'search_globals2(srt)',\n",
       " '_i1': \"from IPython.display import HTML as html, HTML\\nfrom IPython.display import display\\nimport sympy as sp\\nimport inspect\\n\\ndef retrieve_name(var):# Used to identify the string used to name an expression\\n    callers_local_vars = inspect.currentframe().f_back.f_back.f_locals.items()\\n    string_name = ''\\n    for var_name, var_val in callers_local_vars:\\n        if (var_val is var) and not (var_name.startswith('_')):\\n            string_name = var_name\\n    return string_name\\n\\ndef search_globals(var):\\n    string_name = ''\\n    for var_name in globals():\\n        if (globals()[var_name]==var) and not (var_name.startswith('_')):\\n            string_name = var_name\\n    return string_name\\n        \\ndef dmo_auto(status=True):\\n    '''\\n    sets the status of dmo (display math operation) to True by default or False if `status=False`\\n    is passed to the function. If true dmo aware functions will attempt to display typeset\\n    expressions for the operations carried out. If False they will only display typeset expressions\\n    for the operations if `display_op=True` is set in the function call. See the documentation for\\n    each function.\\n    '''\\n    globals()['_dmo_auto_']=status\\n    return('Automatic display of math operation activated for `dmo aware` operations.')\\n\\ndef dmo(*exprs,**kwarg): #Display math operation\\n    '''\\n    Pass one of:\\n    *exprs:     any valid symbolic math expression or function call (e.g. 2*x, sin(2*x)).\\n    **kwarg:    any valid symbol equal to an expression or function call (e.g. P=n*R*T/V,\\n                r=sin(theta)). This must be the first item with an equal sign appearing\\n                in the list of arguments.\\n                \\n                additionally you can add these options:\\n                code=True, if you want the code version of the evaluated expression to\\n                    appear in the cell output. Useful if you want to copy and edit into\\n                    another code cell. Note if `sympy.init_printing(pretty_print=True)` is\\n                    set the code will still be displayed as typeset. Call `sympy.init_printing`\\n                    with `pretty_print=False` to get non-typeset output.\\n    \\n    In an IPython/Jupyter notebook will display a typeset version of the operation and return\\n    the expression to the namespace for further operations. The function tries to identify\\n    the actual string (name) passed for the expression and output the typeset expression \\n    `name=result of the operation`. If it cannot identify the actual string passed it just\\n    outputs the typeset result of the operation.\\n    \\n    J. Gutow May 2020.\\n    '''\\n    code = kwarg.pop('code', None)\\n    expr=None\\n    if(len(exprs) >= 1):\\n        expr = exprs[0] #ignore others.\\n        #namestr=retrieve_name(expr)\\n        namestr=search_globals(expr)\\n        if (namestr==''):\\n            display(html(r'$'+sp.latex(expr)+'$'))\\n        else:\\n            display(html(r'$'+namestr+'='+sp.latex(expr)+'$'))\\n    else:\\n        key = list(kwarg)[0] #ignore all but first.\\n        expr = kwarg[key]\\n        display(html(r'$'+(key)+'='+sp.latex(expr)+'$'))\\n        globals()[key]=expr #inject into namespace.\\n    globals()['_']=expr #inject into last result\\n    if (code):\\n        return(expr)\\n    pass\",\n",
       " 'html': IPython.core.display.HTML,\n",
       " 'HTML': IPython.core.display.HTML,\n",
       " 'display': <function IPython.core.display.display(*objs, include=None, exclude=None, metadata=None, transient=None, display_id=None, **kwargs)>,\n",
       " 'sp': <module 'sympy' from '/home/jonathan/.local/share/virtualenvs/jonathan-d_osjWPd/lib/python3.6/site-packages/sympy/__init__.py'>,\n",
       " 'inspect': <module 'inspect' from '/usr/lib/python3.6/inspect.py'>,\n",
       " 'retrieve_name': <function __main__.retrieve_name(var)>,\n",
       " 'search_globals': <function __main__.search_globals(var)>,\n",
       " 'dmo_auto': <function __main__.dmo_auto(status=True)>,\n",
       " 'dmo': <function __main__.dmo(*exprs, **kwarg)>,\n",
       " '_i2': '# Turning off sympy auto pretty printing as that seems to be the default in latest Jupyter/Sympy.\\nsp.init_printing(pretty_print=False)\\n# Turning on auto display math operations\\ndmo_auto()',\n",
       " '_dmo_auto_': True,\n",
       " '_2': 'Automatic display of math operation activated for `dmo aware` operations.',\n",
       " '_i3': \"#Integration\\ndef integ(f, *args, **kwargs):\\n    display_op=kwargs.pop('display_op',None) # For getting nice display from bare function.\\n    result=sp.integrate(f,*args,**kwargs)\\n    try:\\n        dmo_auto = globals()['_dmo_auto_']\\n    except KeyError:\\n        dmo_auto=False\\n    if (display_op==False): #force overide of dmo_auto\\n        dmo_auto=False\\n    oper=None\\n    if (dmo_auto) or (display_op):\\n        #namestr=retrieve_name(f)\\n        namestr=search_globals(f)\\n        ltop1=''\\n        if not(namestr==''):\\n            oper1=sp.Integral(namestr,*args,**kwargs)\\n            ltop1=sp.latex(oper1)+'='\\n        oper=sp.Integral(f,*args,**kwargs)\\n        #do substitution of namestr into latex of operation?\\n        display(HTML('$'+ltop1+sp.latex(oper)+'='+sp.latex(result)+'$'))\\n    return(result)\",\n",
       " 'integ': <function __main__.integ(f, *args, **kwargs)>,\n",
       " '_i4': \"sp.var('lm')\\ndmo(srt=sqrt(lm))\",\n",
       " 'lm': lm,\n",
       " '_i5': \"sp.var('lm')\\ndmo(srt=sp.sqrt(lm))\",\n",
       " 'srt': sqrt(lm),\n",
       " '_i6': 'dmo(srt.subs(lm,16))',\n",
       " '_i7': 'dmo(srt)',\n",
       " '_i8': 'type(sp.sin)',\n",
       " '_8': sympy.core.function.FunctionClass,\n",
       " '_i9': 'import inspect\\ndef search_globals2(var):\\n    global_dict={}\\n    frame = inspect.currentframe().f_back\\n    try:\\n        while (nextframe):\\n            nextframe = inspect.frame().f_back\\n            frame=nextframe\\n    except Error:\\n        global_dict=frame.f_globals\\n    print(global_dict)\\n        ',\n",
       " 'search_globals2': <function __main__.search_globals2(var)>,\n",
       " '_i10': 'search_globals2(t)',\n",
       " '_i11': 'search_globals2(srt)',\n",
       " '_i12': 'import inspect\\ndef search_globals2(var):\\n    global_dict={}\\n    frame = inspect.currentframe().f_back\\n    nextframe=frame\\n    try:\\n        while (nextframe):\\n            nextframe = inspect.frame().f_back\\n            frame=nextframe\\n    except Error:\\n        global_dict=frame.f_globals\\n    print(global_dict)\\n        ',\n",
       " '_i13': 'search_globals2(srt)',\n",
       " '_i14': 'import inspect\\ndef search_globals2(var):\\n    global_dict={}\\n    frame = inspect.currentframe().f_back\\n    nextframe=frame\\n    try:\\n        while (nextframe):\\n            nextframe = inspect.frame().f_back\\n            frame=nextframe\\n    except AttributeError, NameError:\\n        global_dict=frame.f_globals\\n    print(global_dict)\\n        ',\n",
       " '_i15': 'import inspect\\ndef search_globals2(var):\\n    global_dict={}\\n    frame = inspect.currentframe().f_back\\n    nextframe=frame\\n    try:\\n        while (nextframe):\\n            nextframe = inspect.frame().f_back\\n            frame=nextframe\\n    except AttributeError NameError:\\n        global_dict=frame.f_globals\\n    print(global_dict)\\n        ',\n",
       " '_i16': 'import inspect\\ndef search_globals2(var):\\n    global_dict={}\\n    frame = inspect.currentframe().f_back\\n    nextframe=frame\\n    try:\\n        while (nextframe):\\n            nextframe = inspect.frame().f_back\\n            frame=nextframe\\n    except (AttributeError, NameError):\\n        global_dict=frame.f_globals\\n    print(global_dict)\\n        ',\n",
       " '_i17': 'import inspect\\ndef search_globals2(var):\\n    global_dict={}\\n    frame = inspect.currentframe().f_back\\n    nextframe=frame\\n    try:\\n        while (nextframe):\\n            nextframe = inspect.frame().f_back\\n            frame=nextframe\\n    except (AttributeError, NameError):\\n        global_dict=frame.f_globals\\n    print(global_dict)\\n        ',\n",
       " '_i18': 'search_globals2(srt)',\n",
       " '_i19': 'import inspect\\ndef search_globals2(var):\\n    global_dict={}\\n    frame = inspect.currentframe().f_back\\n    nextframe=frame\\n    prev_frame=frame\\n    try:\\n        while (nextframe):\\n            nextframe = inspect.frame().f_back\\n            prev_frame = frame\\n            frame=nextframe\\n    except (AttributeError, NameError):\\n        global_dict=prev_frame.f_globals\\n    print(global_dict)\\n        ',\n",
       " '_i20': 'search_globals2(srt)',\n",
       " '_i21': \"import inspect\\ndef search_globals2(var):\\n    global_dict={}\\n    frame = inspect.currentframe().f_back\\n    nextframe=frame\\n    prev_frame=frame\\n    try:\\n        while (nextframe):\\n            nextframe = inspect.frame().f_back\\n            prev_frame = frame\\n            frame=nextframe\\n    except ():\\n        print('We have an error:')\\n    global_dict=prev_frame.f_globals\\n    print(global_dict)\\n        \",\n",
       " '_i22': 'search_globals2(srt)',\n",
       " '_i23': \"import inspect\\ndef search_globals2(var):\\n    global_dict={}\\n    frame = inspect.currentframe().f_back\\n    nextframe=frame\\n    prev_frame=frame\\n    try:\\n        while (nextframe):\\n            nextframe = frame().f_back\\n            prev_frame = frame\\n            frame=nextframe\\n    except ():\\n        print('We have an error:')\\n    global_dict=prev_frame.f_globals\\n    print(global_dict)\\n        \",\n",
       " '_i24': 'search_globals2(srt)',\n",
       " '_i25': \"import inspect\\ndef search_globals2(var):\\n    global_dict={}\\n    frame = inspect.currentframe().f_back\\n    nextframe=frame\\n    prev_frame=frame\\n    try:\\n        while (nextframe):\\n            nextframe = frame.f_back\\n            prev_frame = frame\\n            frame=nextframe\\n    except ():\\n        print('We have an error:')\\n    global_dict=prev_frame.f_globals\\n    print(global_dict)\\n        \",\n",
       " '_i26': 'search_globals2(srt)',\n",
       " '_i27': 'globals()'}"
      ]
     },
     "execution_count": 27,
     "metadata": {},
     "output_type": "execute_result"
    }
   ],
   "source": [
    "globals()"
   ]
  },
  {
   "cell_type": "code",
   "execution_count": null,
   "metadata": {},
   "outputs": [],
   "source": []
  }
 ],
 "metadata": {
  "kernelspec": {
   "display_name": "Python 3",
   "language": "python",
   "name": "python3"
  },
  "language_info": {
   "codemirror_mode": {
    "name": "ipython",
    "version": 3
   },
   "file_extension": ".py",
   "mimetype": "text/x-python",
   "name": "python",
   "nbconvert_exporter": "python",
   "pygments_lexer": "ipython3",
   "version": "3.6.9"
  }
 },
 "nbformat": 4,
 "nbformat_minor": 4
}
