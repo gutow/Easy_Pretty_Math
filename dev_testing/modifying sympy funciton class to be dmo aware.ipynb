{
 "cells": [
  {
   "cell_type": "code",
   "execution_count": 20,
   "metadata": {},
   "outputs": [],
   "source": [
    "import sympy as sp\n",
    "from IPython.display import HTML\n",
    "\n",
    "def search_globals(var):\n",
    "    string_name = ''\n",
    "    for var_name in globals():\n",
    "        if (globals()[var_name]==var) and not (var_name.startswith('_')):\n",
    "            string_name = var_name\n",
    "    return string_name\n",
    "\n",
    "class Function(sp.Function):\n",
    "    def __new__(cls, *arg, **kwargs):\n",
    "        # really need to plug into the function base class  where it decides what to do.\n",
    "        display_op=kwargs.pop('display_op',None) # For getting nice display from bare function.\n",
    "        try:\n",
    "            dmo_auto = globals()['_dmo_auto_']\n",
    "        except KeyError:\n",
    "            dmo_auto=False\n",
    "        if (display_op==False): #force overide of dmo_auto\n",
    "            dmo_auto=False\n",
    "        if (dmo_auto) or (display_op):\n",
    "            cls._dmo(cls,*arg,**kwargs)\n",
    "        return(super().__new__(cls, *arg, **kwargs))\n",
    "    \n",
    "    def _dmo(cls, *arg, **kwargs):\n",
    "        result=super().__new__(cls, *arg, **kwargs)\n",
    "        namestr=search_globals(*arg)\n",
    "        ltop1=''\n",
    "        kwargs['evaluate']=False\n",
    "        if not(namestr==''):\n",
    "            #oper1=spsin(namestr,evaluate=False)\n",
    "            oper1=super().__new__(cls, namestr, **kwargs)\n",
    "            ltop1=sp.latex(oper1)+'='\n",
    "        oper=super().__new__(cls, *arg, **kwargs)\n",
    "        ltoper=''\n",
    "        if not(oper==result):\n",
    "            ltoper=sp.latex(oper)+'='            \n",
    "        display(HTML('$$'+ltop1+ltoper+sp.latex(result)+'$$'))\n",
    "        \n",
    "'''class sin(Function,sp.sin):\n",
    "    pass\n",
    "\n",
    "class cos(Function,sp.cos):\n",
    "    pass\n",
    "\n",
    "class tan(Function, sp.tan):\n",
    "    pass\n",
    "\n",
    "class cot(Function, sp.cot):\n",
    "    pass\n",
    "\n",
    "class exp(Function, sp.exp):\n",
    "    pass\n",
    "\n",
    "class log(Function, sp.log):\n",
    "    pass'''\n",
    "\n",
    "for func in sp.functions.__all__:\n",
    "    execstr = 'class '+str(func)+'(Function, sp.'+str(func)+'):\\n    pass\\n'\n",
    "    #print(execstr)\n",
    "    # listed in `skip` cannot be extended because of `mro` error or `metaclass conflict`.\n",
    "    skip=['sqrt','root','Min','Max','Id','real_root','cbrt','unbranched_argument','polarify','unpolarify',\n",
    "         'piecewise_fold','E1','Eijk','bspline_basis','bspline_basis_set','interpolating_spline','jn_zeros',\n",
    "          'jacobi_normalized','Ynm_c']\n",
    "    if func not in skip:\n",
    "        exec(execstr,globals(),locals())"
   ]
  },
  {
   "cell_type": "code",
   "execution_count": 21,
   "metadata": {},
   "outputs": [
    {
     "data": {
      "text/plain": [
       "sympy.core.function.FunctionClass"
      ]
     },
     "execution_count": 21,
     "metadata": {},
     "output_type": "execute_result"
    }
   ],
   "source": [
    "type(factorial)"
   ]
  },
  {
   "cell_type": "code",
   "execution_count": 22,
   "metadata": {},
   "outputs": [
    {
     "data": {
      "text/html": [
       "$$\\sin{\\left(1.57 \\right)}=0.999999682931835$$"
      ],
      "text/plain": [
       "<IPython.core.display.HTML object>"
      ]
     },
     "metadata": {},
     "output_type": "display_data"
    },
    {
     "data": {
      "text/latex": [
       "$\\displaystyle 0.999999682931835$"
      ],
      "text/plain": [
       "0.999999682931835"
      ]
     },
     "execution_count": 22,
     "metadata": {},
     "output_type": "execute_result"
    }
   ],
   "source": [
    "sin(3.14/2,display_op=True)"
   ]
  },
  {
   "cell_type": "code",
   "execution_count": 23,
   "metadata": {},
   "outputs": [
    {
     "data": {
      "text/html": [
       "$$\\sin{\\left(\\frac{\\pi}{2} \\right)}=1$$"
      ],
      "text/plain": [
       "<IPython.core.display.HTML object>"
      ]
     },
     "metadata": {},
     "output_type": "display_data"
    },
    {
     "data": {
      "text/latex": [
       "$\\displaystyle 1$"
      ],
      "text/plain": [
       "1"
      ]
     },
     "execution_count": 23,
     "metadata": {},
     "output_type": "execute_result"
    }
   ],
   "source": [
    "from sympy import pi as sppi\n",
    "sin(sppi/2,display_op=True)"
   ]
  },
  {
   "cell_type": "code",
   "execution_count": 24,
   "metadata": {},
   "outputs": [
    {
     "data": {
      "text/html": [
       "$$\\sin{\\left(\\frac{a b}{c^{2}} \\right)}$$"
      ],
      "text/plain": [
       "<IPython.core.display.HTML object>"
      ]
     },
     "metadata": {},
     "output_type": "display_data"
    },
    {
     "data": {
      "text/latex": [
       "$\\displaystyle \\sin{\\left(\\frac{a b}{c^{2}} \\right)}$"
      ],
      "text/plain": [
       "sin(a*b/c**2)"
      ]
     },
     "execution_count": 24,
     "metadata": {},
     "output_type": "execute_result"
    }
   ],
   "source": [
    "sp.var('a b c')\n",
    "sin(a*b/c**2,display_op=True)"
   ]
  },
  {
   "cell_type": "code",
   "execution_count": 25,
   "metadata": {},
   "outputs": [
    {
     "data": {
      "text/html": [
       "$$\\sin{\\left(t \\right)}=\\sin{\\left(a + \\frac{b}{c} \\right)}$$"
      ],
      "text/plain": [
       "<IPython.core.display.HTML object>"
      ]
     },
     "metadata": {},
     "output_type": "display_data"
    },
    {
     "data": {
      "text/latex": [
       "$\\displaystyle \\sin{\\left(a + \\frac{b}{c} \\right)}$"
      ],
      "text/plain": [
       "sin(a + b/c)"
      ]
     },
     "execution_count": 25,
     "metadata": {},
     "output_type": "execute_result"
    }
   ],
   "source": [
    "t=a+b/c\n",
    "sin(t,display_op=True)"
   ]
  },
  {
   "cell_type": "code",
   "execution_count": 26,
   "metadata": {},
   "outputs": [
    {
     "data": {
      "text/html": [
       "$$\\cos{\\left(t \\right)}=\\cos{\\left(a + \\frac{b}{c} \\right)}$$"
      ],
      "text/plain": [
       "<IPython.core.display.HTML object>"
      ]
     },
     "metadata": {},
     "output_type": "display_data"
    },
    {
     "data": {
      "text/latex": [
       "$\\displaystyle \\cos{\\left(a + \\frac{b}{c} \\right)}$"
      ],
      "text/plain": [
       "cos(a + b/c)"
      ]
     },
     "execution_count": 26,
     "metadata": {},
     "output_type": "execute_result"
    }
   ],
   "source": [
    "cos(t,display_op=True)"
   ]
  },
  {
   "cell_type": "code",
   "execution_count": 27,
   "metadata": {},
   "outputs": [
    {
     "data": {
      "text/html": [
       "$$\\tan{\\left(t \\right)}=\\tan{\\left(a + \\frac{b}{c} \\right)}$$"
      ],
      "text/plain": [
       "<IPython.core.display.HTML object>"
      ]
     },
     "metadata": {},
     "output_type": "display_data"
    },
    {
     "data": {
      "text/latex": [
       "$\\displaystyle \\tan{\\left(a + \\frac{b}{c} \\right)}$"
      ],
      "text/plain": [
       "tan(a + b/c)"
      ]
     },
     "execution_count": 27,
     "metadata": {},
     "output_type": "execute_result"
    }
   ],
   "source": [
    "tan(t,display_op=True)"
   ]
  },
  {
   "cell_type": "code",
   "execution_count": 28,
   "metadata": {},
   "outputs": [
    {
     "data": {
      "text/html": [
       "$$\\cot{\\left(t \\right)}=\\cot{\\left(a + \\frac{b}{c} \\right)}$$"
      ],
      "text/plain": [
       "<IPython.core.display.HTML object>"
      ]
     },
     "metadata": {},
     "output_type": "display_data"
    },
    {
     "data": {
      "text/latex": [
       "$\\displaystyle \\cot{\\left(a + \\frac{b}{c} \\right)}$"
      ],
      "text/plain": [
       "cot(a + b/c)"
      ]
     },
     "execution_count": 28,
     "metadata": {},
     "output_type": "execute_result"
    }
   ],
   "source": [
    "cot(t,display_op=True)"
   ]
  },
  {
   "cell_type": "code",
   "execution_count": 29,
   "metadata": {},
   "outputs": [
    {
     "data": {
      "text/html": [
       "$$e^{t}=e^{a + \\frac{b}{c}}$$"
      ],
      "text/plain": [
       "<IPython.core.display.HTML object>"
      ]
     },
     "metadata": {},
     "output_type": "display_data"
    },
    {
     "data": {
      "text/latex": [
       "$\\displaystyle e^{a + \\frac{b}{c}}$"
      ],
      "text/plain": [
       "exp(a + b/c)"
      ]
     },
     "execution_count": 29,
     "metadata": {},
     "output_type": "execute_result"
    }
   ],
   "source": [
    "exp(t,display_op=True)"
   ]
  },
  {
   "cell_type": "code",
   "execution_count": 30,
   "metadata": {},
   "outputs": [
    {
     "data": {
      "text/html": [
       "$$\\log{\\left(t \\right)}=\\log{\\left(a + \\frac{b}{c} \\right)}$$"
      ],
      "text/plain": [
       "<IPython.core.display.HTML object>"
      ]
     },
     "metadata": {},
     "output_type": "display_data"
    },
    {
     "data": {
      "text/latex": [
       "$\\displaystyle \\log{\\left(a + \\frac{b}{c} \\right)}$"
      ],
      "text/plain": [
       "log(a + b/c)"
      ]
     },
     "execution_count": 30,
     "metadata": {},
     "output_type": "execute_result"
    }
   ],
   "source": [
    "log(t,display_op=True)"
   ]
  },
  {
   "cell_type": "code",
   "execution_count": 19,
   "metadata": {},
   "outputs": [
    {
     "data": {
      "text/plain": [
       "['factorial',\n",
       " 'factorial2',\n",
       " 'rf',\n",
       " 'ff',\n",
       " 'binomial',\n",
       " 'RisingFactorial',\n",
       " 'FallingFactorial',\n",
       " 'subfactorial',\n",
       " 'carmichael',\n",
       " 'fibonacci',\n",
       " 'lucas',\n",
       " 'tribonacci',\n",
       " 'harmonic',\n",
       " 'bernoulli',\n",
       " 'bell',\n",
       " 'euler',\n",
       " 'catalan',\n",
       " 'genocchi',\n",
       " 'partition',\n",
       " 'sqrt',\n",
       " 'root',\n",
       " 'Min',\n",
       " 'Max',\n",
       " 'Id',\n",
       " 'real_root',\n",
       " 'cbrt',\n",
       " 're',\n",
       " 'im',\n",
       " 'sign',\n",
       " 'Abs',\n",
       " 'conjugate',\n",
       " 'arg',\n",
       " 'polar_lift',\n",
       " 'periodic_argument',\n",
       " 'unbranched_argument',\n",
       " 'principal_branch',\n",
       " 'transpose',\n",
       " 'adjoint',\n",
       " 'polarify',\n",
       " 'unpolarify',\n",
       " 'sin',\n",
       " 'cos',\n",
       " 'tan',\n",
       " 'sec',\n",
       " 'csc',\n",
       " 'cot',\n",
       " 'sinc',\n",
       " 'asin',\n",
       " 'acos',\n",
       " 'atan',\n",
       " 'asec',\n",
       " 'acsc',\n",
       " 'acot',\n",
       " 'atan2',\n",
       " 'exp_polar',\n",
       " 'exp',\n",
       " 'ln',\n",
       " 'log',\n",
       " 'LambertW',\n",
       " 'sinh',\n",
       " 'cosh',\n",
       " 'tanh',\n",
       " 'coth',\n",
       " 'sech',\n",
       " 'csch',\n",
       " 'asinh',\n",
       " 'acosh',\n",
       " 'atanh',\n",
       " 'acoth',\n",
       " 'asech',\n",
       " 'acsch',\n",
       " 'floor',\n",
       " 'ceiling',\n",
       " 'frac',\n",
       " 'Piecewise',\n",
       " 'piecewise_fold',\n",
       " 'erf',\n",
       " 'erfc',\n",
       " 'erfi',\n",
       " 'erf2',\n",
       " 'erfinv',\n",
       " 'erfcinv',\n",
       " 'erf2inv',\n",
       " 'Ei',\n",
       " 'expint',\n",
       " 'E1',\n",
       " 'li',\n",
       " 'Li',\n",
       " 'Si',\n",
       " 'Ci',\n",
       " 'Shi',\n",
       " 'Chi',\n",
       " 'fresnels',\n",
       " 'fresnelc',\n",
       " 'gamma',\n",
       " 'lowergamma',\n",
       " 'uppergamma',\n",
       " 'polygamma',\n",
       " 'loggamma',\n",
       " 'digamma',\n",
       " 'trigamma',\n",
       " 'multigamma',\n",
       " 'dirichlet_eta',\n",
       " 'zeta',\n",
       " 'lerchphi',\n",
       " 'polylog',\n",
       " 'stieltjes',\n",
       " 'Eijk',\n",
       " 'LeviCivita',\n",
       " 'KroneckerDelta',\n",
       " 'SingularityFunction',\n",
       " 'DiracDelta',\n",
       " 'Heaviside',\n",
       " 'bspline_basis',\n",
       " 'bspline_basis_set',\n",
       " 'interpolating_spline',\n",
       " 'besselj',\n",
       " 'bessely',\n",
       " 'besseli',\n",
       " 'besselk',\n",
       " 'hankel1',\n",
       " 'hankel2',\n",
       " 'jn',\n",
       " 'yn',\n",
       " 'jn_zeros',\n",
       " 'hn1',\n",
       " 'hn2',\n",
       " 'airyai',\n",
       " 'airybi',\n",
       " 'airyaiprime',\n",
       " 'airybiprime',\n",
       " 'marcumq',\n",
       " 'hyper',\n",
       " 'meijerg',\n",
       " 'appellf1',\n",
       " 'legendre',\n",
       " 'assoc_legendre',\n",
       " 'hermite',\n",
       " 'chebyshevt',\n",
       " 'chebyshevu',\n",
       " 'chebyshevu_root',\n",
       " 'chebyshevt_root',\n",
       " 'laguerre',\n",
       " 'assoc_laguerre',\n",
       " 'gegenbauer',\n",
       " 'jacobi',\n",
       " 'jacobi_normalized',\n",
       " 'Ynm',\n",
       " 'Ynm_c',\n",
       " 'Znm',\n",
       " 'elliptic_k',\n",
       " 'elliptic_f',\n",
       " 'elliptic_e',\n",
       " 'elliptic_pi',\n",
       " 'beta',\n",
       " 'mathieus',\n",
       " 'mathieuc',\n",
       " 'mathieusprime',\n",
       " 'mathieucprime']"
      ]
     },
     "execution_count": 19,
     "metadata": {},
     "output_type": "execute_result"
    }
   ],
   "source": [
    "sp.functions.__all__"
   ]
  },
  {
   "cell_type": "code",
   "execution_count": 32,
   "metadata": {},
   "outputs": [
    {
     "data": {
      "text/latex": [
       "$\\displaystyle L_{a + \\frac{b}{c}}\\left(3\\right)$"
      ],
      "text/plain": [
       "laguerre(a + b/c, 3)"
      ]
     },
     "execution_count": 32,
     "metadata": {},
     "output_type": "execute_result"
    }
   ],
   "source": [
    "laguerre(t,3)"
   ]
  },
  {
   "cell_type": "code",
   "execution_count": null,
   "metadata": {},
   "outputs": [],
   "source": []
  }
 ],
 "metadata": {
  "kernelspec": {
   "display_name": "Python 3",
   "language": "python",
   "name": "python3"
  },
  "language_info": {
   "codemirror_mode": {
    "name": "ipython",
    "version": 3
   },
   "file_extension": ".py",
   "mimetype": "text/x-python",
   "name": "python",
   "nbconvert_exporter": "python",
   "pygments_lexer": "ipython3",
   "version": "3.6.9"
  }
 },
 "nbformat": 4,
 "nbformat_minor": 4
}
