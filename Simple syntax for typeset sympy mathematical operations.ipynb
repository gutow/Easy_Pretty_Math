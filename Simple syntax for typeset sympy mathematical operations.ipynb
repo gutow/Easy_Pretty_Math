{
 "cells": [
  {
   "cell_type": "code",
   "execution_count": 12,
   "metadata": {},
   "outputs": [],
   "source": [
    "from IPython.display import HTML as html\n",
    "from IPython.display import display\n",
    "import sympy as sp\n",
    "import inspect\n",
    "\n",
    "def retrieve_name(var):\n",
    "    callers_local_vars = inspect.currentframe().f_back.f_back.f_locals.items()\n",
    "    string_name = ''\n",
    "    for var_name, var_val in callers_local_vars:\n",
    "        if (var_val is var) and not (var_name.startswith('_')):\n",
    "            string_name = var_name\n",
    "    #return ([var_name for var_name, var_val in callers_local_vars if var_val is var],string_name)\n",
    "    return string_name\n",
    "\n",
    "def dmo(*exprs,**kwarg): #Display math operation\n",
    "    '''\n",
    "    Pass one of:\n",
    "    *exprs:     any valid symbolic math expression or function call (e.g. 2*x, sin(2*x)).\n",
    "    **kwarg:    any valid symbol equal to an expression or function call (e.g. P=n*R*T/V,\n",
    "                r=sin(theta)). This must be the first item with an equal sign appearing\n",
    "                in the list of arguments.\n",
    "                \n",
    "                additionally you can add these options:\n",
    "                code=True, if you want the code version of the evaluated expression to\n",
    "                    appear in the cell output. Useful if you want to copy and edit into\n",
    "                    another code cell.\n",
    "    \n",
    "    In an IPython/Jupyter notebook will display a typeset version of the operation and return\n",
    "    the expression to the namespace for further operations. The function tries to identify\n",
    "    the actual string (name) passed for the expression and output the typeset expression \n",
    "    `name=result of the operation`. If it cannot identify the actual string passed it just\n",
    "    outputs the typeset result of the operation.\n",
    "    \n",
    "    J. Gutow May 2020.\n",
    "    '''\n",
    "    code = kwarg.pop('code', None)\n",
    "    expr=None\n",
    "    if(len(exprs) >= 1):\n",
    "        expr = exprs[0] #ignore others.\n",
    "        namestr=retrieve_name(expr)\n",
    "        if (namestr==''):\n",
    "            display(html(r'$'+sp.latex(expr)+'$'))\n",
    "        else:\n",
    "            display(html(r'$'+namestr+'='+sp.latex(expr)+'$'))\n",
    "    else:\n",
    "        key = list(kwarg)[0] #ignore all but first.\n",
    "        expr = kwarg[key]\n",
    "        display(html(r'$'+(key)+'='+sp.latex(expr)+'$'))\n",
    "        globals()[key]=expr #inject into namespace.\n",
    "    globals()['_']=expr #inject into last result\n",
    "    if (code):\n",
    "        return(expr)\n",
    "    pass"
   ]
  },
  {
   "cell_type": "code",
   "execution_count": 13,
   "metadata": {},
   "outputs": [
    {
     "data": {
      "text/html": [
       "$p=\\frac{b \\psi}{c}$"
      ],
      "text/plain": [
       "<IPython.core.display.HTML object>"
      ]
     },
     "metadata": {},
     "output_type": "display_data"
    }
   ],
   "source": [
    "sp.var('a b c theta psi')\n",
    "dmo(p=psi*b/c)"
   ]
  },
  {
   "cell_type": "code",
   "execution_count": 14,
   "metadata": {},
   "outputs": [
    {
     "data": {
      "text/plain": [
       "b*psi/c"
      ]
     },
     "execution_count": 14,
     "metadata": {},
     "output_type": "execute_result"
    }
   ],
   "source": [
    "_"
   ]
  },
  {
   "cell_type": "code",
   "execution_count": 15,
   "metadata": {},
   "outputs": [
    {
     "data": {
      "text/html": [
       "$M=\\left[\\begin{matrix}1 & 2\\\\3 & 4\\end{matrix}\\right]$"
      ],
      "text/plain": [
       "<IPython.core.display.HTML object>"
      ]
     },
     "metadata": {},
     "output_type": "display_data"
    },
    {
     "data": {
      "text/plain": [
       "Matrix([\n",
       "[1, 2],\n",
       "[3, 4]])"
      ]
     },
     "execution_count": 15,
     "metadata": {},
     "output_type": "execute_result"
    }
   ],
   "source": [
    "dmo(M=sp.Matrix([[1,2],[3,4]]),code=True)"
   ]
  },
  {
   "cell_type": "code",
   "execution_count": 16,
   "metadata": {},
   "outputs": [
    {
     "data": {
      "text/html": [
       "$M=\\left[\\begin{matrix}1 & 2\\\\3 & 4\\end{matrix}\\right]$"
      ],
      "text/plain": [
       "<IPython.core.display.HTML object>"
      ]
     },
     "metadata": {},
     "output_type": "display_data"
    }
   ],
   "source": [
    "dmo(M)"
   ]
  },
  {
   "cell_type": "code",
   "execution_count": 17,
   "metadata": {},
   "outputs": [
    {
     "data": {
      "text/html": [
       "$T=\\left[\\begin{matrix}1 & 3\\\\2 & 4\\end{matrix}\\right]$"
      ],
      "text/plain": [
       "<IPython.core.display.HTML object>"
      ]
     },
     "metadata": {},
     "output_type": "display_data"
    }
   ],
   "source": [
    "dmo(T=M.transpose())"
   ]
  },
  {
   "cell_type": "code",
   "execution_count": 18,
   "metadata": {},
   "outputs": [
    {
     "data": {
      "text/html": [
       "$Meigvals=\\left \\{ \\frac{5}{2} + \\frac{\\sqrt{33}}{2} : 1, \\quad - \\frac{\\sqrt{33}}{2} + \\frac{5}{2} : 1\\right \\}$"
      ],
      "text/plain": [
       "<IPython.core.display.HTML object>"
      ]
     },
     "metadata": {},
     "output_type": "display_data"
    },
    {
     "data": {
      "text/html": [
       "$Meigvecs=\\left [ \\left ( \\frac{5}{2} + \\frac{\\sqrt{33}}{2}, \\quad 1, \\quad \\left [ \\left[\\begin{matrix}- \\frac{2}{- \\frac{\\sqrt{33}}{2} - \\frac{3}{2}}\\\\1\\end{matrix}\\right]\\right ]\\right ), \\quad \\left ( - \\frac{\\sqrt{33}}{2} + \\frac{5}{2}, \\quad 1, \\quad \\left [ \\left[\\begin{matrix}- \\frac{2}{- \\frac{3}{2} + \\frac{\\sqrt{33}}{2}}\\\\1\\end{matrix}\\right]\\right ]\\right )\\right ]$"
      ],
      "text/plain": [
       "<IPython.core.display.HTML object>"
      ]
     },
     "metadata": {},
     "output_type": "display_data"
    }
   ],
   "source": [
    "dmo(Meigvals=M.eigenvals())\n",
    "dmo(Meigvecs=M.eigenvects())"
   ]
  },
  {
   "cell_type": "code",
   "execution_count": 19,
   "metadata": {},
   "outputs": [
    {
     "data": {
      "text/html": [
       "$b c$"
      ],
      "text/plain": [
       "<IPython.core.display.HTML object>"
      ]
     },
     "metadata": {},
     "output_type": "display_data"
    }
   ],
   "source": [
    "dmo(b*c)"
   ]
  },
  {
   "cell_type": "code",
   "execution_count": 20,
   "metadata": {},
   "outputs": [
    {
     "data": {
      "text/html": [
       "$q=e^{- \\frac{\\theta^{2}}{b}}$"
      ],
      "text/plain": [
       "<IPython.core.display.HTML object>"
      ]
     },
     "metadata": {},
     "output_type": "display_data"
    }
   ],
   "source": [
    "dmo(q=sp.exp(-theta**2/b))"
   ]
  },
  {
   "cell_type": "code",
   "execution_count": 21,
   "metadata": {},
   "outputs": [
    {
     "data": {
      "text/html": [
       "$r=\\sin{\\left (\\frac{\\pi a}{c} \\right )}$"
      ],
      "text/plain": [
       "<IPython.core.display.HTML object>"
      ]
     },
     "metadata": {},
     "output_type": "display_data"
    }
   ],
   "source": [
    "dmo(r=sp.sin(a*sp.pi/c))"
   ]
  },
  {
   "cell_type": "code",
   "execution_count": 22,
   "metadata": {},
   "outputs": [
    {
     "data": {
      "text/html": [
       "$- \\frac{\\pi a \\cos{\\left (\\frac{\\pi a}{c} \\right )}}{c^{2}}$"
      ],
      "text/plain": [
       "<IPython.core.display.HTML object>"
      ]
     },
     "metadata": {},
     "output_type": "display_data"
    },
    {
     "data": {
      "text/html": [
       "$drdc=- \\frac{\\pi a \\cos{\\left (\\frac{\\pi a}{c} \\right )}}{c^{2}}$"
      ],
      "text/plain": [
       "<IPython.core.display.HTML object>"
      ]
     },
     "metadata": {},
     "output_type": "display_data"
    }
   ],
   "source": [
    "dmo(sp.diff(r,c))\n",
    "dmo(drdc = sp.diff(r,c))"
   ]
  },
  {
   "cell_type": "code",
   "execution_count": 23,
   "metadata": {},
   "outputs": [
    {
     "data": {
      "text/html": [
       "$d2rdcda=\\frac{\\pi^{2} a \\sin{\\left (\\frac{\\pi a}{c} \\right )}}{c^{3}} - \\frac{\\pi \\cos{\\left (\\frac{\\pi a}{c} \\right )}}{c^{2}}$"
      ],
      "text/plain": [
       "<IPython.core.display.HTML object>"
      ]
     },
     "metadata": {},
     "output_type": "display_data"
    }
   ],
   "source": [
    "dmo(d2rdcda=sp.diff(drdc,a))"
   ]
  },
  {
   "cell_type": "code",
   "execution_count": 24,
   "metadata": {},
   "outputs": [
    {
     "data": {
      "text/html": [
       "$psi=e^{- i b}$"
      ],
      "text/plain": [
       "<IPython.core.display.HTML object>"
      ]
     },
     "metadata": {},
     "output_type": "display_data"
    }
   ],
   "source": [
    "dmo(psi=sp.exp(-sp.I*b))"
   ]
  },
  {
   "cell_type": "code",
   "execution_count": 29,
   "metadata": {},
   "outputs": [
    {
     "data": {
      "text/html": [
       "$psi=e^{- i b}$"
      ],
      "text/plain": [
       "<IPython.core.display.HTML object>"
      ]
     },
     "metadata": {},
     "output_type": "display_data"
    }
   ],
   "source": [
    "dmo(psi)"
   ]
  },
  {
   "cell_type": "code",
   "execution_count": 25,
   "metadata": {},
   "outputs": [
    {
     "data": {
      "text/html": [
       "$psi1=-0.7027 - 0.7115 i$"
      ],
      "text/plain": [
       "<IPython.core.display.HTML object>"
      ]
     },
     "metadata": {},
     "output_type": "display_data"
    }
   ],
   "source": [
    "dmo(psi1=psi.evalf(4,subs={b:2.35}))"
   ]
  },
  {
   "cell_type": "code",
   "execution_count": 28,
   "metadata": {},
   "outputs": [
    {
     "data": {
      "text/html": [
       "$psi1=-0.7027 - 0.7115 i$"
      ],
      "text/plain": [
       "<IPython.core.display.HTML object>"
      ]
     },
     "metadata": {},
     "output_type": "display_data"
    }
   ],
   "source": [
    "dmo(psi1)"
   ]
  },
  {
   "cell_type": "code",
   "execution_count": 27,
   "metadata": {},
   "outputs": [
    {
     "data": {
      "text/plain": [
       "-0.7027 - 0.7115*I"
      ]
     },
     "execution_count": 27,
     "metadata": {},
     "output_type": "execute_result"
    }
   ],
   "source": [
    "_"
   ]
  },
  {
   "cell_type": "code",
   "execution_count": 16,
   "metadata": {},
   "outputs": [
    {
     "data": {
      "text/plain": [
       "x"
      ]
     },
     "metadata": {},
     "output_type": "display_data"
    },
    {
     "data": {
      "text/latex": [
       "$$\\int e^{x} \\cos{\\left (x \\right )}\\, dx = \\frac{e^{x} \\sin{\\left (x \\right )}}{2} + \\frac{e^{x} \\cos{\\left (x \\right )}}{2}$$"
      ],
      "text/plain": [
       "<IPython.core.display.Latex object>"
      ]
     },
     "metadata": {},
     "output_type": "display_data"
    },
    {
     "data": {
      "text/latex": [
       "$\\frac{d}{d x} e^{x} \\cos{\\left (x \\right )} = - e^{x} \\sin{\\left (x \\right )} + e^{x} \\cos{\\left (x \\right )}$"
      ],
      "text/plain": [
       "<IPython.core.display.Latex object>"
      ]
     },
     "metadata": {},
     "output_type": "display_data"
    }
   ],
   "source": [
    "#alternative that works for derivatives and integrals using special sympy builtins..\n",
    "from IPython.display import display, Latex\n",
    "from sympy import *\n",
    "\n",
    "x = symbols('x')\n",
    "display(x)\n",
    "\n",
    "int_x = Integral(cos(x)*exp(x), x)\n",
    "result = \"$${} = {}$$\".format(latex(int_x), latex(int_x.doit()))\n",
    "display(Latex(result))\n",
    "\n",
    "derv_x = Derivative(cos(x)*exp(x), x)\n",
    "result = \"${} = {}$\".format(latex(derv_x), latex(derv_x.doit()))\n",
    "display(Latex(result))"
   ]
  },
  {
   "cell_type": "code",
   "execution_count": 1,
   "metadata": {},
   "outputs": [
    {
     "ename": "TypeError",
     "evalue": "pretty_print() got an unexpected keyword argument 'ppd'",
     "output_type": "error",
     "traceback": [
      "\u001b[0;31m---------------------------------------------------------------------------\u001b[0m",
      "\u001b[0;31mTypeError\u001b[0m                                 Traceback (most recent call last)",
      "\u001b[0;32m<ipython-input-1-96cf5b2ff64f>\u001b[0m in \u001b[0;36m<module>\u001b[0;34m()\u001b[0m\n\u001b[1;32m      2\u001b[0m \u001b[0;32mfrom\u001b[0m \u001b[0msympy\u001b[0m \u001b[0;32mimport\u001b[0m \u001b[0;34m*\u001b[0m\u001b[0;34m\u001b[0m\u001b[0m\n\u001b[1;32m      3\u001b[0m \u001b[0mvar\u001b[0m\u001b[0;34m(\u001b[0m\u001b[0;34m'ppa ppb ppc'\u001b[0m\u001b[0;34m)\u001b[0m\u001b[0;34m\u001b[0m\u001b[0m\n\u001b[0;32m----> 4\u001b[0;31m \u001b[0mpretty_print\u001b[0m\u001b[0;34m(\u001b[0m\u001b[0mppd\u001b[0m\u001b[0;34m=\u001b[0m\u001b[0mppa\u001b[0m\u001b[0;34m*\u001b[0m\u001b[0mppb\u001b[0m\u001b[0;34m/\u001b[0m\u001b[0mppc\u001b[0m\u001b[0;34m)\u001b[0m\u001b[0;34m\u001b[0m\u001b[0m\n\u001b[0m",
      "\u001b[0;31mTypeError\u001b[0m: pretty_print() got an unexpected keyword argument 'ppd'"
     ]
    }
   ],
   "source": [
    "# abuse of pretty_print. It does not handle what dmo does.\n",
    "from sympy import *\n",
    "var('ppa ppb ppc')\n",
    "pretty_print(ppd=ppa*ppb/ppc)"
   ]
  },
  {
   "cell_type": "code",
   "execution_count": 3,
   "metadata": {},
   "outputs": [
    {
     "data": {
      "text/html": [
       "$ppd=\\frac{ppa ppb}{ppc}$"
      ],
      "text/plain": [
       "<IPython.core.display.HTML object>"
      ]
     },
     "metadata": {},
     "output_type": "display_data"
    }
   ],
   "source": [
    "dmo(ppd=ppa*ppb/ppc)"
   ]
  },
  {
   "cell_type": "code",
   "execution_count": 4,
   "metadata": {},
   "outputs": [
    {
     "data": {
      "text/plain": [
       "'e^{- 2.75 i}'"
      ]
     },
     "execution_count": 4,
     "metadata": {},
     "output_type": "execute_result"
    }
   ],
   "source": [
    "latex(exp(-I*2.75))"
   ]
  },
  {
   "cell_type": "code",
   "execution_count": 10,
   "metadata": {},
   "outputs": [
    {
     "data": {
      "text/html": [
       "$e^{- \\frac{1.375 i}{ppb}}$"
      ],
      "text/plain": [
       "<IPython.core.display.HTML object>"
      ]
     },
     "metadata": {},
     "output_type": "display_data"
    }
   ],
   "source": [
    "display(html('$'+latex(exp(-I*2.75/ppb/2))+'$'))"
   ]
  },
  {
   "cell_type": "code",
   "execution_count": 8,
   "metadata": {},
   "outputs": [
    {
     "data": {
      "text/html": [
       "$0$"
      ],
      "text/plain": [
       "<IPython.core.display.HTML object>"
      ]
     },
     "metadata": {},
     "output_type": "display_data"
    }
   ],
   "source": [
    "display(html('$'+latex(diff(ppa,ppb))+'$'))"
   ]
  },
  {
   "cell_type": "code",
   "execution_count": 11,
   "metadata": {},
   "outputs": [],
   "source": [
    "latex?"
   ]
  },
  {
   "cell_type": "code",
   "execution_count": null,
   "metadata": {},
   "outputs": [],
   "source": []
  }
 ],
 "metadata": {
  "kernelspec": {
   "display_name": "Python 2",
   "language": "python",
   "name": "python2"
  },
  "language_info": {
   "codemirror_mode": {
    "name": "ipython",
    "version": 2
   },
   "file_extension": ".py",
   "mimetype": "text/x-python",
   "name": "python",
   "nbconvert_exporter": "python",
   "pygments_lexer": "ipython2",
   "version": "2.7.15"
  }
 },
 "nbformat": 4,
 "nbformat_minor": 2
}
