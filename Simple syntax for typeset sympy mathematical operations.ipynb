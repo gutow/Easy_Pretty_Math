{
 "cells": [
  {
   "cell_type": "code",
   "execution_count": 1,
   "metadata": {},
   "outputs": [],
   "source": [
    "from IPython.display import HTML as html\n",
    "from IPython.display import display\n",
    "import sympy as sp\n",
    "\n",
    "def dmo(*exprs,**kwarg): #Display math operation\n",
    "    '''\n",
    "    Pass one of:\n",
    "    *exprs:     any valid symbolic math expression or function call (e.g. 2*x, sin(2*x)).\n",
    "    **kwarg:    any valid symbol equal to an expression or function call (e.g. P=n*R*T/V,\n",
    "                r=sin(theta)).\n",
    "    \n",
    "    In an IPython/Jupyter notebook will display a typeset version of the operation and return\n",
    "    the expression to the namespace for further operations.\n",
    "    '''\n",
    "    expr=None\n",
    "    if(len(exprs) >= 1):\n",
    "        expr = exprs[0] #ignore others.\n",
    "        display(html(r'$'+sp.latex(expr)+'$'))\n",
    "    else:\n",
    "        key = list(kwarg)[0] #ignore all but first.\n",
    "        expr = kwarg[key]\n",
    "        display(html(r'$'+(key)+'='+sp.latex(expr)+'$'))\n",
    "        globals()[key]=expr #inject into namespace.\n",
    "    globals()['_']=expr #inject into last result\n",
    "    #return(expr)\n",
    "    pass"
   ]
  },
  {
   "cell_type": "code",
   "execution_count": 2,
   "metadata": {},
   "outputs": [
    {
     "data": {
      "text/html": [
       "$p=\\frac{b \\psi}{c}$"
      ],
      "text/plain": [
       "<IPython.core.display.HTML object>"
      ]
     },
     "metadata": {},
     "output_type": "display_data"
    }
   ],
   "source": [
    "sp.var('a b c theta psi')\n",
    "dmo(p=psi*b/c)"
   ]
  },
  {
   "cell_type": "code",
   "execution_count": 3,
   "metadata": {},
   "outputs": [
    {
     "data": {
      "text/plain": [
       "b*psi/c"
      ]
     },
     "execution_count": 3,
     "metadata": {},
     "output_type": "execute_result"
    }
   ],
   "source": [
    "_"
   ]
  },
  {
   "cell_type": "code",
   "execution_count": 4,
   "metadata": {},
   "outputs": [
    {
     "data": {
      "text/html": [
       "$M=\\left[\\begin{matrix}1 & 2\\\\3 & 4\\end{matrix}\\right]$"
      ],
      "text/plain": [
       "<IPython.core.display.HTML object>"
      ]
     },
     "metadata": {},
     "output_type": "display_data"
    }
   ],
   "source": [
    "dmo(M=sp.Matrix([[1,2],[3,4]]))"
   ]
  },
  {
   "cell_type": "code",
   "execution_count": 5,
   "metadata": {},
   "outputs": [
    {
     "data": {
      "text/html": [
       "$T=\\left[\\begin{matrix}1 & 3\\\\2 & 4\\end{matrix}\\right]$"
      ],
      "text/plain": [
       "<IPython.core.display.HTML object>"
      ]
     },
     "metadata": {},
     "output_type": "display_data"
    }
   ],
   "source": [
    "dmo(T=M.transpose())"
   ]
  },
  {
   "cell_type": "code",
   "execution_count": 6,
   "metadata": {},
   "outputs": [
    {
     "data": {
      "text/html": [
       "$Meigvals=\\left \\{ \\frac{5}{2} + \\frac{\\sqrt{33}}{2} : 1, \\quad - \\frac{\\sqrt{33}}{2} + \\frac{5}{2} : 1\\right \\}$"
      ],
      "text/plain": [
       "<IPython.core.display.HTML object>"
      ]
     },
     "metadata": {},
     "output_type": "display_data"
    },
    {
     "data": {
      "text/html": [
       "$Meigvecs=\\left [ \\left ( \\frac{5}{2} + \\frac{\\sqrt{33}}{2}, \\quad 1, \\quad \\left [ \\left[\\begin{matrix}- \\frac{2}{- \\frac{\\sqrt{33}}{2} - \\frac{3}{2}}\\\\1\\end{matrix}\\right]\\right ]\\right ), \\quad \\left ( - \\frac{\\sqrt{33}}{2} + \\frac{5}{2}, \\quad 1, \\quad \\left [ \\left[\\begin{matrix}- \\frac{2}{- \\frac{3}{2} + \\frac{\\sqrt{33}}{2}}\\\\1\\end{matrix}\\right]\\right ]\\right )\\right ]$"
      ],
      "text/plain": [
       "<IPython.core.display.HTML object>"
      ]
     },
     "metadata": {},
     "output_type": "display_data"
    }
   ],
   "source": [
    "dmo(Meigvals=M.eigenvals())\n",
    "dmo(Meigvecs=M.eigenvects())"
   ]
  },
  {
   "cell_type": "code",
   "execution_count": 7,
   "metadata": {},
   "outputs": [
    {
     "data": {
      "text/html": [
       "$b c$"
      ],
      "text/plain": [
       "<IPython.core.display.HTML object>"
      ]
     },
     "metadata": {},
     "output_type": "display_data"
    }
   ],
   "source": [
    "dmo(b*c)"
   ]
  },
  {
   "cell_type": "code",
   "execution_count": 8,
   "metadata": {},
   "outputs": [
    {
     "data": {
      "text/html": [
       "$q=e^{- \\frac{\\theta^{2}}{b}}$"
      ],
      "text/plain": [
       "<IPython.core.display.HTML object>"
      ]
     },
     "metadata": {},
     "output_type": "display_data"
    }
   ],
   "source": [
    "dmo(q=sp.exp(-theta**2/b))"
   ]
  },
  {
   "cell_type": "code",
   "execution_count": 9,
   "metadata": {},
   "outputs": [
    {
     "data": {
      "text/html": [
       "$r=\\sin{\\left (\\frac{\\pi a}{c} \\right )}$"
      ],
      "text/plain": [
       "<IPython.core.display.HTML object>"
      ]
     },
     "metadata": {},
     "output_type": "display_data"
    }
   ],
   "source": [
    "dmo(r=sp.sin(a*sp.pi/c))"
   ]
  },
  {
   "cell_type": "code",
   "execution_count": 10,
   "metadata": {},
   "outputs": [
    {
     "data": {
      "text/html": [
       "$- \\frac{\\pi a \\cos{\\left (\\frac{\\pi a}{c} \\right )}}{c^{2}}$"
      ],
      "text/plain": [
       "<IPython.core.display.HTML object>"
      ]
     },
     "metadata": {},
     "output_type": "display_data"
    },
    {
     "data": {
      "text/html": [
       "$drdc=- \\frac{\\pi a \\cos{\\left (\\frac{\\pi a}{c} \\right )}}{c^{2}}$"
      ],
      "text/plain": [
       "<IPython.core.display.HTML object>"
      ]
     },
     "metadata": {},
     "output_type": "display_data"
    }
   ],
   "source": [
    "dmo(sp.diff(r,c))\n",
    "dmo(drdc = sp.diff(r,c))"
   ]
  },
  {
   "cell_type": "code",
   "execution_count": 11,
   "metadata": {},
   "outputs": [
    {
     "data": {
      "text/html": [
       "$d2rdcda=\\frac{\\pi^{2} a \\sin{\\left (\\frac{\\pi a}{c} \\right )}}{c^{3}} - \\frac{\\pi \\cos{\\left (\\frac{\\pi a}{c} \\right )}}{c^{2}}$"
      ],
      "text/plain": [
       "<IPython.core.display.HTML object>"
      ]
     },
     "metadata": {},
     "output_type": "display_data"
    }
   ],
   "source": [
    "dmo(d2rdcda=sp.diff(drdc,a))"
   ]
  },
  {
   "cell_type": "code",
   "execution_count": 12,
   "metadata": {},
   "outputs": [
    {
     "data": {
      "text/html": [
       "$psi=e^{- i b}$"
      ],
      "text/plain": [
       "<IPython.core.display.HTML object>"
      ]
     },
     "metadata": {},
     "output_type": "display_data"
    }
   ],
   "source": [
    "dmo(psi=sp.exp(-sp.I*b))"
   ]
  },
  {
   "cell_type": "code",
   "execution_count": 13,
   "metadata": {},
   "outputs": [
    {
     "data": {
      "text/html": [
       "$psi1=-0.7027 - 0.7115 i$"
      ],
      "text/plain": [
       "<IPython.core.display.HTML object>"
      ]
     },
     "metadata": {},
     "output_type": "display_data"
    }
   ],
   "source": [
    "dmo(psi1=psi.evalf(4,subs={b:2.35}))"
   ]
  },
  {
   "cell_type": "code",
   "execution_count": 14,
   "metadata": {},
   "outputs": [
    {
     "data": {
      "text/plain": [
       "-0.7027 - 0.7115*I"
      ]
     },
     "execution_count": 14,
     "metadata": {},
     "output_type": "execute_result"
    }
   ],
   "source": [
    "psi1"
   ]
  },
  {
   "cell_type": "code",
   "execution_count": 15,
   "metadata": {},
   "outputs": [
    {
     "data": {
      "text/plain": [
       "-0.7027 - 0.7115*I"
      ]
     },
     "execution_count": 15,
     "metadata": {},
     "output_type": "execute_result"
    }
   ],
   "source": [
    "_"
   ]
  },
  {
   "cell_type": "code",
   "execution_count": 16,
   "metadata": {},
   "outputs": [
    {
     "data": {
      "text/plain": [
       "x"
      ]
     },
     "metadata": {},
     "output_type": "display_data"
    },
    {
     "data": {
      "text/latex": [
       "$$\\int e^{x} \\cos{\\left (x \\right )}\\, dx = \\frac{e^{x} \\sin{\\left (x \\right )}}{2} + \\frac{e^{x} \\cos{\\left (x \\right )}}{2}$$"
      ],
      "text/plain": [
       "<IPython.core.display.Latex object>"
      ]
     },
     "metadata": {},
     "output_type": "display_data"
    },
    {
     "data": {
      "text/latex": [
       "$\\frac{d}{d x} e^{x} \\cos{\\left (x \\right )} = - e^{x} \\sin{\\left (x \\right )} + e^{x} \\cos{\\left (x \\right )}$"
      ],
      "text/plain": [
       "<IPython.core.display.Latex object>"
      ]
     },
     "metadata": {},
     "output_type": "display_data"
    }
   ],
   "source": [
    "#alternative that works for derivatives and integrals using special sympy builtins..\n",
    "from IPython.display import display, Latex\n",
    "from sympy import *\n",
    "\n",
    "x = symbols('x')\n",
    "display(x)\n",
    "\n",
    "int_x = Integral(cos(x)*exp(x), x)\n",
    "result = \"$${} = {}$$\".format(latex(int_x), latex(int_x.doit()))\n",
    "display(Latex(result))\n",
    "\n",
    "derv_x = Derivative(cos(x)*exp(x), x)\n",
    "result = \"${} = {}$\".format(latex(derv_x), latex(derv_x.doit()))\n",
    "display(Latex(result))"
   ]
  },
  {
   "cell_type": "code",
   "execution_count": null,
   "metadata": {},
   "outputs": [],
   "source": []
  }
 ],
 "metadata": {
  "kernelspec": {
   "display_name": "Python 2",
   "language": "python",
   "name": "python2"
  },
  "language_info": {
   "codemirror_mode": {
    "name": "ipython",
    "version": 2
   },
   "file_extension": ".py",
   "mimetype": "text/x-python",
   "name": "python",
   "nbconvert_exporter": "python",
   "pygments_lexer": "ipython2",
   "version": "2.7.15"
  }
 },
 "nbformat": 4,
 "nbformat_minor": 2
}
